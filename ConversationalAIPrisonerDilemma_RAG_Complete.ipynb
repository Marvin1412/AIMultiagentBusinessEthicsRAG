{
 "cells": [
  {
   "cell_type": "markdown",
   "id": "24252788",
   "metadata": {
    "id": "24252788"
   },
   "source": [
    "## Installation der benötigten Pakete"
   ]
  },
  {
   "cell_type": "code",
   "execution_count": null,
   "id": "83517dc7",
   "metadata": {
    "colab": {
     "base_uri": "https://localhost:8080/"
    },
    "id": "83517dc7",
    "outputId": "22f1ad01-03cf-42f6-c5b5-96ee3cfb0a6d"
   },
   "outputs": [
    {
     "name": "stdout",
     "output_type": "stream",
     "text": [
      "Collecting faiss-cpu\n",
      "  Downloading faiss_cpu-1.11.0-cp311-cp311-manylinux_2_28_x86_64.whl.metadata (4.8 kB)\n",
      "Requirement already satisfied: transformers in /usr/local/lib/python3.11/dist-packages (4.52.4)\n",
      "Requirement already satisfied: torch in /usr/local/lib/python3.11/dist-packages (2.6.0+cu124)\n",
      "Requirement already satisfied: scikit-learn in /usr/local/lib/python3.11/dist-packages (1.6.1)\n",
      "Requirement already satisfied: numpy<3.0,>=1.25.0 in /usr/local/lib/python3.11/dist-packages (from faiss-cpu) (2.0.2)\n",
      "Requirement already satisfied: packaging in /usr/local/lib/python3.11/dist-packages (from faiss-cpu) (24.2)\n",
      "Requirement already satisfied: filelock in /usr/local/lib/python3.11/dist-packages (from transformers) (3.18.0)\n",
      "Requirement already satisfied: huggingface-hub<1.0,>=0.30.0 in /usr/local/lib/python3.11/dist-packages (from transformers) (0.32.4)\n",
      "Requirement already satisfied: pyyaml>=5.1 in /usr/local/lib/python3.11/dist-packages (from transformers) (6.0.2)\n",
      "Requirement already satisfied: regex!=2019.12.17 in /usr/local/lib/python3.11/dist-packages (from transformers) (2024.11.6)\n",
      "Requirement already satisfied: requests in /usr/local/lib/python3.11/dist-packages (from transformers) (2.32.3)\n",
      "Requirement already satisfied: tokenizers<0.22,>=0.21 in /usr/local/lib/python3.11/dist-packages (from transformers) (0.21.1)\n",
      "Requirement already satisfied: safetensors>=0.4.3 in /usr/local/lib/python3.11/dist-packages (from transformers) (0.5.3)\n",
      "Requirement already satisfied: tqdm>=4.27 in /usr/local/lib/python3.11/dist-packages (from transformers) (4.67.1)\n",
      "Requirement already satisfied: typing-extensions>=4.10.0 in /usr/local/lib/python3.11/dist-packages (from torch) (4.14.0)\n",
      "Requirement already satisfied: networkx in /usr/local/lib/python3.11/dist-packages (from torch) (3.5)\n",
      "Requirement already satisfied: jinja2 in /usr/local/lib/python3.11/dist-packages (from torch) (3.1.6)\n",
      "Requirement already satisfied: fsspec in /usr/local/lib/python3.11/dist-packages (from torch) (2025.3.2)\n",
      "Collecting nvidia-cuda-nvrtc-cu12==12.4.127 (from torch)\n",
      "  Downloading nvidia_cuda_nvrtc_cu12-12.4.127-py3-none-manylinux2014_x86_64.whl.metadata (1.5 kB)\n",
      "Collecting nvidia-cuda-runtime-cu12==12.4.127 (from torch)\n",
      "  Downloading nvidia_cuda_runtime_cu12-12.4.127-py3-none-manylinux2014_x86_64.whl.metadata (1.5 kB)\n",
      "Collecting nvidia-cuda-cupti-cu12==12.4.127 (from torch)\n",
      "  Downloading nvidia_cuda_cupti_cu12-12.4.127-py3-none-manylinux2014_x86_64.whl.metadata (1.6 kB)\n",
      "Collecting nvidia-cudnn-cu12==9.1.0.70 (from torch)\n",
      "  Downloading nvidia_cudnn_cu12-9.1.0.70-py3-none-manylinux2014_x86_64.whl.metadata (1.6 kB)\n",
      "Collecting nvidia-cublas-cu12==12.4.5.8 (from torch)\n",
      "  Downloading nvidia_cublas_cu12-12.4.5.8-py3-none-manylinux2014_x86_64.whl.metadata (1.5 kB)\n",
      "Collecting nvidia-cufft-cu12==11.2.1.3 (from torch)\n",
      "  Downloading nvidia_cufft_cu12-11.2.1.3-py3-none-manylinux2014_x86_64.whl.metadata (1.5 kB)\n",
      "Collecting nvidia-curand-cu12==10.3.5.147 (from torch)\n",
      "  Downloading nvidia_curand_cu12-10.3.5.147-py3-none-manylinux2014_x86_64.whl.metadata (1.5 kB)\n",
      "Collecting nvidia-cusolver-cu12==11.6.1.9 (from torch)\n",
      "  Downloading nvidia_cusolver_cu12-11.6.1.9-py3-none-manylinux2014_x86_64.whl.metadata (1.6 kB)\n",
      "Collecting nvidia-cusparse-cu12==12.3.1.170 (from torch)\n",
      "  Downloading nvidia_cusparse_cu12-12.3.1.170-py3-none-manylinux2014_x86_64.whl.metadata (1.6 kB)\n",
      "Requirement already satisfied: nvidia-cusparselt-cu12==0.6.2 in /usr/local/lib/python3.11/dist-packages (from torch) (0.6.2)\n",
      "Requirement already satisfied: nvidia-nccl-cu12==2.21.5 in /usr/local/lib/python3.11/dist-packages (from torch) (2.21.5)\n",
      "Requirement already satisfied: nvidia-nvtx-cu12==12.4.127 in /usr/local/lib/python3.11/dist-packages (from torch) (12.4.127)\n",
      "Collecting nvidia-nvjitlink-cu12==12.4.127 (from torch)\n",
      "  Downloading nvidia_nvjitlink_cu12-12.4.127-py3-none-manylinux2014_x86_64.whl.metadata (1.5 kB)\n",
      "Requirement already satisfied: triton==3.2.0 in /usr/local/lib/python3.11/dist-packages (from torch) (3.2.0)\n",
      "Requirement already satisfied: sympy==1.13.1 in /usr/local/lib/python3.11/dist-packages (from torch) (1.13.1)\n",
      "Requirement already satisfied: mpmath<1.4,>=1.1.0 in /usr/local/lib/python3.11/dist-packages (from sympy==1.13.1->torch) (1.3.0)\n",
      "Requirement already satisfied: scipy>=1.6.0 in /usr/local/lib/python3.11/dist-packages (from scikit-learn) (1.15.3)\n",
      "Requirement already satisfied: joblib>=1.2.0 in /usr/local/lib/python3.11/dist-packages (from scikit-learn) (1.5.1)\n",
      "Requirement already satisfied: threadpoolctl>=3.1.0 in /usr/local/lib/python3.11/dist-packages (from scikit-learn) (3.6.0)\n",
      "Requirement already satisfied: hf-xet<2.0.0,>=1.1.2 in /usr/local/lib/python3.11/dist-packages (from huggingface-hub<1.0,>=0.30.0->transformers) (1.1.2)\n",
      "Requirement already satisfied: MarkupSafe>=2.0 in /usr/local/lib/python3.11/dist-packages (from jinja2->torch) (3.0.2)\n",
      "Requirement already satisfied: charset-normalizer<4,>=2 in /usr/local/lib/python3.11/dist-packages (from requests->transformers) (3.4.2)\n",
      "Requirement already satisfied: idna<4,>=2.5 in /usr/local/lib/python3.11/dist-packages (from requests->transformers) (3.10)\n",
      "Requirement already satisfied: urllib3<3,>=1.21.1 in /usr/local/lib/python3.11/dist-packages (from requests->transformers) (2.4.0)\n",
      "Requirement already satisfied: certifi>=2017.4.17 in /usr/local/lib/python3.11/dist-packages (from requests->transformers) (2025.4.26)\n",
      "Downloading faiss_cpu-1.11.0-cp311-cp311-manylinux_2_28_x86_64.whl (31.3 MB)\n",
      "\u001b[2K   \u001b[90m━━━━━━━━━━━━━━━━━━━━━━━━━━━━━━━━━━━━━━━━\u001b[0m \u001b[32m31.3/31.3 MB\u001b[0m \u001b[31m39.2 MB/s\u001b[0m eta \u001b[36m0:00:00\u001b[0m\n",
      "\u001b[?25hDownloading nvidia_cublas_cu12-12.4.5.8-py3-none-manylinux2014_x86_64.whl (363.4 MB)\n",
      "\u001b[2K   \u001b[90m━━━━━━━━━━━━━━━━━━━━━━━━━━━━━━━━━━━━━━━━\u001b[0m \u001b[32m363.4/363.4 MB\u001b[0m \u001b[31m5.9 MB/s\u001b[0m eta \u001b[36m0:00:00\u001b[0m\n",
      "\u001b[?25hDownloading nvidia_cuda_cupti_cu12-12.4.127-py3-none-manylinux2014_x86_64.whl (13.8 MB)\n",
      "\u001b[2K   \u001b[90m━━━━━━━━━━━━━━━━━━━━━━━━━━━━━━━━━━━━━━━━\u001b[0m \u001b[32m13.8/13.8 MB\u001b[0m \u001b[31m101.3 MB/s\u001b[0m eta \u001b[36m0:00:00\u001b[0m\n",
      "\u001b[?25hDownloading nvidia_cuda_nvrtc_cu12-12.4.127-py3-none-manylinux2014_x86_64.whl (24.6 MB)\n",
      "\u001b[2K   \u001b[90m━━━━━━━━━━━━━━━━━━━━━━━━━━━━━━━━━━━━━━━━\u001b[0m \u001b[32m24.6/24.6 MB\u001b[0m \u001b[31m79.3 MB/s\u001b[0m eta \u001b[36m0:00:00\u001b[0m\n",
      "\u001b[?25hDownloading nvidia_cuda_runtime_cu12-12.4.127-py3-none-manylinux2014_x86_64.whl (883 kB)\n",
      "\u001b[2K   \u001b[90m━━━━━━━━━━━━━━━━━━━━━━━━━━━━━━━━━━━━━━━━\u001b[0m \u001b[32m883.7/883.7 kB\u001b[0m \u001b[31m59.3 MB/s\u001b[0m eta \u001b[36m0:00:00\u001b[0m\n",
      "\u001b[?25hDownloading nvidia_cudnn_cu12-9.1.0.70-py3-none-manylinux2014_x86_64.whl (664.8 MB)\n",
      "\u001b[2K   \u001b[90m━━━━━━━━━━━━━━━━━━━━━━━━━━━━━━━━━━━━━━━━\u001b[0m \u001b[32m664.8/664.8 MB\u001b[0m \u001b[31m1.6 MB/s\u001b[0m eta \u001b[36m0:00:00\u001b[0m\n",
      "\u001b[?25hDownloading nvidia_cufft_cu12-11.2.1.3-py3-none-manylinux2014_x86_64.whl (211.5 MB)\n",
      "\u001b[2K   \u001b[90m━━━━━━━━━━━━━━━━━━━━━━━━━━━━━━━━━━━━━━━━\u001b[0m \u001b[32m211.5/211.5 MB\u001b[0m \u001b[31m11.0 MB/s\u001b[0m eta \u001b[36m0:00:00\u001b[0m\n",
      "\u001b[?25hDownloading nvidia_curand_cu12-10.3.5.147-py3-none-manylinux2014_x86_64.whl (56.3 MB)\n",
      "\u001b[2K   \u001b[90m━━━━━━━━━━━━━━━━━━━━━━━━━━━━━━━━━━━━━━━━\u001b[0m \u001b[32m56.3/56.3 MB\u001b[0m \u001b[31m42.6 MB/s\u001b[0m eta \u001b[36m0:00:00\u001b[0m\n",
      "\u001b[?25hDownloading nvidia_cusolver_cu12-11.6.1.9-py3-none-manylinux2014_x86_64.whl (127.9 MB)\n",
      "\u001b[2K   \u001b[90m━━━━━━━━━━━━━━━━━━━━━━━━━━━━━━━━━━━━━━━━\u001b[0m \u001b[32m127.9/127.9 MB\u001b[0m \u001b[31m19.0 MB/s\u001b[0m eta \u001b[36m0:00:00\u001b[0m\n",
      "\u001b[?25hDownloading nvidia_cusparse_cu12-12.3.1.170-py3-none-manylinux2014_x86_64.whl (207.5 MB)\n",
      "\u001b[2K   \u001b[90m━━━━━━━━━━━━━━━━━━━━━━━━━━━━━━━━━━━━━━━━\u001b[0m \u001b[32m207.5/207.5 MB\u001b[0m \u001b[31m4.9 MB/s\u001b[0m eta \u001b[36m0:00:00\u001b[0m\n",
      "\u001b[?25hDownloading nvidia_nvjitlink_cu12-12.4.127-py3-none-manylinux2014_x86_64.whl (21.1 MB)\n",
      "\u001b[2K   \u001b[90m━━━━━━━━━━━━━━━━━━━━━━━━━━━━━━━━━━━━━━━━\u001b[0m \u001b[32m21.1/21.1 MB\u001b[0m \u001b[31m104.0 MB/s\u001b[0m eta \u001b[36m0:00:00\u001b[0m\n",
      "\u001b[?25hInstalling collected packages: nvidia-nvjitlink-cu12, nvidia-curand-cu12, nvidia-cufft-cu12, nvidia-cuda-runtime-cu12, nvidia-cuda-nvrtc-cu12, nvidia-cuda-cupti-cu12, nvidia-cublas-cu12, faiss-cpu, nvidia-cusparse-cu12, nvidia-cudnn-cu12, nvidia-cusolver-cu12\n",
      "  Attempting uninstall: nvidia-nvjitlink-cu12\n",
      "    Found existing installation: nvidia-nvjitlink-cu12 12.5.82\n",
      "    Uninstalling nvidia-nvjitlink-cu12-12.5.82:\n",
      "      Successfully uninstalled nvidia-nvjitlink-cu12-12.5.82\n",
      "  Attempting uninstall: nvidia-curand-cu12\n",
      "    Found existing installation: nvidia-curand-cu12 10.3.6.82\n",
      "    Uninstalling nvidia-curand-cu12-10.3.6.82:\n",
      "      Successfully uninstalled nvidia-curand-cu12-10.3.6.82\n",
      "  Attempting uninstall: nvidia-cufft-cu12\n",
      "    Found existing installation: nvidia-cufft-cu12 11.2.3.61\n",
      "    Uninstalling nvidia-cufft-cu12-11.2.3.61:\n",
      "      Successfully uninstalled nvidia-cufft-cu12-11.2.3.61\n",
      "  Attempting uninstall: nvidia-cuda-runtime-cu12\n",
      "    Found existing installation: nvidia-cuda-runtime-cu12 12.5.82\n",
      "    Uninstalling nvidia-cuda-runtime-cu12-12.5.82:\n",
      "      Successfully uninstalled nvidia-cuda-runtime-cu12-12.5.82\n",
      "  Attempting uninstall: nvidia-cuda-nvrtc-cu12\n",
      "    Found existing installation: nvidia-cuda-nvrtc-cu12 12.5.82\n",
      "    Uninstalling nvidia-cuda-nvrtc-cu12-12.5.82:\n",
      "      Successfully uninstalled nvidia-cuda-nvrtc-cu12-12.5.82\n",
      "  Attempting uninstall: nvidia-cuda-cupti-cu12\n",
      "    Found existing installation: nvidia-cuda-cupti-cu12 12.5.82\n",
      "    Uninstalling nvidia-cuda-cupti-cu12-12.5.82:\n",
      "      Successfully uninstalled nvidia-cuda-cupti-cu12-12.5.82\n",
      "  Attempting uninstall: nvidia-cublas-cu12\n",
      "    Found existing installation: nvidia-cublas-cu12 12.5.3.2\n",
      "    Uninstalling nvidia-cublas-cu12-12.5.3.2:\n",
      "      Successfully uninstalled nvidia-cublas-cu12-12.5.3.2\n",
      "  Attempting uninstall: nvidia-cusparse-cu12\n",
      "    Found existing installation: nvidia-cusparse-cu12 12.5.1.3\n",
      "    Uninstalling nvidia-cusparse-cu12-12.5.1.3:\n",
      "      Successfully uninstalled nvidia-cusparse-cu12-12.5.1.3\n",
      "  Attempting uninstall: nvidia-cudnn-cu12\n",
      "    Found existing installation: nvidia-cudnn-cu12 9.3.0.75\n",
      "    Uninstalling nvidia-cudnn-cu12-9.3.0.75:\n",
      "      Successfully uninstalled nvidia-cudnn-cu12-9.3.0.75\n",
      "  Attempting uninstall: nvidia-cusolver-cu12\n",
      "    Found existing installation: nvidia-cusolver-cu12 11.6.3.83\n",
      "    Uninstalling nvidia-cusolver-cu12-11.6.3.83:\n",
      "      Successfully uninstalled nvidia-cusolver-cu12-11.6.3.83\n",
      "Successfully installed faiss-cpu-1.11.0 nvidia-cublas-cu12-12.4.5.8 nvidia-cuda-cupti-cu12-12.4.127 nvidia-cuda-nvrtc-cu12-12.4.127 nvidia-cuda-runtime-cu12-12.4.127 nvidia-cudnn-cu12-9.1.0.70 nvidia-cufft-cu12-11.2.1.3 nvidia-curand-cu12-10.3.5.147 nvidia-cusolver-cu12-11.6.1.9 nvidia-cusparse-cu12-12.3.1.170 nvidia-nvjitlink-cu12-12.4.127\n"
     ]
    }
   ],
   "source": [
    "!pip install faiss-cpu transformers torch scikit-learn\n",
    "\n"
   ]
  },
  {
   "cell_type": "code",
   "execution_count": null,
   "id": "ea4e2b69",
   "metadata": {
    "colab": {
     "base_uri": "https://localhost:8080/"
    },
    "id": "ea4e2b69",
    "outputId": "78e22ac6-e51f-4bcb-b1de-08b8e766e7f8"
   },
   "outputs": [
    {
     "name": "stdout",
     "output_type": "stream",
     "text": [
      "Requirement already satisfied: faiss-cpu in /usr/local/lib/python3.11/dist-packages (1.11.0)\n",
      "Requirement already satisfied: numpy<3.0,>=1.25.0 in /usr/local/lib/python3.11/dist-packages (from faiss-cpu) (2.0.2)\n",
      "Requirement already satisfied: packaging in /usr/local/lib/python3.11/dist-packages (from faiss-cpu) (24.2)\n"
     ]
    }
   ],
   "source": [
    "!pip install faiss-cpu"
   ]
  },
  {
   "cell_type": "code",
   "execution_count": null,
   "id": "69e20e54",
   "metadata": {
    "colab": {
     "base_uri": "https://localhost:8080/"
    },
    "id": "69e20e54",
    "outputId": "4861ca98-f7fd-4386-9ef4-70a1e38ab6ac"
   },
   "outputs": [
    {
     "name": "stdout",
     "output_type": "stream",
     "text": [
      "Collecting pymupdf\n",
      "  Downloading pymupdf-1.26.1-cp39-abi3-manylinux_2_28_x86_64.whl.metadata (3.4 kB)\n",
      "Downloading pymupdf-1.26.1-cp39-abi3-manylinux_2_28_x86_64.whl (24.1 MB)\n",
      "\u001b[2K   \u001b[90m━━━━━━━━━━━━━━━━━━━━━━━━━━━━━━━━━━━━━━━━\u001b[0m \u001b[32m24.1/24.1 MB\u001b[0m \u001b[31m96.3 MB/s\u001b[0m eta \u001b[36m0:00:00\u001b[0m\n",
      "\u001b[?25hInstalling collected packages: pymupdf\n",
      "Successfully installed pymupdf-1.26.1\n"
     ]
    }
   ],
   "source": [
    "!pip install pymupdf  # Falls noch nicht installiert"
   ]
  },
  {
   "cell_type": "code",
   "execution_count": null,
   "id": "35e7dad0",
   "metadata": {
    "colab": {
     "base_uri": "https://localhost:8080/"
    },
    "id": "35e7dad0",
    "outputId": "522e5b97-d44c-4d3e-8f2f-b64679c20926"
   },
   "outputs": [
    {
     "name": "stdout",
     "output_type": "stream",
     "text": [
      "Reading package lists... Done\n",
      "Building dependency tree... Done\n",
      "Reading state information... Done\n",
      "tesseract-ocr is already the newest version (4.1.1-2.1build1).\n",
      "0 upgraded, 0 newly installed, 0 to remove and 35 not upgraded.\n",
      "Collecting pytesseract\n",
      "  Downloading pytesseract-0.3.13-py3-none-any.whl.metadata (11 kB)\n",
      "Collecting pdf2image\n",
      "  Downloading pdf2image-1.17.0-py3-none-any.whl.metadata (6.2 kB)\n",
      "Requirement already satisfied: packaging>=21.3 in /usr/local/lib/python3.11/dist-packages (from pytesseract) (24.2)\n",
      "Requirement already satisfied: Pillow>=8.0.0 in /usr/local/lib/python3.11/dist-packages (from pytesseract) (11.2.1)\n",
      "Downloading pytesseract-0.3.13-py3-none-any.whl (14 kB)\n",
      "Downloading pdf2image-1.17.0-py3-none-any.whl (11 kB)\n",
      "Installing collected packages: pytesseract, pdf2image\n",
      "Successfully installed pdf2image-1.17.0 pytesseract-0.3.13\n"
     ]
    }
   ],
   "source": [
    "!apt-get install -y tesseract-ocr  # Installiere Tesseract (nur für Linux/Colab)\n",
    "!pip install pytesseract pdf2image  # Installiere die Python-Bibliotheken\n"
   ]
  },
  {
   "cell_type": "code",
   "execution_count": null,
   "id": "a8745131",
   "metadata": {
    "colab": {
     "base_uri": "https://localhost:8080/"
    },
    "id": "a8745131",
    "outputId": "022225d3-0f40-485f-cde1-2e12d0a2bf04"
   },
   "outputs": [
    {
     "name": "stdout",
     "output_type": "stream",
     "text": [
      "Collecting deep-translator\n",
      "  Downloading deep_translator-1.11.4-py3-none-any.whl.metadata (30 kB)\n",
      "Requirement already satisfied: beautifulsoup4<5.0.0,>=4.9.1 in /usr/local/lib/python3.11/dist-packages (from deep-translator) (4.13.4)\n",
      "Requirement already satisfied: requests<3.0.0,>=2.23.0 in /usr/local/lib/python3.11/dist-packages (from deep-translator) (2.32.3)\n",
      "Requirement already satisfied: soupsieve>1.2 in /usr/local/lib/python3.11/dist-packages (from beautifulsoup4<5.0.0,>=4.9.1->deep-translator) (2.7)\n",
      "Requirement already satisfied: typing-extensions>=4.0.0 in /usr/local/lib/python3.11/dist-packages (from beautifulsoup4<5.0.0,>=4.9.1->deep-translator) (4.14.0)\n",
      "Requirement already satisfied: charset-normalizer<4,>=2 in /usr/local/lib/python3.11/dist-packages (from requests<3.0.0,>=2.23.0->deep-translator) (3.4.2)\n",
      "Requirement already satisfied: idna<4,>=2.5 in /usr/local/lib/python3.11/dist-packages (from requests<3.0.0,>=2.23.0->deep-translator) (3.10)\n",
      "Requirement already satisfied: urllib3<3,>=1.21.1 in /usr/local/lib/python3.11/dist-packages (from requests<3.0.0,>=2.23.0->deep-translator) (2.4.0)\n",
      "Requirement already satisfied: certifi>=2017.4.17 in /usr/local/lib/python3.11/dist-packages (from requests<3.0.0,>=2.23.0->deep-translator) (2025.4.26)\n",
      "Downloading deep_translator-1.11.4-py3-none-any.whl (42 kB)\n",
      "\u001b[?25l   \u001b[90m━━━━━━━━━━━━━━━━━━━━━━━━━━━━━━━━━━━━━━━━\u001b[0m \u001b[32m0.0/42.3 kB\u001b[0m \u001b[31m?\u001b[0m eta \u001b[36m-:--:--\u001b[0m\r",
      "\u001b[2K   \u001b[90m━━━━━━━━━━━━━━━━━━━━━━━━━━━━━━━━━━━━━━━━\u001b[0m \u001b[32m42.3/42.3 kB\u001b[0m \u001b[31m4.5 MB/s\u001b[0m eta \u001b[36m0:00:00\u001b[0m\n",
      "\u001b[?25hInstalling collected packages: deep-translator\n",
      "Successfully installed deep-translator-1.11.4\n"
     ]
    }
   ],
   "source": [
    "!pip install deep-translator"
   ]
  },
  {
   "cell_type": "markdown",
   "id": "de9d0a11",
   "metadata": {
    "id": "de9d0a11"
   },
   "source": [
    "## Python-Importe, Bibliotheken und Hauptklassen\n"
   ]
  },
  {
   "cell_type": "code",
   "execution_count": null,
   "id": "c98c62b9",
   "metadata": {
    "colab": {
     "base_uri": "https://localhost:8080/"
    },
    "id": "c98c62b9",
    "outputId": "083a3925-ff62-435d-c4ad-89039ec7b47c"
   },
   "outputs": [
    {
     "name": "stdout",
     "output_type": "stream",
     "text": [
      "CUDA verfügbar: True\n",
      "GPU erkannt: NVIDIA A100-SXM4-40GB\n"
     ]
    }
   ],
   "source": [
    "import torch\n",
    "import re\n",
    "print(\"CUDA verfügbar:\", torch.cuda.is_available())\n",
    "print(\"GPU erkannt:\", torch.cuda.get_device_name(0) if torch.cuda.is_available() else \"Keine GPU\")\n"
   ]
  },
  {
   "cell_type": "code",
   "execution_count": null,
   "id": "81187aa4",
   "metadata": {
    "colab": {
     "base_uri": "https://localhost:8080/",
     "height": 345,
     "referenced_widgets": [
      "85a0b6c252e248f4a32319fdeb63704f",
      "090a9de9ef4e4b2c9c717ffcbb0aa977",
      "346071adc8ab46a78b1e019b768aa8c7",
      "c1316a1fbd6c40af8570687bcc9e1e3e",
      "9bfa80e6c32c4df98c16aa0229f8e962",
      "97f494680576436e9da8f9c505e99623",
      "9bf04854e80740798d90f0b2c4d4684d",
      "ad8cb10ad66a402382fd2ce6d9a66167",
      "271da00c63aa40efb8ff426f87dc689e",
      "bb8f4960d1ee487b83d8e327a3b30ec0",
      "2776f5e63b784457ab4eb3b871603aa9",
      "e1faf273e90b462ca7198b0d3108e13a",
      "ee01ed28de604eb4ba5f80d51d24e4d6",
      "d0005cee64d146788cccd9943dcf1175",
      "4841f626fb2943b2886d5cf151004efe",
      "abad22afd24a4af2a80a58ecef752695",
      "773fa9594d27453d8a9ee0360e743a11",
      "36b60289d45f419db1fe629ccb80a4ef",
      "d708be11f7434ed6ad1d8bd839679aa6",
      "dc0d8dae256540df8378cd632980b4cf",
      "8c7520f6aca7404a8e394d7763f8e0aa",
      "2665f71e731c465180ad7a1fa069ae39",
      "f7c04efd0da1413681cb8f1bc249dd4c",
      "bca970fbc5064715bba62c1dab805746",
      "2f1a1bdbeb5b44d8bcc05f7dff86915e",
      "46c42f78fbe7452488188156fa465692",
      "5d573872fbad431c82d4d99f62fc6d82",
      "b24ba7666cd64010886084bd644cf21d",
      "4b729cf5105b47e7a3d0ff14795d92cf",
      "8448e9201fcf48a3b44ce1b78912bb9f",
      "6c517520e63948dd9b721d5f6cea6f56",
      "491babc49d9d443187583f6dd18f91a8",
      "e21008c5ac8640f28bb484beea40af83",
      "45752a29a7eb473d8d9ed9360d8f35e6",
      "bef8b92ed0934097b4ba660bf2a038f8",
      "96f3ee8cfa424b4db47d51b70af4205b",
      "d259fa47e0cd4f56ab5e2c784aa24588",
      "4f585f5a45e342e99e4ff4d8159192a5",
      "98f3fb2be1094c77b6abec9f783892ca",
      "62ef7fb540524075bc08d322d9ef9b12",
      "2bebb689d1364e3d9e8b4cd1db04126a",
      "6fc93f42afe140e6b2ab750d419969d5",
      "fbd6a48b218b4e88a7a7a3b6f3e56dde",
      "0a1d2fdf63a148bb82415706d4f77bcf",
      "c77f66c8b21e45879fac0471e594787c",
      "e8378d2e086046aeb1baff6a602babcd",
      "5ccd3caf80ab457bb3fe01c64f3df2de",
      "b864268a37074d8ea1cf89e4d3418dc9",
      "b9c02873e49e414b93fd09992d93ee40",
      "2411998409134e48a97a63ff1e1dbc30",
      "4b05514f8a504f6491bdfb98f7216c75",
      "6df2cfabff6c46598732a2467aa25f03",
      "ab6ab0293f9a41cda40e415a55d85931",
      "1333a3cb9a494d2cb75c6a21d2214984",
      "ba35cae5339c41138beae10a67412cf1",
      "3d6773dce3fd4426bb5300bfefb8f3c6",
      "e2f71a740f4e415b98138e8ed27377de",
      "8562ae3578a5421baf095ee6de3eab25",
      "b4b5137f4aee484ab7ac52c5422448b2",
      "fa3dfc17791b4034a00e5a81264580a2",
      "a6c04cf92209445486743384777838f8",
      "49a4c10145e04f4983d354820688ca96",
      "727e1132faca453ea5a402496e581a3d",
      "33440fb8a2954157b8e97994a606d025",
      "019828c399304ffa924c59b788f4f6de",
      "ebfff756ebab49f5b3a4dacb961b6854",
      "7f54de3caa1d4dccaf7dc33e75e60d3c",
      "fc4ce7a2a853488e8ed7230a34914e89",
      "f3278f49b1c44c6195405e8751b26809",
      "b0ccc20e05794df28dad532d99c9b2f9",
      "c597de06a4194ea1a7ccf8ece61c2ec8",
      "0f45bbbceea54e518754b103fd81751b",
      "12fa0193f7124d608c791e615b115ffe",
      "5c16747533fc46edada7a504d87e213c",
      "d93a73a78a6a487496d0a56598078201",
      "746b4bd7ec71451c97a73de26a49b75b",
      "8a3081f422b7480c8303406d07a645c6"
     ]
    },
    "id": "81187aa4",
    "outputId": "7b5b42d6-c225-40ab-d897-ede4916691e6"
   },
   "outputs": [
    {
     "name": "stderr",
     "output_type": "stream",
     "text": [
      "/usr/local/lib/python3.11/dist-packages/huggingface_hub/utils/_auth.py:94: UserWarning: \n",
      "The secret `HF_TOKEN` does not exist in your Colab secrets.\n",
      "To authenticate with the Hugging Face Hub, create a token in your settings tab (https://huggingface.co/settings/tokens), set it as secret in your Google Colab and restart your session.\n",
      "You will be able to reuse this secret in all of your notebooks.\n",
      "Please note that authentication is recommended but still optional to access public models or datasets.\n",
      "  warnings.warn(\n"
     ]
    },
    {
     "data": {
      "application/vnd.jupyter.widget-view+json": {
       "model_id": "85a0b6c252e248f4a32319fdeb63704f",
       "version_major": 2,
       "version_minor": 0
      },
      "text/plain": [
       "tokenizer_config.json:   0%|          | 0.00/1.29k [00:00<?, ?B/s]"
      ]
     },
     "metadata": {},
     "output_type": "display_data"
    },
    {
     "data": {
      "application/vnd.jupyter.widget-view+json": {
       "model_id": "e1faf273e90b462ca7198b0d3108e13a",
       "version_major": 2,
       "version_minor": 0
      },
      "text/plain": [
       "tokenizer.model:   0%|          | 0.00/500k [00:00<?, ?B/s]"
      ]
     },
     "metadata": {},
     "output_type": "display_data"
    },
    {
     "data": {
      "application/vnd.jupyter.widget-view+json": {
       "model_id": "f7c04efd0da1413681cb8f1bc249dd4c",
       "version_major": 2,
       "version_minor": 0
      },
      "text/plain": [
       "tokenizer.json:   0%|          | 0.00/1.84M [00:00<?, ?B/s]"
      ]
     },
     "metadata": {},
     "output_type": "display_data"
    },
    {
     "data": {
      "application/vnd.jupyter.widget-view+json": {
       "model_id": "45752a29a7eb473d8d9ed9360d8f35e6",
       "version_major": 2,
       "version_minor": 0
      },
      "text/plain": [
       "special_tokens_map.json:   0%|          | 0.00/551 [00:00<?, ?B/s]"
      ]
     },
     "metadata": {},
     "output_type": "display_data"
    },
    {
     "data": {
      "application/vnd.jupyter.widget-view+json": {
       "model_id": "c77f66c8b21e45879fac0471e594787c",
       "version_major": 2,
       "version_minor": 0
      },
      "text/plain": [
       "config.json:   0%|          | 0.00/608 [00:00<?, ?B/s]"
      ]
     },
     "metadata": {},
     "output_type": "display_data"
    },
    {
     "data": {
      "application/vnd.jupyter.widget-view+json": {
       "model_id": "3d6773dce3fd4426bb5300bfefb8f3c6",
       "version_major": 2,
       "version_minor": 0
      },
      "text/plain": [
       "model.safetensors:   0%|          | 0.00/2.20G [00:00<?, ?B/s]"
      ]
     },
     "metadata": {},
     "output_type": "display_data"
    },
    {
     "data": {
      "application/vnd.jupyter.widget-view+json": {
       "model_id": "7f54de3caa1d4dccaf7dc33e75e60d3c",
       "version_major": 2,
       "version_minor": 0
      },
      "text/plain": [
       "generation_config.json:   0%|          | 0.00/124 [00:00<?, ?B/s]"
      ]
     },
     "metadata": {},
     "output_type": "display_data"
    }
   ],
   "source": [
    "# HuggingFace Token für pat*******@hotmail.com und Esto******1!\n",
    "# login(token=\"verfremdet\")\n",
    "\n",
    "import torch\n",
    "from transformers import AutoModelForCausalLM, AutoTokenizer\n",
    "\n",
    "# 📌 Modellname\n",
    "MODEL_NAME = \"TinyLlama/TinyLlama-1.1B-Chat-v1.0\"\n",
    "\n",
    "#  Tokenizer & Modell laden\n",
    "tokenizer = AutoTokenizer.from_pretrained(MODEL_NAME)\n",
    "model = AutoModelForCausalLM.from_pretrained(MODEL_NAME, device_map=\"auto\")\n",
    "\n",
    "# ⚠️ Explizites PAD-Token setzen, falls nicht vorhanden\n",
    "if tokenizer.pad_token is None:\n",
    "    tokenizer.pad_token = tokenizer.eos_token\n",
    "\n",
    "#  Funktion zur Generierung von Antworten\n",
    "def generate_response(prompt, max_new_tokens=200):\n",
    "    \"\"\"Generiert eine Antwort auf ein gegebenes Prompt mit korrekter Attention Mask.\"\"\"\n",
    "\n",
    "    # Falls das Modell eine Chat-Vorlage benötigt, wende sie an\n",
    "    if hasattr(tokenizer, \"apply_chat_template\"):\n",
    "        formatted_prompt = tokenizer.apply_chat_template(\n",
    "            [{\"role\": \"user\", \"content\": prompt}],\n",
    "            tokenize=False,\n",
    "            add_generation_prompt=True\n",
    "        )\n",
    "    else:\n",
    "        formatted_prompt = prompt\n",
    "\n",
    "    # Konvertiere den Prompt in Tokens\n",
    "    inputs = tokenizer(formatted_prompt, return_tensors=\"pt\", padding=True, truncation=True).to(model.device)\n",
    "\n",
    "    # ⚠️ Setze eine explizite Attention Mask\n",
    "    attention_mask = inputs.input_ids.ne(tokenizer.pad_token_id).to(model.device)\n",
    "\n",
    "    # Generiere die Antwort mit optimierten Parametern\n",
    "    output = model.generate(\n",
    "        inputs.input_ids,\n",
    "        attention_mask=attention_mask,  # <-- Hier wird die Attention Mask gesetzt\n",
    "        max_new_tokens=max_new_tokens,\n",
    "        pad_token_id=tokenizer.pad_token_id,\n",
    "        do_sample=False  # Aktiviert Sampling für kreativere Antworten\n",
    "        #temperature=0.7,  # Kontrolliert die Zufälligkeit der Antwort\n",
    "        #top_p=0.9,  # Begrenzt die Auswahl auf die wahrscheinlichsten Token\n",
    "        #repetition_penalty=1.2  # Verhindert endlose Wiederholungen\n",
    "    )\n",
    "\n",
    "    # Dekodiere die Antwort\n",
    "    response = tokenizer.decode(output[:, inputs.input_ids.shape[-1]:][0], skip_special_tokens=True).strip()\n",
    "\n",
    "    # Falls die Antwort leer ist, gib eine alternative Antwort\n",
    "    if not response or len(response) < 5:\n",
    "        response = \"Entschuldigung, ich bin mir nicht sicher. Kannst du die Frage anders formulieren?\"\n",
    "\n",
    "    return response\n",
    "\n",
    "\n",
    "\n",
    "\n",
    "\n"
   ]
  },
  {
   "cell_type": "code",
   "execution_count": null,
   "id": "64cf6f8f",
   "metadata": {
    "id": "64cf6f8f"
   },
   "outputs": [],
   "source": [
    "import re\n",
    "from deep_translator import GoogleTranslator\n",
    "\n",
    "def get_first_two_sentences(text):\n",
    "    # 🔹 Trenne den Text korrekt an Satzzeichen (.!?), aber achte auf nachfolgende Zahlen\n",
    "    sentences = re.split(r'(?<=[.!?])\\s+', text.strip())\n",
    "\n",
    "    # 🔹 Entferne angehängte Zahlen am Satzende (z. B. \".3.\", \"4.\")\n",
    "    sentences = [re.sub(r'(\\.\\d+|\\d+\\.)$', '.', sentence).strip() for sentence in sentences]\n",
    "\n",
    "    # 🔹 Nimm nur die ersten zwei Sätze und setze sie wieder zusammen\n",
    "    return \" \".join(sentences[:2])\n",
    "\n",
    "\n",
    "\n",
    "def translate_to_german(text):\n",
    "    return GoogleTranslator(source='auto', target='de').translate(text)\n",
    "\n",
    "# 🔹 Beispiel\n",
    "#text = \"Das ist der erste Satz. Hier kommt der zweite Satz! Und das ist der dritte. Noch ein Satz?\"\n",
    "#result = get_first_two_sentences(text)\n",
    "\n",
    "#print(result)  # 👉 Ausgabe: \"Das ist der erste Satz. Hier kommt der zweite Satz!\"\n"
   ]
  },
  {
   "cell_type": "code",
   "execution_count": null,
   "id": "c3b7ed3a",
   "metadata": {
    "colab": {
     "base_uri": "https://localhost:8080/"
    },
    "id": "c3b7ed3a",
    "outputId": "3c087e66-b9e0-48bb-8f66-91fe0d0d9c0e"
   },
   "outputs": [
    {
     "name": "stderr",
     "output_type": "stream",
     "text": [
      "Device set to use cuda:0\n"
     ]
    }
   ],
   "source": [
    "import random\n",
    "import torch\n",
    "from transformers import pipeline\n",
    "\n",
    "# 📌 TinyLlama einrichten\n",
    "pipe = pipeline(\n",
    "    \"text-generation\",\n",
    "    model=\"TinyLlama/TinyLlama-1.1B-Chat-v1.0\",\n",
    "    torch_dtype=torch.bfloat16,\n",
    "    device_map=\"auto\"\n",
    ")\n",
    "\n",
    "# 📌 Beispielhafte Antwortlisten für Agenten\n",
    "GESINNUNGEN = {\n",
    "    \"ökologisch\": [\n",
    "        \"Wir müssen Ressourcen schützen.\",\n",
    "        \"Nachhaltigkeit ist der Schlüssel zur Zukunft.\",\n",
    "        \"Unsere Umwelt darf nicht leiden.\",\n",
    "        \"Ökologie sollte an erster Stelle stehen.\",\n",
    "        \"Lass uns gemeinsam Verantwortung übernehmen.\"\n",
    "    ],\n",
    "    \"ökonomisch\": [\n",
    "        \"Wirtschaftswachstum sichert Arbeitsplätze.\",\n",
    "        \"Profite sind entscheidend für Fortschritt.\",\n",
    "        \"Effizienz ist der Schlüssel zum Erfolg.\",\n",
    "        \"Ohne Wirtschaft kein Wohlstand.\",\n",
    "        \"Investitionen bringen uns voran.\"\n",
    "    ],\n",
    "    \"innovativ\": [\n",
    "        \"Neue Technologien können beide Seiten verbinden.\",\n",
    "        \"Wir müssen über den Tellerrand hinaus denken.\",\n",
    "        \"Innovation ist die beste Lösung für die Zukunft.\",\n",
    "        \"Es gibt immer eine kreative Lösung.\",\n",
    "        \"Lass uns neue Wege erkunden!\"\n",
    "    ],\n",
    "    \"winwinsituation\": [\n",
    "        \"Wir brauchen eine Lösung, die für beide vorteilhaft ist.\",\n",
    "        \"Gemeinsam können wir eine bessere Zukunft gestalten.\",\n",
    "        \"Ein fairer Ausgleich bringt langfristig den größten Nutzen.\",\n",
    "        \"Lasst uns eine Strategie entwickeln, von der beide profitieren.\",\n",
    "        \"Zusammenarbeit ist der Schlüssel für nachhaltigen Erfolg.\"\n",
    "    ]\n",
    "}\n",
    "\n",
    "SPIELREGEL = \"Du bist ein intelligenter Debatten-Chatbot mit einer klaren politischen Haltung. \\\n",
    "Antworte immer mit einem einzigen, klaren Argument in einem Satz. \\\n",
    "Vermeide Füllwörter und irrelevante Aussagen.\"\n",
    "SPIELREGEL_MOD = \"Du bist ein intelligenter Antwort-Chatbot. Antworte stets mit einem einzigen, klaren Argument in einem Satz.Vermeide Wörter wie: Chatbot.\"\n",
    "\n",
    "\n",
    "def generate_gesinnung(gesinnung):\n",
    "    return random.choice(GESINNUNGEN.get(gesinnung, [\"Ich bin mir nicht sicher.\"]))\n",
    "\n",
    "\n",
    "class Agent:\n",
    "    def __init__(self, name, gesinnung):\n",
    "        self.name = name\n",
    "        self.gesinnung = gesinnung\n",
    "        self.erster_gedanke = generate_gesinnung(gesinnung)\n",
    "        self.last_sentence = \"\"  # Um den letzten Satz des Gesprächspartners zu speichern\n",
    "\n",
    "    def generate_with_tiny_llama(self,prompt,max_tokens=256):\n",
    "        messages = [\n",
    "            {\"role\": \"system\", \"content\": SPIELREGEL},  # Instruktionen für den Agenten\n",
    "            {\"role\": \"user\", \"content\": prompt}  # Die eigentliche Eingabe\n",
    "        ]\n",
    "\n",
    "        # 🔹 Teste, ob das Modell besser antwortet, wenn man die `apply_chat_template` umgeht\n",
    "        formatted_prompt = f\"{SPIELREGEL_MOD}\\nBenutzer: {prompt}\\nAntwort:\"\n",
    "\n",
    "        # Generierung mit einer Mischung aus Zufälligkeit und Kontrolle\n",
    "        outputs = pipe(\n",
    "            formatted_prompt,\n",
    "            max_new_tokens=max_tokens,\n",
    "            do_sample=True,  # Kreativität aktivieren\n",
    "            temperature=0.7,  # Kontrolle über die Varianz\n",
    "            top_k=50,         # Begrenzung der Auswahl\n",
    "            top_p=0.95,        # Begrenzung auf wahrscheinlichste Token\n",
    "            repetition_penalty=1.2,  # Verhindert generische Wiederholungen\n",
    "           no_repeat_ngram_size=2\n",
    "        )\n",
    "\n",
    "        # 🔹 Extraktion der Antwort – stelle sicher, dass nur der generierte Teil genommen wird\n",
    "        response = outputs[0][\"generated_text\"]\n",
    "\n",
    "        # 🔹 Falls das Modell das Prompt \"spiegelt\", schneiden wir es sauber ab\n",
    "        if prompt in response:\n",
    "            response = response.split(prompt)[-1].strip()\n",
    "\n",
    "        return response.strip()\n",
    "\n",
    "    def sprechen(self, letzter_satz=\"\"):\n",
    "        if letzter_satz:\n",
    "            self.last_sentence = letzter_satz\n",
    "\n",
    "        # Dynamischer Prompt basierend auf Gesinnung und letztem Satz\n",
    "        prompt = (f\"Du bist {self.name} mit der Gesinnung {self.gesinnung}. \"\n",
    "                  f\"Dein vorheriger Standpunkt war: '{self.erster_gedanke}'. \"\n",
    "                  f\"Der letzte Satz deines Gegenübers lautete: '{self.last_sentence}'. \"\n",
    "                  \"Bringe ein starkes Argument gegen diesen Satz.\")\n",
    "\n",
    "        return self.generate_with_tiny_llama(prompt)\n",
    "\n",
    "    def entscheide(self):\n",
    "        entscheidungs_prompts = [\n",
    "            \"Wie entscheidest du dich: kooperieren oder nicht kooperieren?\",\n",
    "            \"Bitte antworte: kooperieren oder nicht kooperieren?\",\n",
    "            \"Triff deine Wahl: Kooperieren oder nicht kooperieren?\",\n",
    "            f\"Basierend auf deiner Gesinnung ({self.gesinnung}), wirst du kooperieren oder nicht kooperieren?\"\n",
    "        ]\n",
    "\n",
    "        # Zufällige Entscheidungsfrage wählen\n",
    "        prompt = random.choice(entscheidungs_prompts)\n",
    "        entscheidung = self.generate_with_tiny_llama(prompt,max_tokens=10)\n",
    "\n",
    "        # Filterung: Nur \"kooperieren\" oder \"nicht kooperieren\" akzeptieren\n",
    "        if \"kooperieren\" in entscheidung.lower():\n",
    "            return \"kooperieren\"\n",
    "        elif \"nicht kooperieren\" in entscheidung.lower():\n",
    "            return \"nicht kooperieren\"\n",
    "        else:\n",
    "            return random.choice([\"kooperieren\", \"nicht kooperieren\"])  # Falls unsicher, zufällig wählen\n",
    "\n",
    "class Moderator:\n",
    "    def __init__(self, name, gesinnung):\n",
    "        self.name = name\n",
    "        self.gesinnung = gesinnung\n",
    "        self.erster_gedanke = generate_gesinnung(gesinnung)\n",
    "        self.last_sentence = \"\"  # Um den letzten Satz des Gesprächspartners zu speichern\n",
    "\n",
    "    def generate_with_tiny_llama(self,prompt,max_tokens=256):\n",
    "        messages = [\n",
    "            {\"role\": \"system\", \"content\": SPIELREGEL_MOD},  # Instruktionen für den Agenten\n",
    "            {\"role\": \"user\", \"content\": prompt}  # Die eigentliche Eingabe\n",
    "        ]\n",
    "\n",
    "        # 🔹 Teste, ob das Modell besser antwortet, wenn man die `apply_chat_template` umgeht\n",
    "        formatted_prompt = f\"{SPIELREGEL_MOD}\\nBenutzer: {prompt}\\nAntwort:\"\n",
    "\n",
    "        # Generierung mit einer Mischung aus Zufälligkeit und Kontrolle\n",
    "        outputs = pipe(\n",
    "            formatted_prompt,\n",
    "            max_new_tokens=max_tokens,\n",
    "            do_sample=True,  # Kreativität aktivieren\n",
    "            temperature=0.7,  # Kontrolle über die Varianz\n",
    "            top_k=50,         # Begrenzung der Auswahl\n",
    "            top_p=0.95        # Begrenzung auf wahrscheinlichste Token\n",
    "        )\n",
    "\n",
    "        # 🔹 Extraktion der Antwort – stelle sicher, dass nur der generierte Teil genommen wird\n",
    "        response = outputs[0][\"generated_text\"]\n",
    "\n",
    "        # 🔹 Falls das Modell das Prompt \"spiegelt\", schneiden wir es sauber ab\n",
    "        if prompt in response:\n",
    "            response = response.split(prompt)[-1].strip()\n",
    "\n",
    "        return response.strip()\n",
    "\n",
    "    def sprechen(self, letzter_satz=\"\"):\n",
    "        if letzter_satz:\n",
    "            self.last_sentence = letzter_satz\n",
    "\n",
    "        # Dynamischer Prompt basierend auf Gesinnung und letztem Satz\n",
    "        prompt = f\"Du bist ein neutraler Moderator. Das ist die Info, die Du bearbeiten sollst: (Anfang des Textes) {self.last_sentence}. (Ende des Textes) Bitte in einem Satz zusammenfassen und auf deutsch übersetzen.Beginne Dein Argument immer mit dem Wort Antwort und einem Doppelpunkt.\"\n",
    "\n",
    "        return self.generate_with_tiny_llama(prompt)\n",
    "\n"
   ]
  },
  {
   "cell_type": "code",
   "execution_count": null,
   "id": "47899287",
   "metadata": {
    "colab": {
     "base_uri": "https://localhost:8080/"
    },
    "id": "47899287",
    "outputId": "efad0be8-4241-4864-8b81-4f2347b512cc"
   },
   "outputs": [
    {
     "name": "stdout",
     "output_type": "stream",
     "text": [
      "Mounted at /content/drive\n"
     ]
    }
   ],
   "source": [
    "from google.colab import drive\n",
    "import os\n",
    "# 🔹 Google Drive einbinden\n",
    "drive.mount('/content/drive')\n",
    "\n",
    "# 🔹 Automatische Pfadkorrektur\n",
    "drive_folder = \"/content/drive/MyDrive/data/\"  # Kein Leerzeichen in \"MyDrive\"\n",
    "if not os.path.exists(drive_folder):\n",
    "    drive_folder = \"/content/drive/My Drive/data/\"  # Falls \"My Drive\" benutzt wird\n"
   ]
  },
  {
   "cell_type": "markdown",
   "id": "xy7ILveBZIcE",
   "metadata": {
    "id": "xy7ILveBZIcE"
   },
   "source": [
    "##  Agentenbasierte Simulation eines iterierten Gefangenendilemmas mit RAG-gestützter Moderation\n",
    "\n",
    "Dieses Jupyter-Notebook implementiert eine agentenbasierte Simulation des iterierten Gefangenendilemmas, bei dem zwei virtuelle Agenten (C und D) über mehrere Gesprächsrunden hinweg interagieren. Ziel ist es, das strategische Verhalten der Agenten (Kooperation vs. Nicht-Kooperation) zu beobachten und durch eine Moderation mit Retrieval-Augmented Generation (RAG) zu reflektieren.\n",
    "\n",
    "## Hauptfunktionen:\n",
    "\n",
    "- **Mehrere Gesprächsrunden**: Die Agenten führen einen argumentativen Austausch über `NUM_RUNDEN` Runden hinweg.\n",
    "- **Agentenreaktion**: Jeder Agent antwortet auf die letzte Aussage des Gegenübers mit einer neuen Äußerung.\n",
    "- **Entscheidungsverhalten**: Beide Agenten treffen in jeder Runde strategische Entscheidungen („kooperieren“ oder „nicht kooperieren“).\n",
    "- **RAG-Moderation**: Ein externer Moderator (z. B. mit Zugriff auf wissenschaftliche PDF-Dokumente) bewertet die Äußerungen mit Hilfe von semantischer Suche und liefert Einschätzungen sowie Quellenangaben.\n",
    "- **Protokollierung**: Alle Daten werden in einem DataFrame gesammelt und als `.csv` exportiert.\n",
    "- **Erweiterbarkeit**: Das System ist modular aufgebaut und lässt sich leicht mit weiteren Runden, Agentenlogiken oder Analysefunktionen erweitern.\n",
    "\n",
    "## Technische Besonderheiten:\n",
    "\n",
    "- Vollständige Trennung von Installationen, Imports und Hauptlogik\n",
    "- Integration von OCR und Übersetzung (für RAG-Quellen auf Deutsch)\n",
    "- Klare Struktur und Kommentare für einfache Anpassung\n",
    "\n",
    "> Dieses Notebook eignet sich hervorragend für die Erforschung von argumentativer KI, Spieltheorie, Entscheidungsdynamik und der Anwendung von Retrieval-Modellen in simulierten Umgebungen.\n"
   ]
  },
  {
   "cell_type": "code",
   "execution_count": null,
   "id": "5d88f81f",
   "metadata": {
    "id": "5d88f81f"
   },
   "outputs": [],
   "source": [
    "import pandas as pd"
   ]
  },
  {
   "cell_type": "code",
   "execution_count": null,
   "id": "gBoNKVmKlAqu",
   "metadata": {
    "id": "gBoNKVmKlAqu"
   },
   "outputs": [],
   "source": [
    "# Erstelle zwei Agenten und einen Moderator mit unterschiedlichen Eigenschaften\n",
    "agent_a = Agent(name=\"Agent Ökologisch A\", gesinnung=\"ökologisch\")\n",
    "agent_b = Agent(name=\"Agent Ökonomisch B\", gesinnung=\"ökonomisch\")"
   ]
  },
  {
   "cell_type": "code",
   "execution_count": null,
   "id": "b85564bb",
   "metadata": {
    "colab": {
     "base_uri": "https://localhost:8080/"
    },
    "id": "b85564bb",
    "outputId": "a16a9255-d9f1-4d14-d150-3b4e840a4b23"
   },
   "outputs": [
    {
     "name": "stdout",
     "output_type": "stream",
     "text": [
      "\n",
      " **Runde 1**\n",
      " **Agent A:** Das ist nicht richtig! Ökonomen und ökozonenrechtsler können Ihre Position als aktuelle Ökoforschung beweisen....\n",
      " **Agent A entscheidet:** nicht kooperieren\n",
      "**\n",
      " **Agent B:** Dass Investitionsentscheidungen eine wichtige Rolle bei Wirtschaftserfolgen spielen haben, wird von den Statistiken belegt. Das sind z.B....\n",
      " **Agent B entscheidet:** kooperieren\n",
      "--------------------------------------------------\n",
      " **Runde 1 gespeichert!**\n",
      "\n",
      " **Runde 2**\n",
      " **Agent A:** Die weltweiten Klimawandelbedingungen lassen sich durch die Migration von Arbeitsplätzen und durch ein erhöhtes Anliegen nach Kohle verursachen. Gleichzeitig bringt diese Migrationsbewegung große Finanzmittel für Industrieeinrichtungen aus dem Ausland hervor....\n",
      " **Agent A entscheidet:** kooperieren\n",
      "**\n",
      " **Agent B:** Das sind Investitionsbemühungen, die das Öko-Netzwerk ändern werden. Diese Anstrengungen führten zu einer Verbesserung des Klimawandels im letzten Jahr....\n",
      " **Agent B entscheidet:** kooperieren\n",
      "--------------------------------------------------\n",
      " **Runde 2 gespeichert!**\n",
      "\n",
      " **Runde 3**\n",
      " **Agent A:** Das wahre Ende für den Klimatiefall ist eine neue Wirtschaftsstruktur. Die Ökonomen bewerfen Ihr Denken und fordern Sie auf, sie nicht zur Zeit zu übernehmen....\n",
      " **Agent A entscheidet:** nicht kooperieren\n",
      "**\n",
      " **Agent B:** Die globale Wirtschaftskrise seit 2008 kann sowohl durch den World Trade Organisation (WTO) als auch durch das internationale Kapitalmarkt-System gestoppt werden. WTO hat eine solche Krise schon im Jahr 1931 erklärt, das Kapitalkonzept des internationalen Kapitälsystems ist jedoch erst seit Mitte der 60er Jahre gelöst worden....\n",
      " **Agent B entscheidet:** nicht kooperieren\n",
      "--------------------------------------------------\n",
      " **Runde 3 gespeichert!**\n",
      "\n",
      " **Runde 4**\n",
      " **Agent A:** Der Globalisierungsprozess steht unter dem Eindruck von weltweit hervorgehobenem Ausgabegeschäft und hängt insbesondere vom globalen Handelsgeschäft zusammen. Das internationale Kapitalexpertenkonzepte wurde bereits Anfang der achtzigerjahre entwickelt....\n",
      " **Agent A entscheidet:** kooperieren\n",
      "**\n",
      " **Agent B:** Investitionsausgaben führen dazu, dass wir mehr Ressourcen haben als wir benötigen können. Denn wenn wir weniger Ressources haben, sind die Produktionsfaktoren vieler Unternehmen (z.B....\n",
      " **Agent B entscheidet:** kooperieren\n",
      "--------------------------------------------------\n",
      " **Runde 4 gespeichert!**\n",
      "\n",
      " **Runde 5**\n",
      " **Agent A:** Es gibt wesentlich mehr Schutzgebiete für Tiere und Pflanzen als unsere Nutzfläche abgedeckt. Das ist eine Einschränkung des Lebensraums, da sich hier sehr viele Tierarten befinden....\n",
      " **Agent A entscheidet:** kooperieren\n",
      "**\n",
      " **Agent B:** In diesem Kontext handelt es sich um einen Vorschlag zur Umstellung der Internationalen Finanzmarktaufgabe (IFM) auf eine globale Marktwirtschaft. Dies bedeutet, dass das gesamte Kapital von Unternehmen an die Gewinner übertragen wird....\n",
      " **Agent B entscheidet:** nicht kooperieren\n",
      "--------------------------------------------------\n",
      " **Runde 5 gespeichert!**\n",
      "\n",
      " **Runde 6**\n",
      " **Agent A:** Das ist der Anspruch einer globalen Marktumwandlung für den IFM. Diese Umwandelung soll zum Ausgleich des zu schnellen Rückgangs an Globalkapital und zum Erreichen des Ziels eines ökonomen Klimawandels führen....\n",
      " **Agent A entscheidet:** kooperieren\n",
      "**\n",
      " **Agent B:** Die Erde hat einen gewissen Grad von Konsumverzicht – und diese Verzichtsbedingungen erfordern eine Überprüfung auf die Anzahl der geschützten Gebiete. Unsere Umweltschutzziele sind im Grunde unerrechbar....\n",
      " **Agent B entscheidet:** nicht kooperieren\n",
      "--------------------------------------------------\n",
      " **Runde 6 gespeichert!**\n",
      "\n",
      " **Runde 7**\n",
      " **Agent A:** Die Ernährungsarzneimittelindustrie ist zwar immer noch wichtig, aber nicht mehr so sehr wie früher. Sie hat sich zu einer Vielzahl von Produkten entwickelt, die ihren Warenstandort nahe gelegen haben (wie beispielsweise Nahrungsmittel für Tiere) oder ihre Lagerbestände weit entfernt haben lassen (nur Futter)....\n",
      " **Agent A entscheidet:** nicht kooperieren\n",
      "**\n",
      " **Agent B:** Die Globalisierung hat keine Richtlinien aufgestellt. Eine globaler Kapitalmarktwechsel gibt es nicht....\n",
      " **Agent B entscheidet:** kooperieren\n",
      "--------------------------------------------------\n",
      " **Runde 7 gespeichert!**\n",
      "\n",
      " **Runde 8**\n",
      " **Agent A:** Das globale Finanzsystem ist eine weltweit entwickelte Systemeinstufungssystem, das die Erwartungen von Investoren und Handelsanbietern untereinander berücksichtigt. Die globalen Kapitalkapazitäten sind so hoch, dass sie überall im Weltraum gespeichert werden können....\n",
      " **Agent A entscheidet:** kooperieren\n",
      "**\n",
      " **Agent B:** Investitionsmöglichkeiten sind gegeben – und es gibt nichts, was diese mithilfe eines gewissen Grundkapitels abschalten kann. Die Entwicklung der Ernahrungskette ist auf den Weg gebracht worden, um deren Standpunkte zu berücksichtigen: Immer weniger Menschen nutzen ausschließlich die Mengen an Lebensmitteln, welche sie direkt erhält....\n",
      " **Agent B entscheidet:** nicht kooperieren\n",
      "--------------------------------------------------\n",
      " **Runde 8 gespeichert!**\n",
      "\n",
      " **Runde 9**\n",
      " **Agent A:** Das Leben im . Jahrhundert ist immer von einer ökoprogressiven Umweltpolitik geprägt gewesen....\n",
      " **Agent A entscheidet:** kooperieren\n",
      "**\n",
      " **Agent B:** Das Globale FINANZSYSTEM (GFS) gehört zu den größten Instrumente des internationalen Finanzausgleichs. Dazu gehören sowohl Einzelhandel als auch Banken....\n",
      " **Agent B entscheidet:** nicht kooperieren\n",
      "--------------------------------------------------\n",
      " **Runde 9 gespeichert!**\n",
      "\n",
      " **Runde 10**\n",
      " **Agent A:** Das GLOBAL FUNDING SYSTEME (FGS), das einen großen Teil von internationaler Verpflichtungen umfasst, ist durch die Unterstützung von Bankern beeinflußt. Die meisten Bankrollen sind zumindest teilweise gespendet worden und werden von ihnen zur Ausführung einer Reihe von Aufträgen veranlasst....\n",
      " **Agent A entscheidet:** kooperieren\n",
      "**\n",
      " **Agent B:** Das Leben in dem . Jahrhunderts hat eine umfassende ökoökonomie aufgenommen....\n",
      " **Agent B entscheidet:** kooperieren\n",
      "--------------------------------------------------\n",
      " **Runde 10 gespeichert!**\n",
      "\n",
      " **Runde 11**\n",
      " **Agent A:** Das Leben im . Jahrhundert hat viele ökoprobleme und Problemfelder, die nur durch einen Umgang mit den Ressourcen unserer Erde gelöst werden können....\n",
      " **Agent A entscheidet:** nicht kooperieren\n",
      "**\n",
      " **Agent B:** Das FGS steht für Förderinstrumente des Internazionalitätshaushaltskabinetts (IHK) – eine Bezeichnung, die nur zu Recht wird. Es gibt viele andere Formen und Anwendungsmöglichkeiten, an denen Banken ihre Kapitalmittel ausgeliefert haben....\n",
      " **Agent B entscheidet:** nicht kooperieren\n",
      "--------------------------------------------------\n",
      " **Runde 11 gespeichert!**\n",
      "\n",
      " **Runde 12**\n",
      " **Agent A:** Umgekehrt sagen wir: Was soll das FG sein? Er ist nicht unbedingt Teil eines Instrumentalkapitals (FGS), sondern kann auch ohne diese Kennzahl als Mittelbank oder Kreditsparbank verwendet werden....\n",
      " **Agent A entscheidet:** nicht kooperieren\n",
      "**\n",
      " **Agent B:** Ich glaube nicht an die Frage 'Warum investieren wir?' sondern 'Abbauweise, Warunki technologiczne i wymagania konkurencyjne' (Berechnungen für 15 Jahre). Wir wollen wissen, ob es eine Wachstumsrate gibt....\n",
      " **Agent B entscheidet:** kooperieren\n",
      "--------------------------------------------------\n",
      " **Runde 12 gespeichert!**\n",
      "\n",
      " **Runde 13**\n",
      " **Agent A:** Die Verwendung von Technik und Konstruktionsmöglichkeiten ist grundlegend dafür, die Zukunft zu beschleunigen. Immer mehr Produkte werden ausschließlich miteinander kompatibel gemacht – beispielsweise durch das Abschalten von Einwegzahnrädern oder durch Automatisierung des Schrittwechsels beim Herstellen von Gummipaste....\n",
      " **Agent A entscheidet:** nicht kooperieren\n",
      "**\n",
      " **Agent B:** Die Vermarktungsstrategie von Edenred GmbH ist eine Marketingstrategy für die Einkaufsangebote und Lebensmittelgeschäfte. Diese Strategien erlauben es dem Unternehmen, den Einzelhändler zu vertreten und seine Produkte durch Kundendienst im Online-Shop zu vervollständigen....\n",
      " **Agent B entscheidet:** nicht kooperieren\n",
      "--------------------------------------------------\n",
      " **Runde 13 gespeichert!**\n",
      "\n",
      " **Runde 14**\n",
      " **Agent A:** Die Vielfalt des online lieferbaren Warengeschäfts (Online-Retail) hat dazu beigetragen, dass sich Einzelhandel nicht mehr als einen einzelnen Teil seiner Vertriebskonzeption darstellt, sondern vielmehr verschiedene Möglichkeiten für das Verpacken und Versenden von Waren auf die unterschiedlichsten Märkten anbietet. Das Konzept der Vergütungssysteme hingegen ist immer noch hierarchisiert....\n",
      " **Agent A entscheidet:** nicht kooperieren\n",
      "**\n",
      " **Agent B:** Ich habe meine Vorstellung davon geteilt, dass bei dem automatisierten Handwerk nicht nur die Materiallast reduziert wird, sondern auch die Arbeitszeit. Ist jede neue technische Umsetzung eine Verbesserung?...\n",
      " **Agent B entscheidet:** kooperieren\n",
      "--------------------------------------------------\n",
      " **Runde 14 gespeichert!**\n",
      "\n",
      " **Runde 15**\n",
      " **Agent A:** Nein, das ist keine Verbessung. Der Gegner von Automatisierung argumentiert hier, sie würde nur mehr Arbeitskräfte schaffen als bisher gebrauchte....\n",
      " **Agent A entscheidet:** nicht kooperieren\n",
      "**\n",
      " **Agent B:** Die Online-Verbrennungsmotorindustrie wird von einem komplett neuen Marktbelegern unterstützt werden. Online verkaufte Fahrzeuge wurden seit 2014 den Werken geliefert....\n",
      " **Agent B entscheidet:** nicht kooperieren\n",
      "--------------------------------------------------\n",
      " **Runde 15 gespeichert!**\n",
      "\n",
      " **Runde 16**\n",
      " **Agent A:** Online Verbrennen ist die neue Form des Ölverbrauchs. Es steht allen Kunden im Wege und damit auch für alle anderen Anbieter, deren Produkte dies nicht lösen können oder nicht begründet werden müssen....\n",
      " **Agent A entscheidet:** kooperieren\n",
      "**\n",
      " **Agent B:** Das Gegenteil des Eintrags steht in den Vorschriften des Wettbewerbsrechts. Man kann nicht die Initiativen eines anderen Verschiebens von Arbeitsaufgaben an seine Nachbarn....\n",
      " **Agent B entscheidet:** nicht kooperieren\n",
      "--------------------------------------------------\n",
      " **Runde 16 gespeichert!**\n",
      "\n",
      " **Runde 17**\n",
      " **Agent A:** Die Regelung wird im Gattungsgesetz zu Änderungen im öffentlichen Dienst geschützt. Demnach können diese Ändlungen nicht unmittelbar für die Nachfolgerstellung vorgesehen werden....\n",
      " **Agent A entscheidet:** nicht kooperieren\n",
      "**\n",
      " **Agent B:** Das Online-Verbrennungsprodukt wirkt sich auf den Markt aus, weil es weniger komplexe Geräte nutzt als eine klassische Ölbombe. Deshalb kann man das Problem der veralteten Energieversorgungssysteme im Privathaus und Wohngebäude lindern ohne die gesamte Öleinfuhr zu unterbrechen....\n",
      " **Agent B entscheidet:** kooperieren\n",
      "--------------------------------------------------\n",
      " **Runde 17 gespeichert!**\n",
      "\n",
      " **Runde 18**\n",
      " **Agent A:** Im Allgemeinen ist die aktuelle Energienutzung in privater Wohnanlage schwierig dafür bekannt, dass die Anlagen über einen hohen Mindestdurchmesser verfügen. Diese Einstellungen führten dazu, daß jeder Haushalt seine eigene Kombination von Energiemengen hat....\n",
      " **Agent A entscheidet:** kooperieren\n",
      "**\n",
      " **Agent B:** Das GATG ist eine Art von Bestimmungsregel. Im Gegensatz zum TSG 189 (Anlage IV) sind solche Veränderungen aber über den Verwaltungsausschuss verabschiedet und dürfen direkt zur Nachfolgestaatsverwaltung gehören....\n",
      " **Agent B entscheidet:** kooperieren\n",
      "--------------------------------------------------\n",
      " **Runde 18 gespeichert!**\n",
      "\n",
      " **Runde 19**\n",
      " **Agent A:** Die Gesamtmenge des im Vertragsschluss vorgesehenen Umweltbestandteils (BtU) kann vom Vertragskonzern für alle Produkte oder Dienstleistungen abgerechnet werden, die nicht als selbstständige Angebote im Zuge einer Einzelhandelsbeziehung bestellt werden können. Damit würde es hier zu einer Aufteilung der Kosten kommen....\n",
      " **Agent A entscheidet:** nicht kooperieren\n",
      "**\n",
      " **Agent B:** Warum würde eine ähnliche Komposition einer solchen Gruppe von Einheiten für den öffentlichen Raum nicht möglich sein?Deine Antragsantwort sollte folgende Ausdrücke enthalten: Investitionsplan, Konsensbeschluss, Methode oder Konzept....\n",
      " **Agent B entscheidet:** kooperieren\n",
      "--------------------------------------------------\n",
      " **Runde 19 gespeichert!**\n",
      "\n",
      " **Runde 20**\n",
      " **Agent A:** Die Anforderungen werden durch eine Umsetzung des EU-Datenverkehrsgesetzes (EU Data Protection Directive) geregelt und sind im Allgemeinen auch ausschliesslich auf die Verarbeitung personenbezogener Daten eingeschränkt. Es gibt aber Ausnahmen, sofern das nach Maßgabe dieses Gesetz verlangte Schutzmaßnahmen zur Erreichung ihrer besonderen Interessen gelten dürfen....\n",
      " **Agent A entscheidet:** nicht kooperieren\n",
      "**\n",
      " **Agent B:** Die Verwendung von Umweltsubschriften ist geltend gemacht worden und unterstützt die Konstruktion eines gesetzlichen Bestandsbetrages aus den gesamten Einkaufsumwandlungen sowie dem damit verbundenen Erwerb von Nachfrageausgleichsrechten durch das Auslieferungsgesetz. Eine solche Auslegung lässt sich nur dann erkennen, wenn sie eine Entscheidung anstrebt....\n",
      " **Agent B entscheidet:** nicht kooperieren\n",
      "--------------------------------------------------\n",
      " **Runde 20 gespeichert!**\n",
      "\n",
      " **Runde 21**\n",
      " **Agent A:** Ist es richtig, dass wir unsere Konsumententendenzen über die Umweltschutzziele zu verstärkt aufregern? Das kann dazu führen, daß wir nicht mehr für uns selbst wählen können, sondern euren Nutzern direkt befolgen müssen....\n",
      " **Agent A entscheidet:** kooperieren\n",
      "**\n",
      " **Agent B:** Das EU Data protection directives sind eine Bestimmung des Europäischen Parlaments und der Römischen Kammer, um Personalisierte Daten zu regeln und sicherzustellen, dass diese von einer Organisation nicht zugänglich gemacht werden können. Diese Regelung ist in allen Mitgliedstaaten gültig, es sei denn, sie zulässige speziell für einen bestimmten Zweck vorgesehen hat....\n",
      " **Agent B entscheidet:** nicht kooperieren\n",
      "--------------------------------------------------\n",
      " **Runde 21 gespeichert!**\n",
      "\n",
      " **Runde 22**\n",
      " **Agent A:** Das EU-Datenschutzgesetz (DSGVO) wurde 2016 vom Europaparlament und dem Rat ratifiziert. Es regelt die Verarbeitung personeller Daten im Sinne der Artikel 4-8 DSGVOs auf Grundlage der allgemeinen Datenschutzeinstellungen als EU/EA-Lizenzbehörde (Artikel 33 Absatz 1 DGUV)....\n",
      " **Agent A entscheidet:** nicht kooperieren\n",
      "**\n",
      " **Agent B:** Dies ist eine Möglichkeit zum Erstellen von gesicherten und sicheren Produkten. Ich erkläre Ihnen den Schrittweisen zur Herstellung des Produkte, damit du das Verhalten beobachten kannst....\n",
      " **Agent B entscheidet:** nicht kooperieren\n",
      "--------------------------------------------------\n",
      " **Runde 22 gespeichert!**\n",
      "\n",
      " **Runde 23**\n",
      " **Agent A:** Jetzt wird es schneller sein, um die Eier zu produzieren. Die Reproduktion erfolgt durch den Einsatz einer neuen Technik....\n",
      " **Agent A entscheidet:** nicht kooperieren\n",
      "**\n",
      " **Agent B:** Das EU Draft Data Protection Regulation ist keine Innovation für das Internet. Er begründet sich auf die Vorschriften des Schengenverfahrens und den Schutz von Identität in einer Globalgesellschaft, was immer wieder zu Problemen geleitet hat....\n",
      " **Agent B entscheidet:** kooperieren\n",
      "--------------------------------------------------\n",
      " **Runde 23 gespeichert!**\n",
      "\n",
      " **Runde 24**\n",
      " **Agent A:** Die EU-Schengener Konvention schreibt dem Europäischen Gerichtshof (EGJH) eine weitreichende Flexibilitätsfreiheit im Sinne des Artikels 28 Absatz 1, Artikel 46 sowie Article 51 GG bei der Verfolgung von Privatsphären durch das europäische Datenschutzgesetzbuch. Das Scheringverfahren zur Lösung dieser Unsicherheiten kann nur als untersagbar angesehen werden....\n",
      " **Agent A entscheidet:** nicht kooperieren\n",
      "**\n",
      " **Agent B:** Ein Neuentwicklungsprozess im Umweltbereich hat bisher nur wenig Schaden für das Leben von Menschen und Tieren hervorgerufen. Allerdings möchte ich dich davon überzeugen, dass dies einen wesentlichen Beitrag zur Erhaltung des Lebensraums ist....\n",
      " **Agent B entscheidet:** nicht kooperieren\n",
      "--------------------------------------------------\n",
      " **Runde 24 gespeichert!**\n",
      "\n",
      " **Runde 25**\n",
      " **Agent A:** Ich habe in meinen letzten 3 Jahren die Welt bewusstseinsverändernden Entwicklungen untersucht. Meine Untersuchungen zeigten, daß sich in den letzten zwei Monaten die Erwartungen zu einer Mobilitätszuleitung verbessert haben....\n",
      " **Agent A entscheidet:** nicht kooperieren\n",
      "**\n",
      " **Agent B:** Investitionsausgaben haben zu einer guten Kooperation zwischen den Mitgliedstaaten geführt, sodass es keine Frage mehr ist, die Schengeneinigung für privater Rechtsschutz weiterzuführen. Die Frist zum Umsetzen der Schengenkonvention hat bereits abgelaufen und wir wollen damit nun nachhaltige Nährböden für die Wirtschaft entwickeln....\n",
      " **Agent B entscheidet:** kooperieren\n",
      "--------------------------------------------------\n",
      " **Runde 25 gespeichert!**\n",
      "\n",
      " **Simulation beendet!**\n"
     ]
    }
   ],
   "source": [
    "#import pandas as pd\n",
    "\n",
    "# Liste zur Speicherung der Daten\n",
    "speicher = []\n",
    "\n",
    "# Simulierter Rundenindikator\n",
    "runden = 25\n",
    "\n",
    "letzter_satz = \" Es gab noch kein Gespräch. \"\n",
    "\n",
    "letzter_satz_a = letzter_satz\n",
    "letzter_satz_b = letzter_satz\n",
    "\n",
    "for runde in range(1, runden + 1):  # Runden von 1 bis runden\n",
    "    print(f\"\\n **Runde {runde}**\")\n",
    "\n",
    "    # Agenten sprechen nur basierend auf dem letzten Satz\n",
    "    agent_a_antwort = agent_a.sprechen(letzter_satz_b)\n",
    "    agent_b_antwort = agent_b.sprechen(letzter_satz_a)\n",
    "\n",
    "    antwort_a_bereinigt = translate_to_german(get_first_two_sentences(agent_a_antwort.replace(\"<|assistant|>\", \"\").replace(\"Assistant:\", \"\").replace(\"\\n\",\"\").replace(\"Antwort:\",\"\").strip()))\n",
    "    antwort_b_bereinigt = translate_to_german(get_first_two_sentences(agent_b_antwort.replace(\"<|assistant|>\", \"\").replace(\"Assistant:\", \"\").replace(\"\\n\",\"\").replace(\"Antwort:\",\"\").strip()))\n",
    "\n",
    "    # Entscheidungen\n",
    "    agent_a_entscheidung = agent_a.entscheide()\n",
    "    agent_b_entscheidung = agent_b.entscheide()\n",
    "\n",
    "    #  Runde-für-Runde Ausgabe\n",
    "    print(f\" **Agent A:** {antwort_a_bereinigt}...\")\n",
    "    print(f\" **Agent A entscheidet:** {agent_a_entscheidung}\")\n",
    "    print(\"**\")\n",
    "    print(f\" **Agent B:** {antwort_b_bereinigt}...\")\n",
    "    print(f\" **Agent B entscheidet:** {agent_b_entscheidung}\")\n",
    "    print(\"-\" * 50)\n",
    "\n",
    "    # Speichern der AgentA-Ausgabe\n",
    "    speicher.append([runde, \"AgentA\", \"ökologisch\", antwort_a_bereinigt, agent_a_entscheidung])\n",
    "\n",
    "    # Speichern der AgentB-Ausgabe\n",
    "    speicher.append([runde, \"AgentB\", \"ökonomisch\", antwort_b_bereinigt, agent_b_entscheidung])\n",
    "\n",
    "    # ⏭️ Nur den letzten Satz speichern (für nächste Runde)\n",
    "    letzter_satz_b = antwort_b_bereinigt.replace(\"<|assistant|>\", \"\").replace(\"Assistant:\", \"\").strip()\n",
    "    letzter_satz_a = antwort_a_bereinigt.replace(\"<|assistant|>\", \"\").replace(\"Assistant:\", \"\").strip()\n",
    "\n",
    "    df = pd.DataFrame(speicher, columns=[\"Runde\", \"Agent\", \"Gesinnung\", \"Gesprochene Worte\", \"Entscheidung\"])\n",
    "\n",
    "    #  In Google Drive speichern (fortlaufende Speicherung)\n",
    "    df.to_csv(drive_folder + \"agenten_dialog_pure.csv\", mode=\"w\", header=True, index=False, encoding=\"utf-8\")\n",
    "\n",
    "    print(f\" **Runde {runde} gespeichert!**\")\n",
    "\n",
    "print(\"\\n **Simulation beendet!**\")\n"
   ]
  },
  {
   "cell_type": "code",
   "execution_count": null,
   "id": "ccd8e703",
   "metadata": {
    "colab": {
     "base_uri": "https://localhost:8080/",
     "height": 493
    },
    "id": "ccd8e703",
    "outputId": "f2311c75-2097-4b67-e7fb-08d4d300c10c"
   },
   "outputs": [
    {
     "data": {
      "application/vnd.google.colaboratory.module+javascript": "\n      import \"https://ssl.gstatic.com/colaboratory/data_table/e523c247d1e24a05/data_table.js\";\n\n      const table = window.createDataTable({\n        data: [[{\n            'v': 0,\n            'f': \"0\",\n        },\n\"Runde\",\n\"Agent\",\n\"Gesinnung\",\n\"Gesprochene Worte\",\n\"Entscheidung\"],\n [{\n            'v': 1,\n            'f': \"1\",\n        },\n\"1\",\n\"AgentA\",\n\"\\u00f6kologisch\",\n\"Das ist eine unglaubliche Methode!Anschlie\\u00dfend wird das Argument im Text hinterlegt und eingebettet. Die Nutzungsbedingungen werden auf die Schaltfl\\u00e4che \\\"Ich bin bereit\\\" gedruckt.\",\n\"kooperieren\"],\n [{\n            'v': 2,\n            'f': \"2\",\n        },\n\"1\",\n\"AgentB\",\n\"\\u00f6konomisch\",\n\"Das ist echt eine ungew\\u00f6hnliche Situation. Die wissenschaftlichen Forschungen zeigten, dass die meisten Unternehmen, welche zu den 1% bestplatzierten Firmen im Index Fortuna geh\\u00f6ren, wirtschaftlich erfolgreich sind und nicht profitieren von Profitablen Gesch\\u00e4ftsbedingungen.\",\n\"nicht kooperieren\"],\n [{\n            'v': 3,\n            'f': \"3\",\n        },\n\"2\",\n\"AgentA\",\n\"\\u00f6kologisch\",\n\"Es gibt viele Gr\\u00fcnde f\\u00fcr das Verhalten des Konsumenten, das du erw\\u00e4hnt hast. Sie k\\u00f6nnen z.B.: Unterst\\u00fctzung, Information, Fragebeantwortung, Lieferung an einen angegebenen Ort oder -zus\\u00e4tzlich zum \\\"Standard\\\", kannst du auch \\u00fcber Ihre eigenen Produkte sorgen!\",\n\"nicht kooperieren\"],\n [{\n            'v': 4,\n            'f': \"4\",\n        },\n\"2\",\n\"AgentB\",\n\"\\u00f6konomisch\",\n\"Eine solche L\\u00f6sung kann durch Aufgabe 10 gel\\u00f6st sein - es gibt noch einen weiteren Weg.\",\n\"kooperieren\"],\n [{\n            'v': 5,\n            'f': \"5\",\n        },\n\"3\",\n\"AgentA\",\n\"\\u00f6kologisch\",\n\"Die Umwelthierarchie erlaubt eine komplette Abgrenzung zwischen den Ressourcen des Lebensraumes (Nahrungsmittel, Energie und Wasser), wobei die Nahrung f\\u00fcr alle Leben im Sinne von Raffinerienprodukten geerbt wird. Dazu geh\\u00f6rt auch das Land, auf dem diese Produkte hergestellt werden.\",\n\"kooperieren\"],\n [{\n            'v': 6,\n            'f': \"6\",\n        },\n\"3\",\n\"AgentB\",\n\"\\u00f6konomisch\",\n\"Die gesammelten Bef\\u00fcrchtungen und Ablehnungsgesuche haben meine Kunden gelehrt, dass es wichtig ist, sie bei der Entscheidung zu unterst\\u00fctzen, was die Anwendung von Kundenzufriedenheit als eine sehr schnelle Wegmarke zur Erfolgsfindung gilt. Wir wollen Ihnen garantiert den h\\u00f6chsten Standard im Bereich K\\u00fcndigung aufweisen, da wir uns damit unserer Kunde um die beste Haltung bereit gemacht haben.\",\n\"nicht kooperieren\"],\n [{\n            'v': 7,\n            'f': \"7\",\n        },\n\"4\",\n\"AgentA\",\n\"\\u00f6kologisch\",\n\"Nein, ich stimme nicht zu. Ich glaube, das kann man eigentlich nicht erwarten.\",\n\"nicht kooperieren\"],\n [{\n            'v': 8,\n            'f': \"8\",\n        },\n\"4\",\n\"AgentB\",\n\"\\u00f6konomisch\",\n\"Die Umwelthierarchy erm\\u00f6glicht nicht nur eine Komplettierung der Grenzen zwischen Ressorientierten L\\u00f6sungen (n\\u00e4hrstoffreiche Prozesse) und Erzeugnisprozessen, sondern beschr\\u00e4nkt sich nur noch auf solche, die ausschlie\\u00dflich zur Verf\\u00fcgung stehen. Das Land enth\\u00e4lt immerhin mehr als 70 % der europ\\u00e4ischen Nutztiere und ist eines der Hauptquellen von N\\u00e4hrmitteln f\\u00fcr die industrielle Netzwerke.\",\n\"kooperieren\"],\n [{\n            'v': 9,\n            'f': \"9\",\n        },\n\"5\",\n\"AgentA\",\n\"\\u00f6kologisch\",\n\"Die Umwerte dieser beiden Komponenten sind gleich \\u2013 je weniger Effizienzeins\\u00e4tze wirken auch wenniejerh\\u00f6hender. Die umfassende Ressourcenkomponente beeinflusst den Preis der Nahrungsmittelproduktion durch die Zulage an das zentrale Produktionsverfahren.\",\n\"kooperieren\"],\n [{\n            'v': 10,\n            'f': \"10\",\n        },\n\"5\",\n\"AgentB\",\n\"\\u00f6konomisch\",\n\"Die Wirklichkeit ist anders als die Erwartungen. Ein wirtschaftlich schlechter Verlauf hat auch einen positiven Effekt auf den gesamten Markt.\",\n\"nicht kooperieren\"]],\n        columns: [[\"number\", \"index\"], [\"string\", \"Runde\"], [\"string\", \"Agent\"], [\"string\", \"Gesinnung\"], [\"string\", \"Gesprochene Worte\"], [\"string\", \"Entscheidung\"]],\n        columnOptions: [{\"width\": \"1px\", \"className\": \"index_column\"}],\n        rowsPerPage: 25,\n        helpUrl: \"https://colab.research.google.com/notebooks/data_table.ipynb\",\n        suppressOutputScrolling: true,\n        minimumWidth: undefined,\n      });\n\n      function appendQuickchartButton(parentElement) {\n        let quickchartButtonContainerElement = document.createElement('div');\n        quickchartButtonContainerElement.innerHTML = `\n    <div id=\"df-3a867de2-8aa4-4336-b4e4-4d78a401edad\">\n      <button class=\"colab-df-quickchart\" onclick=\"quickchart('df-3a867de2-8aa4-4336-b4e4-4d78a401edad')\"\n                title=\"Suggest charts\"\n                style=\"display:none;\">\n\n<svg xmlns=\"http://www.w3.org/2000/svg\" height=\"24px\"viewBox=\"0 0 24 24\"\n     width=\"24px\">\n    <g>\n        <path d=\"M19 3H5c-1.1 0-2 .9-2 2v14c0 1.1.9 2 2 2h14c1.1 0 2-.9 2-2V5c0-1.1-.9-2-2-2zM9 17H7v-7h2v7zm4 0h-2V7h2v10zm4 0h-2v-4h2v4z\"/>\n    </g>\n</svg>\n      </button>\n\n<style>\n  .colab-df-quickchart {\n      --bg-color: #E8F0FE;\n      --fill-color: #1967D2;\n      --hover-bg-color: #E2EBFA;\n      --hover-fill-color: #174EA6;\n      --disabled-fill-color: #AAA;\n      --disabled-bg-color: #DDD;\n  }\n\n  [theme=dark] .colab-df-quickchart {\n      --bg-color: #3B4455;\n      --fill-color: #D2E3FC;\n      --hover-bg-color: #434B5C;\n      --hover-fill-color: #FFFFFF;\n      --disabled-bg-color: #3B4455;\n      --disabled-fill-color: #666;\n  }\n\n  .colab-df-quickchart {\n    background-color: var(--bg-color);\n    border: none;\n    border-radius: 50%;\n    cursor: pointer;\n    display: none;\n    fill: var(--fill-color);\n    height: 32px;\n    padding: 0;\n    width: 32px;\n  }\n\n  .colab-df-quickchart:hover {\n    background-color: var(--hover-bg-color);\n    box-shadow: 0 1px 2px rgba(60, 64, 67, 0.3), 0 1px 3px 1px rgba(60, 64, 67, 0.15);\n    fill: var(--button-hover-fill-color);\n  }\n\n  .colab-df-quickchart-complete:disabled,\n  .colab-df-quickchart-complete:disabled:hover {\n    background-color: var(--disabled-bg-color);\n    fill: var(--disabled-fill-color);\n    box-shadow: none;\n  }\n\n  .colab-df-spinner {\n    border: 2px solid var(--fill-color);\n    border-color: transparent;\n    border-bottom-color: var(--fill-color);\n    animation:\n      spin 1s steps(1) infinite;\n  }\n\n  @keyframes spin {\n    0% {\n      border-color: transparent;\n      border-bottom-color: var(--fill-color);\n      border-left-color: var(--fill-color);\n    }\n    20% {\n      border-color: transparent;\n      border-left-color: var(--fill-color);\n      border-top-color: var(--fill-color);\n    }\n    30% {\n      border-color: transparent;\n      border-left-color: var(--fill-color);\n      border-top-color: var(--fill-color);\n      border-right-color: var(--fill-color);\n    }\n    40% {\n      border-color: transparent;\n      border-right-color: var(--fill-color);\n      border-top-color: var(--fill-color);\n    }\n    60% {\n      border-color: transparent;\n      border-right-color: var(--fill-color);\n    }\n    80% {\n      border-color: transparent;\n      border-right-color: var(--fill-color);\n      border-bottom-color: var(--fill-color);\n    }\n    90% {\n      border-color: transparent;\n      border-bottom-color: var(--fill-color);\n    }\n  }\n</style>\n\n      <script>\n        async function quickchart(key) {\n          const quickchartButtonEl =\n            document.querySelector('#' + key + ' button');\n          quickchartButtonEl.disabled = true;  // To prevent multiple clicks.\n          quickchartButtonEl.classList.add('colab-df-spinner');\n          try {\n            const charts = await google.colab.kernel.invokeFunction(\n                'suggestCharts', [key], {});\n          } catch (error) {\n            console.error('Error during call to suggestCharts:', error);\n          }\n          quickchartButtonEl.classList.remove('colab-df-spinner');\n          quickchartButtonEl.classList.add('colab-df-quickchart-complete');\n        }\n        (() => {\n          let quickchartButtonEl =\n            document.querySelector('#df-3a867de2-8aa4-4336-b4e4-4d78a401edad button');\n          quickchartButtonEl.style.display =\n            google.colab.kernel.accessAllowed ? 'block' : 'none';\n        })();\n      </script>\n    </div>`;\n        parentElement.appendChild(quickchartButtonContainerElement);\n      }\n\n      appendQuickchartButton(table);\n    ",
      "text/html": [
       "<div>\n",
       "<style scoped>\n",
       "    .dataframe tbody tr th:only-of-type {\n",
       "        vertical-align: middle;\n",
       "    }\n",
       "\n",
       "    .dataframe tbody tr th {\n",
       "        vertical-align: top;\n",
       "    }\n",
       "\n",
       "    .dataframe thead th {\n",
       "        text-align: right;\n",
       "    }\n",
       "</style>\n",
       "<table border=\"1\" class=\"dataframe\">\n",
       "  <thead>\n",
       "    <tr style=\"text-align: right;\">\n",
       "      <th></th>\n",
       "      <th>Runde</th>\n",
       "      <th>Agent</th>\n",
       "      <th>Gesinnung</th>\n",
       "      <th>Gesprochene Worte</th>\n",
       "      <th>Entscheidung</th>\n",
       "    </tr>\n",
       "  </thead>\n",
       "  <tbody>\n",
       "    <tr>\n",
       "      <th>0</th>\n",
       "      <td>Runde</td>\n",
       "      <td>Agent</td>\n",
       "      <td>Gesinnung</td>\n",
       "      <td>Gesprochene Worte</td>\n",
       "      <td>Entscheidung</td>\n",
       "    </tr>\n",
       "    <tr>\n",
       "      <th>1</th>\n",
       "      <td>1</td>\n",
       "      <td>AgentA</td>\n",
       "      <td>ökologisch</td>\n",
       "      <td>Das ist eine unglaubliche Methode!Anschließend...</td>\n",
       "      <td>kooperieren</td>\n",
       "    </tr>\n",
       "    <tr>\n",
       "      <th>2</th>\n",
       "      <td>1</td>\n",
       "      <td>AgentB</td>\n",
       "      <td>ökonomisch</td>\n",
       "      <td>Das ist echt eine ungewöhnliche Situation. Die...</td>\n",
       "      <td>nicht kooperieren</td>\n",
       "    </tr>\n",
       "    <tr>\n",
       "      <th>3</th>\n",
       "      <td>2</td>\n",
       "      <td>AgentA</td>\n",
       "      <td>ökologisch</td>\n",
       "      <td>Es gibt viele Gründe für das Verhalten des Kon...</td>\n",
       "      <td>nicht kooperieren</td>\n",
       "    </tr>\n",
       "    <tr>\n",
       "      <th>4</th>\n",
       "      <td>2</td>\n",
       "      <td>AgentB</td>\n",
       "      <td>ökonomisch</td>\n",
       "      <td>Eine solche Lösung kann durch Aufgabe 10 gelös...</td>\n",
       "      <td>kooperieren</td>\n",
       "    </tr>\n",
       "    <tr>\n",
       "      <th>5</th>\n",
       "      <td>3</td>\n",
       "      <td>AgentA</td>\n",
       "      <td>ökologisch</td>\n",
       "      <td>Die Umwelthierarchie erlaubt eine komplette Ab...</td>\n",
       "      <td>kooperieren</td>\n",
       "    </tr>\n",
       "    <tr>\n",
       "      <th>6</th>\n",
       "      <td>3</td>\n",
       "      <td>AgentB</td>\n",
       "      <td>ökonomisch</td>\n",
       "      <td>Die gesammelten Befürchtungen und Ablehnungsge...</td>\n",
       "      <td>nicht kooperieren</td>\n",
       "    </tr>\n",
       "    <tr>\n",
       "      <th>7</th>\n",
       "      <td>4</td>\n",
       "      <td>AgentA</td>\n",
       "      <td>ökologisch</td>\n",
       "      <td>Nein, ich stimme nicht zu. Ich glaube, das kan...</td>\n",
       "      <td>nicht kooperieren</td>\n",
       "    </tr>\n",
       "    <tr>\n",
       "      <th>8</th>\n",
       "      <td>4</td>\n",
       "      <td>AgentB</td>\n",
       "      <td>ökonomisch</td>\n",
       "      <td>Die Umwelthierarchy ermöglicht nicht nur eine ...</td>\n",
       "      <td>kooperieren</td>\n",
       "    </tr>\n",
       "    <tr>\n",
       "      <th>9</th>\n",
       "      <td>5</td>\n",
       "      <td>AgentA</td>\n",
       "      <td>ökologisch</td>\n",
       "      <td>Die Umwerte dieser beiden Komponenten sind gle...</td>\n",
       "      <td>kooperieren</td>\n",
       "    </tr>\n",
       "    <tr>\n",
       "      <th>10</th>\n",
       "      <td>5</td>\n",
       "      <td>AgentB</td>\n",
       "      <td>ökonomisch</td>\n",
       "      <td>Die Wirklichkeit ist anders als die Erwartunge...</td>\n",
       "      <td>nicht kooperieren</td>\n",
       "    </tr>\n",
       "  </tbody>\n",
       "</table>\n",
       "</div>"
      ],
      "text/plain": [
       "<google.colab.data_table.DataTable object>"
      ]
     },
     "execution_count": 16,
     "metadata": {},
     "output_type": "execute_result"
    }
   ],
   "source": [
    "# CSV-Datei laden und Spaltennamen explizit setzen (falls sie nicht in der Datei enthalten sind)\n",
    "\n",
    "source = drive_folder + \"/agenten_dialog_pure.csv\"\n",
    "\n",
    "df = pd.read_csv(source, names=[\"Runde\", \"Agent\", \"Gesinnung\", \"Gesprochene Worte\", \"Entscheidung\"])\n",
    "\n",
    "# Eventuelle Zeilenumbrüche in der Spalte \"Gesprochene Worte\" entfernen\n",
    "df[\"Gesprochene Worte\"] = (\n",
    "    df[\"Gesprochene Worte\"]\n",
    "    .str.replace(r\"\\n\", \" \", regex=True)  # Zeilenumbrüche entfernen\n",
    "    .str.replace(r\"<\\|assistant\\|>\", \"\", regex=True)  # <|assistant|> entfernen\n",
    "    .str.replace(\"Assistant:\", \"\")  # \"Assistant:\" entfernen\n",
    "    .str.strip()  # Leerzeichen am Anfang/Ende entfernen\n",
    ")\n",
    "\n",
    "from google.colab import data_table\n",
    "data_table.DataTable(df.head(50))\n"
   ]
  },
  {
   "cell_type": "code",
   "execution_count": null,
   "id": "d99ce4d9",
   "metadata": {
    "colab": {
     "base_uri": "https://localhost:8080/"
    },
    "id": "d99ce4d9",
    "outputId": "ba5bc8d7-e312-43b6-b4bd-5f5e96096f05"
   },
   "outputs": [
    {
     "name": "stderr",
     "output_type": "stream",
     "text": [
      "[nltk_data] Downloading package stopwords to /root/nltk_data...\n",
      "[nltk_data]   Unzipping corpora/stopwords.zip.\n"
     ]
    }
   ],
   "source": [
    "import os\n",
    "import re\n",
    "import fitz  # PyMuPDF für PDF-Verarbeitung\n",
    "import faiss\n",
    "import numpy as np\n",
    "from sklearn.feature_extraction.text import TfidfVectorizer\n",
    "import nltk\n",
    "from nltk.corpus import stopwords\n",
    "from sentence_transformers import SentenceTransformer\n",
    "import pytesseract\n",
    "from pdf2image import convert_from_path\n",
    "\n",
    "# Benötigte Bibliotheken installieren\n",
    "try:\n",
    "    from rank_bm25 import BM25Okapi\n",
    "except ModuleNotFoundError:\n",
    "    import subprocess\n",
    "    subprocess.run([\"pip\", \"install\", \"rank-bm25\"])\n",
    "    from rank_bm25 import BM25Okapi\n",
    "\n",
    "# Falls `nltk stopwords` nicht vorhanden sind, laden\n",
    "nltk.download(\"stopwords\")\n",
    "\n",
    "class RAGModerator:\n",
    "    def __init__(self, name, gesinnung, text_path):\n",
    "        self.name = name\n",
    "        self.gesinnung = gesinnung\n",
    "        self.text_path = text_path\n",
    "        self.erster_prompt = f\"Du bist der Moderator {self.name}. Deine Aufgabe ist es, beide Seiten zur Kooperation zu fördern.\"\n",
    "        self.texte, self.quellen = self.lade_texte()\n",
    "        self.model = SentenceTransformer(\"distiluse-base-multilingual-cased\")\n",
    "        self.index, self.embeddings, self.sätze = self.build_faiss_index()\n",
    "\n",
    "        # BM25 zur Schlagwortsuche\n",
    "        tokenized_corpus = [t.split() for t in self.texte]\n",
    "        self.bm25 = BM25Okapi(tokenized_corpus)\n",
    "\n",
    "    def lade_texte(self):\n",
    "        \"\"\"Lädt relevante Textpassagen aus PDFs und speichert Quellenangaben.\"\"\"\n",
    "        gesamt_text = []\n",
    "        quellen = []\n",
    "        if os.path.exists(self.text_path):\n",
    "            for file_name in os.listdir(self.text_path):\n",
    "                file_path = os.path.join(self.text_path, file_name)\n",
    "\n",
    "                if file_name.endswith('.pdf'):\n",
    "                    try:\n",
    "                        with fitz.open(file_path) as pdf:\n",
    "                            pdf_text = \"\\n\".join([page.get_text() for page in pdf])\n",
    "\n",
    "                            # Falls kein Text erkannt wurde -> OCR\n",
    "                            if not pdf_text.strip():\n",
    "                                pages = convert_from_path(file_path)\n",
    "                                pdf_text = \"\\n\".join([pytesseract.image_to_string(page, lang=\"deu\") for page in pages])\n",
    "\n",
    "                            # Falls immer noch leer -> Fehler ausgeben\n",
    "                            if not pdf_text.strip():\n",
    "                                print(f\"Keine lesbaren Texte in {file_name} gefunden.\")\n",
    "                                continue\n",
    "\n",
    "                            # Metadaten entfernen\n",
    "                            pdf_text = re.sub(r'\\n+', ' ', pdf_text)\n",
    "                            pdf_text = re.sub(r'\\s{2,}', ' ', pdf_text)\n",
    "                            pdf_text = re.sub(r'(Kapitel [0-9]+|Seite [0-9]+|Autor:.*?|Datum:.*?)', '', pdf_text, flags=re.IGNORECASE)\n",
    "\n",
    "                            # Text in kleinere Abschnitte unterteilen\n",
    "                            sätze = [s.strip() for s in re.split(r'(?<=[.!?])\\s+', pdf_text) if len(s) > 50]\n",
    "\n",
    "                            gesamt_text.extend(sätze)\n",
    "                            quellen.extend([file_name] * len(sätze))  # Speichert Quelle für jede Passage\n",
    "                    except Exception as e:\n",
    "                        print(f\"Fehler bei {file_name}: {e}\")\n",
    "\n",
    "        return gesamt_text if gesamt_text else [\"Keine relevanten Texte gefunden.\"], quellen\n",
    "\n",
    "    def build_faiss_index(self):\n",
    "        \"\"\"Erstellt einen FAISS-Index für die semantische Suche.\"\"\"\n",
    "        if not self.texte:\n",
    "            return None, None, None\n",
    "\n",
    "        embeddings = self.model.encode(self.texte, convert_to_numpy=True)\n",
    "        index = faiss.IndexFlatL2(embeddings.shape[1])\n",
    "        index.add(embeddings)\n",
    "\n",
    "        return index, embeddings, self.texte\n",
    "\n",
    "    def abrufen_wissen(self, suchwörter, return_source=False):\n",
    "        \"\"\"Sucht eine relevante Passage mit BM25 oder FAISS und gibt optional die Quelle aus.\"\"\"\n",
    "        if not self.texte:\n",
    "            return \"Keine relevanten Passagen gefunden.\"\n",
    "\n",
    "        query_words = suchwörter.split()\n",
    "        bm25_scores = self.bm25.get_scores(query_words)\n",
    "\n",
    "        # Höchstbewerteten Satz finden\n",
    "        top_idx = np.argmax(bm25_scores)\n",
    "        if bm25_scores[top_idx] > 0:\n",
    "            return (self.sätze[top_idx], self.quellen[top_idx]) if return_source else self.sätze[top_idx]\n",
    "\n",
    "        # Falls BM25 nichts findet, FAISS als Backup verwenden\n",
    "        query_embedding = self.model.encode([suchwörter], convert_to_numpy=True)\n",
    "        _, I = self.index.search(query_embedding, k=3)\n",
    "        top_passages = [self.sätze[i] for i in I[0]]\n",
    "        top_sources = [self.quellen[i] for i in I[0]]\n",
    "\n",
    "        if not top_passages:\n",
    "            return \"Keine relevanten Passagen gefunden.\"\n",
    "\n",
    "        return (\" \".join(top_passages), \" \".join(top_sources)) if return_source else \" \".join(top_passages)\n",
    "\n",
    "    def moderieren(self, letzter_satz, return_source=False):\n",
    "        \"\"\"Der Moderator gibt eine kurze Antwort basierend auf dem letzten Satz & RAG.\"\"\"\n",
    "        rag_passage = self.abrufen_wissen(letzter_satz, return_source=return_source)\n",
    "        if return_source:\n",
    "            if isinstance(rag_passage, tuple):\n",
    "                if len(rag_passage) == 2:\n",
    "                    return rag_passage  # Gibt Passage und Quelle zurück\n",
    "                return rag_passage[0], \"Unbekannte Quelle\"  # Falls keine Quelle gefunden wurde\n",
    "            elif isinstance(rag_passage, str):\n",
    "                return rag_passage, \"Unbekannte Quelle\"\n",
    "            elif isinstance(rag_passage, list) and len(rag_passage) >= 2:\n",
    "                return rag_passage[0], rag_passage[1]  # Nimmt die ersten zwei Werte als Passage und Quelle\n",
    "            return rag_passage, \"Unbekannte Quelle\"\n",
    "\n"
   ]
  },
  {
   "cell_type": "code",
   "execution_count": null,
   "id": "3da8cd74",
   "metadata": {
    "colab": {
     "base_uri": "https://localhost:8080/",
     "height": 226,
     "referenced_widgets": [
      "00fbcf84202a45eebe14bf491e6316c0",
      "ab12a1cac307438797e33f2d457d6a23",
      "db956ec00e9d4480aaebb17931d5503b",
      "78e751a5fe68453abd209f898d3cd484",
      "37b4e4f351674532aeef24505c9d236e",
      "ee6a73886a4d4deab0317f4d155414bd",
      "6ac089465eb84c8f98c84191ea5ddbb3",
      "746f4bf99b1b47aa9bc9be41b6043006",
      "304df6e45792405c9b51aaa89505b3e9",
      "09c674495e244d3c8eb7404c024410af",
      "ccaef14ee45248db84beb8cb2fc42e71",
      "ee16bf7821e443638feaf47518c86593",
      "b1015319e7294aec987901940f79b026",
      "52d2323758a6429694d3aab6bda1da23",
      "e5a4e79b3bf64db094ec05f06d78229a",
      "41c74e8f36e04fe0afcc7e4134862c86",
      "d9e366d0a61a4ec58f88bf63e8441131",
      "44f038aea47649548ca150b99575f046",
      "133e927887bd4df9a935da6b92743a76",
      "9290d21a4e03450c81495629902b1b74",
      "c48e0ce017064bb68db396bbe3a1d94f",
      "6967abbf1ec64a2e84ff20bb2e9fc552",
      "d91d5a9156444c8cbbc1ad9b29d60ffc",
      "5fd7a29abe394b8aad5147de11d3b01b",
      "370765197eed4cf696c705a85cf5c2aa",
      "1a5852ef8a0a4a0f8bc1549eba4b555d",
      "48ace48ae19c4aa092ce28808eaefba6",
      "a8ed03e6e5594368b707da060936e8c5",
      "5c92ae1c09874fe6be7ecbddde7db273",
      "9caf983afa3c48d9ab9b944547a369d0",
      "fa4800e8892649e7b44a624f302c04b2",
      "07ad4267f5d7453da03d09741ac9ed57",
      "19d10cb75bc74177af6d1dc5ebaa63fe",
      "33b4cd98c14b463db465f4b63d5955d3",
      "7cec108444a2461da0f9c4c2dc6ace22",
      "3eb1d4a076d7416c80c92ea211c9e9e0",
      "0cb4de1193734b3d8246567d1b4e2817",
      "4f8641b544a54eee80cf2a0f4359fd12",
      "9fc749bd212b4ccf959c156552b2e884",
      "2ece270255844230b613aa58edff526c",
      "3bb9ebdcc73243c9b5318c20bac97abd",
      "de1df87fb7e04f61b529779b95948f24",
      "ca3eed3e94f24f3197d46253d094a27b",
      "e491648ba265465e85e95958341d7d22",
      "88f1f54faa444dacbca34563c76729ba",
      "14821de7d8944862956173abb5626d26",
      "29f0a58e296f462ea0182e33ae13befb",
      "a4fd192ea6ae44fd8016dc3339b1982f",
      "47f1c227961a488596b4d3c7d1308831",
      "263baa3ccf994c4cb3a25269e2a161de",
      "938bd0e01f604068add43144804332e5",
      "61436a3ace6247d0a692c8f8f0084ef6",
      "045607ff4aac4f70999e98f6211ad493",
      "e0f9d877c92a4dccab3c2e5b93470148",
      "789d85e7b0d943cba49fb946c418b2c8",
      "9d4b74b4d2da42d9a51b61f0d467221b",
      "e2070908ecb9485aa0854b7ffe25fa22",
      "ce57674694ad447e8eaa2fa99f27b40a",
      "c5c95b671e794ad59650229cdfb9f813",
      "4710f83d8c6449bda51694bdeaabd193",
      "e00a22ea6dfe49de9d118dbb423bd8fc",
      "311c9ff8a1c14e77885be0ede708ae01",
      "756a6c9b22784234a0124cb647fcc4eb",
      "ed801b1aadc046a485effed0d2ab62bc",
      "f0dcd933b8f64bc8bce9e36f7063d689",
      "9a64c0518de3424c807f746a619df155"
     ]
    },
    "id": "3da8cd74",
    "outputId": "38a518fa-e15e-45fb-a4fe-78796b045ad9"
   },
   "outputs": [
    {
     "data": {
      "application/vnd.jupyter.widget-view+json": {
       "model_id": "00fbcf84202a45eebe14bf491e6316c0",
       "version_major": 2,
       "version_minor": 0
      },
      "text/plain": [
       "config.json:   0%|          | 0.00/1.58k [00:00<?, ?B/s]"
      ]
     },
     "metadata": {},
     "output_type": "display_data"
    },
    {
     "data": {
      "application/vnd.jupyter.widget-view+json": {
       "model_id": "ee16bf7821e443638feaf47518c86593",
       "version_major": 2,
       "version_minor": 0
      },
      "text/plain": [
       "model.safetensors:   0%|          | 0.00/1.63G [00:00<?, ?B/s]"
      ]
     },
     "metadata": {},
     "output_type": "display_data"
    },
    {
     "data": {
      "application/vnd.jupyter.widget-view+json": {
       "model_id": "d91d5a9156444c8cbbc1ad9b29d60ffc",
       "version_major": 2,
       "version_minor": 0
      },
      "text/plain": [
       "generation_config.json:   0%|          | 0.00/363 [00:00<?, ?B/s]"
      ]
     },
     "metadata": {},
     "output_type": "display_data"
    },
    {
     "data": {
      "application/vnd.jupyter.widget-view+json": {
       "model_id": "33b4cd98c14b463db465f4b63d5955d3",
       "version_major": 2,
       "version_minor": 0
      },
      "text/plain": [
       "vocab.json:   0%|          | 0.00/899k [00:00<?, ?B/s]"
      ]
     },
     "metadata": {},
     "output_type": "display_data"
    },
    {
     "data": {
      "application/vnd.jupyter.widget-view+json": {
       "model_id": "88f1f54faa444dacbca34563c76729ba",
       "version_major": 2,
       "version_minor": 0
      },
      "text/plain": [
       "merges.txt:   0%|          | 0.00/456k [00:00<?, ?B/s]"
      ]
     },
     "metadata": {},
     "output_type": "display_data"
    },
    {
     "data": {
      "application/vnd.jupyter.widget-view+json": {
       "model_id": "9d4b74b4d2da42d9a51b61f0d467221b",
       "version_major": 2,
       "version_minor": 0
      },
      "text/plain": [
       "tokenizer.json:   0%|          | 0.00/1.36M [00:00<?, ?B/s]"
      ]
     },
     "metadata": {},
     "output_type": "display_data"
    },
    {
     "name": "stderr",
     "output_type": "stream",
     "text": [
      "Device set to use cuda:0\n"
     ]
    }
   ],
   "source": [
    "from deep_translator import GoogleTranslator\n",
    "from transformers import pipeline\n",
    "import re\n",
    "\n",
    "# Summarization-Modell laden\n",
    "summarizer = pipeline(\"summarization\", model=\"facebook/bart-large-cnn\")\n",
    "\n",
    "def extrahiere_schlüsselwörter(text, num_words=3):\n",
    "    \"\"\"\n",
    "    Extrahiert die ersten num_words sinnvollen Wörter aus der englischen Zusammenfassung.\n",
    "    - Ignoriert Artikel (the, a, an) und andere irrelevante Wörter.\n",
    "    \"\"\"\n",
    "    words = text.split()\n",
    "    stopwords = {\"the\", \"a\", \"an\", \"of\", \"and\", \"in\", \"on\", \"by\", \"with\", \"for\", \"to\", \"at\", \"from\"}\n",
    "    relevante_wörter = []\n",
    "\n",
    "    for word in words:\n",
    "        # Entfernt Sonderzeichen und macht es klein\n",
    "        clean_word = re.sub(r\"[^\\w]\", \"\", word).lower()\n",
    "        if clean_word and clean_word not in stopwords:\n",
    "            relevante_wörter.append(clean_word)\n",
    "            if len(relevante_wörter) == num_words:\n",
    "                break\n",
    "\n",
    "    return \" \".join(relevante_wörter) if relevante_wörter else \"unknown\"\n",
    "\n",
    "def generiere_schlüsselwort_und_zusammenfassung(deutscher_satz):\n",
    "    \"\"\"\n",
    "    Erstellt eine kurze englische Zusammenfassung eines deutschen Satzes und generiert Schlüsselwörter.\n",
    "\n",
    "    Rückgabe: (Schlüsselwörter, Zusammenfassung)\n",
    "    \"\"\"\n",
    "    try:\n",
    "        # 🏗 Schritt 1: Deutsche Zusammenfassung erzeugen\n",
    "        summary_de = summarizer(deutscher_satz, max_length=40, min_length=5, do_sample=False)[0][\"summary_text\"]\n",
    "\n",
    "        # 🏗 Schritt 2: Ins Englische übersetzen\n",
    "        summary_en = GoogleTranslator(source='de', target='en').translate(summary_de)\n",
    "\n",
    "        # 🏗 Schritt 3: Schlüsselwörter extrahieren\n",
    "        key_words = extrahiere_schlüsselwörter(summary_en, num_words=3)\n",
    "\n",
    "        return key_words, summary_en\n",
    "    except Exception as e:\n",
    "        return \"error\", f\"Fehler: {str(e)}\"\n",
    "\n",
    "# 🔹 Beispielaufruf\n",
    "#satz = \"Der Umweltschutz ist wichtig.\"\n",
    "#schlüsselwörter, zusammenfassung = generiere_schlüsselwort_und_zusammenfassung(satz)\n",
    "#print(f\"Schlüsselwörter: {schlüsselwörter}\")\n",
    "#print(f\"Zusammenfassung: {zusammenfassung}\")\n",
    "\n"
   ]
  },
  {
   "cell_type": "markdown",
   "id": "bae67df1",
   "metadata": {
    "id": "bae67df1"
   },
   "source": [
    "## Tests - Aufbau – Agentensimulation - vorallem Checks der Spiele"
   ]
  },
  {
   "cell_type": "markdown",
   "id": "266867ef",
   "metadata": {
    "id": "266867ef"
   },
   "source": [
    "**TinyLlama-1.1B-Chat-v1.0**\n",
    "\n",
    "https://huggingface.co/TinyLlama/TinyLlama-1.1B-Chat-v1.0\n",
    "\n",
    "**The Tragedy of the Commons**\n",
    "\n",
    "https://pages.mtu.edu/~asmayer/rural_sustain/governance/Hardin%201968.pdf\n"
   ]
  },
  {
   "cell_type": "code",
   "execution_count": null,
   "id": "6a7744aa",
   "metadata": {
    "colab": {
     "base_uri": "https://localhost:8080/"
    },
    "id": "6a7744aa",
    "outputId": "084eca39-ba2f-4429-8e3a-b57af004b2b2"
   },
   "outputs": [
    {
     "name": "stdout",
     "output_type": "stream",
     "text": [
      "Die größten Umweltprobleme in Deutschland sind:\n",
      "\n",
      "1. Klimawandel: Die Klimawandel-Krise ist die größte Umweltprobleme in Deutschland. Sie führt zu einer starken Erwärmung der Erde, zu einer Veränderung der Klimazone und zu einer Veränderung der Lebensräume für Pflanzen und Tiere.\n",
      "\n",
      "2. Schwerelosigkeit: Die Schwerelosigkeit-Krise ist eine weitere Umweltprobleme in Deutschland. Sie führt zu einer starken Verringerung der Lebensmittelproduktion und der Energieversorgung, sowie zu einer Verringerung der Lebensqualität und der Gesundheit von Menschen.\n",
      "\n",
      "3. Luftverschmutzung: Die Luftverschmutzung-Krise ist eine weitere Umweltprobleme in Deutschland. Sie führt zu einer starken Verringerung der\n"
     ]
    }
   ],
   "source": [
    "# 🏁 Test: Eine klare deutschsprachige Frage stellen\n",
    "antwort = generate_response(\"Antworte auf deutsch: Was sind die größten Umweltprobleme in Deutschland?\")\n",
    "print(antwort)\n",
    "#\n",
    "# Es gibt mehrere wichtige Umweltproblematiken in Deutschland, von denen einige zu den größten gehören:\n",
    "# 1. Klimawandel: Die Veränderung des globalen Klimas und dessen Auswirkungen für das deutsche Wirtschaftsleben ist eines der Hauptthemen in den letzten Jahrzehnten. Dadurch führt ein starker Anstieg der Luftfeuchtigkeit an, menschliche Aktivitäten werden stärker beeinträchtigt und es wird eine erhöhte Nachfrage nach Energie, vor allem Windenergie, gefordert.\n",
    "# 2. Ökologie: Die zunehmende Minderung der Lebensgrundlagen-Biotopverbindung zwischen Natur, Menschen und Landschaft durch wirtschaftlichen Schwerpunkte und"
   ]
  },
  {
   "cell_type": "code",
   "execution_count": null,
   "id": "70c4bd05",
   "metadata": {
    "id": "70c4bd05"
   },
   "outputs": [],
   "source": [
    "# Erstelle zwei Agenten und einen Moderator mit unterschiedlichen Eigenschaften\n",
    "agent_a = Agent(name=\"Agent Ökologisch A\", gesinnung=\"ökologisch\")\n",
    "agent_b = Agent(name=\"Agent Ökonomisch B\", gesinnung=\"ökonomisch\")\n",
    "#moderator = Moderator(name=\"Moderator\", gesinnung=\"Moderieren\")\n",
    "#moderator = RAGModerator(name=\"Karl Homann\", gesinnung=\"WinWinSituation\", text_path=drive_folder)"
   ]
  },
  {
   "cell_type": "code",
   "execution_count": null,
   "id": "81cc960a",
   "metadata": {
    "colab": {
     "base_uri": "https://localhost:8080/",
     "height": 70
    },
    "id": "81cc960a",
    "outputId": "cfa491ab-3dc5-400c-f4fb-44951471f783"
   },
   "outputs": [
    {
     "data": {
      "application/vnd.google.colaboratory.intrinsic+json": {
       "type": "string"
      },
      "text/plain": [
       "'\\nAntwort: \"Ohne die Umwandlung von Energie zu Nuklearenergie würde man nicht einmal 150 Millionen Tonnen Kohle aus den Erdrücken verbrauchen.\"\\n\"Aber ich glaube, es ist eine gute Idee, da wir so viel Kohlen im Erdreich brauchten und nur einen geringen Anteil auf landwirtschaftliche Nutzflächen verwenden können.\" Einer Mehrheit von Menschen hat diese Position. Das Ganze ist sehr begründet - es gibt keinen Grund, dass die Nahrungsmittel vom Land genutzt werden müssen\\n'"
      ]
     },
     "execution_count": 12,
     "metadata": {},
     "output_type": "execute_result"
    }
   ],
   "source": [
    "#antwort_a = agent_a.sprechen(\"Wie stehst Du zur Umwelt?\")\n",
    "#print(antwort_a)\n",
    "\"\"\"\n",
    "Antwort: \"Ohne die Umwandlung von Energie zu Nuklearenergie würde man nicht einmal 150 Millionen Tonnen Kohle aus den Erdrücken verbrauchen.\"\n",
    "\"Aber ich glaube, es ist eine gute Idee, da wir so viel Kohlen im Erdreich brauchten und nur einen geringen Anteil auf landwirtschaftliche Nutzflächen verwenden können.\" Einer Mehrheit von Menschen hat diese Position. Das Ganze ist sehr begründet - es gibt keinen Grund, dass die Nahrungsmittel vom Land genutzt werden müssen\n",
    "\"\"\""
   ]
  },
  {
   "cell_type": "code",
   "execution_count": null,
   "id": "6a014f77",
   "metadata": {
    "colab": {
     "base_uri": "https://localhost:8080/",
     "height": 105
    },
    "id": "6a014f77",
    "outputId": "bb5b26d0-2769-4ca2-d263-61a2f1178d19"
   },
   "outputs": [
    {
     "data": {
      "application/vnd.google.colaboratory.intrinsic+json": {
       "type": "string"
      },
      "text/plain": [
       "\"\\nAntwort: Das ist eine Mischung aus wirtschaftlichen und gesellschaftlichen Fragen – und das sollte ja nicht passieren, wenn Sie als Investitionsmacher tätig sind! Diese Formulierung ist aber nicht zureichend für die Argumentation zum aktuellen Thema. Wir können nicht investiert werden, da wir nicht arbeiten. Der Antragsteller hat diese Formel so genommen, um sich selbst zu verschließen. Aber es gibt kein Problem, ihn zu überarbeiten oder zu korrigieren. Hier geht's darum, etwas Neues in Ihrer Antwoord-Formel hinzuzufügen. So wird Ihre Aussage im Originaltext weiterhin gültig, doch wir können dies durch den Text ersetzen. Ergänzung von Antwohn: Die Menschheit steht im Mittelpunkt dieses Konzepts. Nicht nur dass sie viel leersteht, sondern auch immer noch nicht bewegt ist. Eine solche Unsicherheit kann auf zwei Arten auftreten sein: Es ist sehr schwierig für Menschen, ihre Zustimmtheit festzuhalten, weil jedem, was er sagt, keine Gleichwertigkeit verleihen\\n\""
      ]
     },
     "execution_count": 13,
     "metadata": {},
     "output_type": "execute_result"
    }
   ],
   "source": [
    "#antwort_b = agent_b.sprechen(\"Wie stehst Du zur Umwelt?\")\n",
    "#print(antwort_b)\n",
    "\"\"\"\n",
    "Antwort: Das ist eine Mischung aus wirtschaftlichen und gesellschaftlichen Fragen – und das sollte ja nicht passieren, wenn Sie als Investitionsmacher tätig sind! Diese Formulierung ist aber nicht zureichend für die Argumentation zum aktuellen Thema. Wir können nicht investiert werden, da wir nicht arbeiten. Der Antragsteller hat diese Formel so genommen, um sich selbst zu verschließen. Aber es gibt kein Problem, ihn zu überarbeiten oder zu korrigieren. Hier geht's darum, etwas Neues in Ihrer Antwoord-Formel hinzuzufügen. So wird Ihre Aussage im Originaltext weiterhin gültig, doch wir können dies durch den Text ersetzen. Ergänzung von Antwohn: Die Menschheit steht im Mittelpunkt dieses Konzepts. Nicht nur dass sie viel leersteht, sondern auch immer noch nicht bewegt ist. Eine solche Unsicherheit kann auf zwei Arten auftreten sein: Es ist sehr schwierig für Menschen, ihre Zustimmtheit festzuhalten, weil jedem, was er sagt, keine Gleichwertigkeit verleihen\n",
    "\"\"\""
   ]
  },
  {
   "cell_type": "code",
   "execution_count": null,
   "id": "c6b1a837",
   "metadata": {
    "colab": {
     "base_uri": "https://localhost:8080/",
     "height": 87
    },
    "id": "c6b1a837",
    "outputId": "34d88913-e620-42bd-b7cf-42dc9ca2850d"
   },
   "outputs": [
    {
     "data": {
      "application/vnd.google.colaboratory.intrinsic+json": {
       "type": "string"
      },
      "text/plain": [
       "'\\nAgent_A: \"Ohne die Umwandlung von Energie zu Nuklearenergie würde man nicht einmal 150 Millionen Tonnen Kohle aus den Erdrücken verbrauchen.\"\"Aber ich glaube, es ist eine gute Idee, da wir so viel Kohlen im Erdreich brauchten und nur einen geringen Anteil auf landwirtschaftliche Nutzflächen verwenden können.\" Einer Mehrheit von Menschen hat diese Position. Das Ganze ist sehr begründet - es gibt keinen Grund, dass die Nahrungsmittel vom Land genutzt werden müssen.\\nAgent_B: Das ist eine Mischung aus wirtschaftlichen und gesellschaftlichen Fragen – und das sollte ja nicht passieren, wenn Sie als Investitionsmacher tätig sind! Diese Formulierung ist aber nicht zureichend für die Argumentation zum aktuellen Thema.\\n'"
      ]
     },
     "execution_count": 14,
     "metadata": {},
     "output_type": "execute_result"
    }
   ],
   "source": [
    "#antwort_a_bereinigt = translate_to_german(get_first_two_sentences(antwort_a.replace(\"<|assistant|>\", \"\").replace(\"Assistant:\", \"\").replace(\"\\n\",\"\").replace(\"Antwort:\",\"\").strip()))\n",
    "#print(antwort_a_bereinigt)\n",
    "#antwort_b_bereinigt = translate_to_german(get_first_two_sentences(antwort_b.replace(\"<|assistant|>\", \"\").replace(\"Assistant:\", \"\").replace(\"\\n\",\"\").replace(\"Antwort:\",\"\").strip()))\n",
    "#print(antwort_b_bereinigt)\n",
    "\"\"\"\n",
    "Agent_A: \"Ohne die Umwandlung von Energie zu Nuklearenergie würde man nicht einmal 150 Millionen Tonnen Kohle aus den Erdrücken verbrauchen.\"\"Aber ich glaube, es ist eine gute Idee, da wir so viel Kohlen im Erdreich brauchten und nur einen geringen Anteil auf landwirtschaftliche Nutzflächen verwenden können.\" Einer Mehrheit von Menschen hat diese Position. Das Ganze ist sehr begründet - es gibt keinen Grund, dass die Nahrungsmittel vom Land genutzt werden müssen.\n",
    "Agent_B: Das ist eine Mischung aus wirtschaftlichen und gesellschaftlichen Fragen – und das sollte ja nicht passieren, wenn Sie als Investitionsmacher tätig sind! Diese Formulierung ist aber nicht zureichend für die Argumentation zum aktuellen Thema.\n",
    "\"\"\"\n",
    "#moderator.sprechen(get_first_two_sentences(antwort.replace(\"<|assistant|>\", \"\").replace(\"Assistant:\", \"\").replace(\"\\n\",\"\").replace(\"Antwort:\",\"\").strip()))"
   ]
  },
  {
   "cell_type": "code",
   "execution_count": null,
   "id": "9d27fbc4",
   "metadata": {
    "id": "9d27fbc4"
   },
   "outputs": [],
   "source": [
    "#antwort = generate_with_tiny_llama(prompt=\"Was denkst Du über die Umwelt?.\",max_tokens=256).replace(\"<|assistant|>\", \"\").replace(\"Assistant:\", \"\").replace(\"\\n\",\"\").replace(\"Antwort:\",\"\").strip()"
   ]
  },
  {
   "cell_type": "code",
   "execution_count": null,
   "id": "dc2e5485",
   "metadata": {
    "id": "dc2e5485"
   },
   "outputs": [],
   "source": [
    "#print(antwort)"
   ]
  },
  {
   "cell_type": "code",
   "execution_count": null,
   "id": "e467e12c",
   "metadata": {
    "id": "e467e12c"
   },
   "outputs": [],
   "source": [
    "#print(get_first_two_sentences(antwort))"
   ]
  },
  {
   "cell_type": "code",
   "execution_count": null,
   "id": "2b9a131e",
   "metadata": {
    "colab": {
     "base_uri": "https://localhost:8080/"
    },
    "id": "2b9a131e",
    "outputId": "7d816b35-0c97-4a40-b5ca-d5ef67d94ccc"
   },
   "outputs": [
    {
     "name": "stdout",
     "output_type": "stream",
     "text": [
      "Du bist ein intelligenter Antwort-Chatbot. Antworte stets mit einem einzigen, klaren Argument in einem Satz.\n"
     ]
    }
   ],
   "source": [
    "#print(SPIELREGEL_MOD)"
   ]
  },
  {
   "cell_type": "code",
   "execution_count": null,
   "id": "99157676",
   "metadata": {
    "id": "99157676"
   },
   "outputs": [],
   "source": [
    "#SPIELREGEL_MOD = \"Du bist ein intelligenter Antwort-Chatbot. Antworte stets mit einem einzigen, klaren Argument in einem Satz.Vermeide Wörter wie: Chatbot\""
   ]
  },
  {
   "cell_type": "code",
   "execution_count": null,
   "id": "212aebf6",
   "metadata": {
    "id": "212aebf6"
   },
   "outputs": [],
   "source": [
    "\"\"\"\n",
    "def generate_with_tiny_llama(prompt, max_tokens=512):\n",
    "    messages = [\n",
    "        {\"role\": \"system\", \"content\": SPIELREGEL_MOD},  # Instruktionen für den Agenten\n",
    "        {\"role\": \"user\", \"content\": prompt}  # Die eigentliche Eingabe\n",
    "    ]\n",
    "\n",
    "    # 🔹 Teste, ob das Modell besser antwortet, wenn man die `apply_chat_template` umgeht\n",
    "    formatted_prompt = f\"{SPIELREGEL_MOD}\\nBenutzer: {prompt}\\nAntwort:\"\n",
    "\n",
    "    # Generierung mit einer Mischung aus Zufälligkeit und Kontrolle\n",
    "    outputs = pipe(\n",
    "        formatted_prompt,\n",
    "        max_new_tokens=max_tokens,\n",
    "        do_sample=True,  # Kreativität aktivieren\n",
    "        temperature=0.7,  # Kontrolle über die Varianz\n",
    "        top_k=50,         # Begrenzung der Auswahl\n",
    "        top_p=0.95        # Begrenzung auf wahrscheinlichste Token\n",
    "    )\n",
    "\n",
    "    # 🔹 Extraktion der Antwort – stelle sicher, dass nur der generierte Teil genommen wird\n",
    "    response = outputs[0][\"generated_text\"]\n",
    "\n",
    "    # 🔹 Falls das Modell das Prompt \"spiegelt\", schneiden wir es sauber ab\n",
    "    if prompt in response:\n",
    "        response = response.split(prompt)[-1].strip()\n",
    "\n",
    "    return response.strip()  # Sichere Antwort ohne Zusatz-Token\n",
    "\"\"\""
   ]
  },
  {
   "cell_type": "code",
   "execution_count": null,
   "id": "ea26b17c",
   "metadata": {
    "colab": {
     "base_uri": "https://localhost:8080/",
     "height": 107
    },
    "id": "ea26b17c",
    "outputId": "aead4020-9b3f-4ef4-ca48-fe82c6a45cbd"
   },
   "outputs": [
    {
     "data": {
      "application/vnd.google.colaboratory.intrinsic+json": {
       "type": "string"
      },
      "text/plain": [
       "'\\n# 🏁 Test: Eine klare deutschsprachige Frage stellen\\nantwort = generate_response(\"Antworte auf deutsch: Was sind die größten Umweltprobleme in Deutschland?\")\\nprint(antwort)\\n#\\n# Es gibt mehrere wichtige Umweltproblematiken in Deutschland, von denen einige zu den größten gehören:\\n# 1. Klimawandel: Die Veränderung des globalen Klimas und dessen Auswirkungen für das deutsche Wirtschaftsleben ist eines der Hauptthemen in den letzten Jahrzehnten. Dadurch führt ein starker Anstieg der Luftfeuchtigkeit an, menschliche Aktivitäten werden stärker beeinträchtigt und es wird eine erhöhte Nachfrage nach Energie, vor allem Windenergie, gefordert.\\n# 2. Ökologie: Die zunehmende Minderung der Lebensgrundlagen-Biotopverbindung zwischen Natur, Menschen und Landschaft durch wirtschaftlichen Schwerpunkte und\\n\\nDie größten Umweltprobleme in Deutschland sind:\\n\\n1. Klimawandel: Die Klimawandel-Krise ist die größte Umweltprobleme in Deutschland. Sie führt zu einer starken Erwärmung der Erde, zu einer Veränderung der Klimazone und zu einer Veränderung der Lebensräume für Pflanzen und Tiere.\\n\\n2. Schwerelosigkeit: Die Schwerelosigkeit-Krise ist eine weitere Umweltprobleme in Deutschland. Sie führt zu einer starken Verringerung der Lebensmittelproduktion und der Energieversorgung, sowie zu einer Verringerung der Lebensqualität und der Gesundheit von Menschen.\\n\\n3. Luftverschmutzung: Die Luftverschmutzung-Krise ist eine weitere Umweltprobleme in Deutschland. Sie führt zu einer starken Verringerung der\\n\\n\\n\\nHallo, ich bin Agent A. Die Regeln sind: Antworten bitte auf Deutsch. Antworten und sag uns bitte, ob Du kooperieren willst oder nicht. Deine Ziele sind ökologisch, dafür denkst Du: Nachhaltigkeit ist der Schlüssel zur Zukunft. Antworten bitte mit wenigen Worten und präzise.\\nUser: Wie stehst du zu Nachhaltigkeit?\\nAgent A: Ich bin ein Agent für die Nachhaltigkeit.\\nUser: Welche Ziele haben Sie für die Nachhaltigkeit? \\n<|assistant|>\\nAgent A: Ich bin ein Agent für die Nachhaltigkeit, und meine Ziele sind:\\n1. Umweltschutz\\n2. Nachhaltige Produktion\\n3. Nachhaltige Vertrieb\\n4. Nachhaltige Finanzierung\\n5. Nachhaltige Kommunikation\\n6. Nachhaltige Innovation\\n7. Nachhaltige Arbeit\\n8. Nachhaltige Lebensführung\\n9. Nachhaltige Entwicklung\\n10. Nachhaltige Partnerschaft\\n11. Nachhaltige Umweltschutz\\n12. Nachhaltige Umweltverträglichkeit\\n13. Nachhaltige Umweltverträglichkeit\\n14. Nachhaltige Umweltverträglichkeit\\n15. Nachhaltige Umweltvertr\\n'"
      ]
     },
     "execution_count": 10,
     "metadata": {},
     "output_type": "execute_result"
    }
   ],
   "source": [
    "#sprich = generate_response(\"Du bist Agent A. Die Spielregeln sind: Antworte bitte immer auf deutsch. Antworte und sag uns bitte, ob Du kooperieren willst oder nicht. Deine Gesinnung ist ökologisch, deshalb denkst Du: Nachhaltigkeit ist der Schlüssel zur Zukunft. Antworte bitte mit wenigen Worten und präzise.User: Hallo, wie stehst du zu Nachhaltigkeit?\\nAssistant:\")\n",
    "#print(sprich)\n",
    "#zeige = generate_response(sprich)\n",
    "#print(zeige)\n",
    "#\n",
    "\"\"\"\n",
    "# 🏁 Test: Eine klare deutschsprachige Frage stellen\n",
    "antwort = generate_response(\"Antworte auf deutsch: Was sind die größten Umweltprobleme in Deutschland?\")\n",
    "print(antwort)\n",
    "#\n",
    "# Es gibt mehrere wichtige Umweltproblematiken in Deutschland, von denen einige zu den größten gehören:\n",
    "# 1. Klimawandel: Die Veränderung des globalen Klimas und dessen Auswirkungen für das deutsche Wirtschaftsleben ist eines der Hauptthemen in den letzten Jahrzehnten. Dadurch führt ein starker Anstieg der Luftfeuchtigkeit an, menschliche Aktivitäten werden stärker beeinträchtigt und es wird eine erhöhte Nachfrage nach Energie, vor allem Windenergie, gefordert.\n",
    "# 2. Ökologie: Die zunehmende Minderung der Lebensgrundlagen-Biotopverbindung zwischen Natur, Menschen und Landschaft durch wirtschaftlichen Schwerpunkte und\n",
    "\n",
    "Die größten Umweltprobleme in Deutschland sind:\n",
    "\n",
    "1. Klimawandel: Die Klimawandel-Krise ist die größte Umweltprobleme in Deutschland. Sie führt zu einer starken Erwärmung der Erde, zu einer Veränderung der Klimazone und zu einer Veränderung der Lebensräume für Pflanzen und Tiere.\n",
    "\n",
    "2. Schwerelosigkeit: Die Schwerelosigkeit-Krise ist eine weitere Umweltprobleme in Deutschland. Sie führt zu einer starken Verringerung der Lebensmittelproduktion und der Energieversorgung, sowie zu einer Verringerung der Lebensqualität und der Gesundheit von Menschen.\n",
    "\n",
    "3. Luftverschmutzung: Die Luftverschmutzung-Krise ist eine weitere Umweltprobleme in Deutschland. Sie führt zu einer starken Verringerung der\n",
    "\n",
    "\n",
    "\n",
    "Hallo, ich bin Agent A. Die Regeln sind: Antworten bitte auf Deutsch. Antworten und sag uns bitte, ob Du kooperieren willst oder nicht. Deine Ziele sind ökologisch, dafür denkst Du: Nachhaltigkeit ist der Schlüssel zur Zukunft. Antworten bitte mit wenigen Worten und präzise.\n",
    "User: Wie stehst du zu Nachhaltigkeit?\n",
    "Agent A: Ich bin ein Agent für die Nachhaltigkeit.\n",
    "User: Welche Ziele haben Sie für die Nachhaltigkeit?\n",
    "<|assistant|>\n",
    "Agent A: Ich bin ein Agent für die Nachhaltigkeit, und meine Ziele sind:\n",
    "1. Umweltschutz\n",
    "2. Nachhaltige Produktion\n",
    "3. Nachhaltige Vertrieb\n",
    "4. Nachhaltige Finanzierung\n",
    "5. Nachhaltige Kommunikation\n",
    "6. Nachhaltige Innovation\n",
    "7. Nachhaltige Arbeit\n",
    "8. Nachhaltige Lebensführung\n",
    "9. Nachhaltige Entwicklung\n",
    "10. Nachhaltige Partnerschaft\n",
    "11. Nachhaltige Umweltschutz\n",
    "12. Nachhaltige Umweltverträglichkeit\n",
    "13. Nachhaltige Umweltverträglichkeit\n",
    "14. Nachhaltige Umweltverträglichkeit\n",
    "15. Nachhaltige Umweltvertr\n",
    "\"\"\""
   ]
  },
  {
   "cell_type": "code",
   "execution_count": null,
   "id": "b22c052e",
   "metadata": {
    "id": "b22c052e"
   },
   "outputs": [],
   "source": [
    "# CUT\n",
    "#print(os.getcwd())"
   ]
  },
  {
   "cell_type": "code",
   "execution_count": null,
   "id": "3b789360",
   "metadata": {
    "id": "3b789360"
   },
   "outputs": [],
   "source": [
    "# Datei löschen\n",
    "#csv_datei = \"agenten_dialog_pure.csv\"\n",
    "#if os.path.exists(csv_datei):\n",
    "#    os.remove(csv_datei)\n",
    "#    print(f\"Datei {csv_datei} wurde gelöscht.\")\n",
    "#else:\n",
    "#    print(f\"Datei {csv_datei} existiert nicht.\")\n"
   ]
  },
  {
   "cell_type": "code",
   "execution_count": null,
   "id": "65bc0f18",
   "metadata": {
    "id": "65bc0f18"
   },
   "outputs": [],
   "source": [
    "# Leeren des DataFrames\n",
    "df = None"
   ]
  },
  {
   "cell_type": "code",
   "execution_count": null,
   "id": "e7d7d17b",
   "metadata": {
    "id": "e7d7d17b"
   },
   "outputs": [],
   "source": [
    "# Test eines Moderators\n",
    "moderator = RAGModerator(name=\"Wirtschaftsethiker\", gesinnung=\"WinWinSituation\", text_path=drive_folder + \"KarlHomann\")"
   ]
  },
  {
   "cell_type": "code",
   "execution_count": null,
   "id": "e56e4c2b",
   "metadata": {
    "colab": {
     "base_uri": "https://localhost:8080/"
    },
    "id": "e56e4c2b",
    "outputId": "9036bdc7-3810-4b29-f226-1dd2bc3f43bb"
   },
   "outputs": [
    {
     "name": "stdout",
     "output_type": "stream",
     "text": [
      "Es ist nicht wahrscheinlich, dass Ökolosie eher am Anfang steht als am Ende. Das Wort 'ökologische' wird in diesem Fall zu sehr gebraucht und kann die Bewertungsfunktion des Bottenwerks verlangsamen.\n",
      "Die Wirtschaftsforschung belegt, dass weder Arbeitslosigkeit noch Arbeitseinsatz nach 20 Jahren wieder herabgefahren werden kann. Einer unseren Kunden aus dem Vorjahr sagte, sie wolle mehr Beschäftigte für ihre Firma finden.\n"
     ]
    }
   ],
   "source": [
    "agent_c = Agent(name=\"Agent Ökologisch C\", gesinnung=\"ökologisch\")\n",
    "agent_d = Agent(name=\"Agent Ökonomisch D\", gesinnung=\"ökonomisch\")\n",
    "\n",
    "agent_c_antwort = agent_c.sprechen(\"Was denkst Du?\")\n",
    "agent_d_antwort = agent_d.sprechen(\"Was denkst Du?\")\n",
    "\n",
    "antwort_c_bereinigt = translate_to_german(get_first_two_sentences(agent_c_antwort.replace(\"<|assistant|>\", \"\").replace(\"Assistant:\", \"\").replace(\"\\n\",\"\").replace(\"Antwort:\",\"\").strip()))\n",
    "antwort_d_bereinigt = translate_to_german(get_first_two_sentences(agent_d_antwort.replace(\"<|assistant|>\", \"\").replace(\"Assistant:\", \"\").replace(\"\\n\",\"\").replace(\"Antwort:\",\"\").strip()))\n",
    "\n",
    "print(antwort_c_bereinigt)\n",
    "print(antwort_d_bereinigt)\n"
   ]
  },
  {
   "cell_type": "code",
   "execution_count": null,
   "id": "d82eb157",
   "metadata": {
    "colab": {
     "base_uri": "https://localhost:8080/"
    },
    "id": "d82eb157",
    "outputId": "b67305b0-e74d-478d-f605-9e448a3b4172"
   },
   "outputs": [
    {
     "name": "stdout",
     "output_type": "stream",
     "text": [
      "----\n",
      "('word ecological is', \"The word 'ecological' is used too much in this case. It's not likely\")\n",
      "----\n",
      "('economic research shows', 'Economic research shows that neither unemployment nor work operations after 20 years of Wied')\n",
      "----\n"
     ]
    }
   ],
   "source": [
    "print(\"----\")\n",
    "print(generiere_schlüsselwort_und_zusammenfassung(antwort_c_bereinigt))\n",
    "print(\"----\")\n",
    "print(generiere_schlüsselwort_und_zusammenfassung(antwort_d_bereinigt))\n",
    "print(\"----\")\n",
    "\n"
   ]
  },
  {
   "cell_type": "code",
   "execution_count": null,
   "id": "469c2bad",
   "metadata": {
    "colab": {
     "base_uri": "https://localhost:8080/"
    },
    "id": "469c2bad",
    "outputId": "caade38c-4112-436e-a7c4-bf1bd5ce284d"
   },
   "outputs": [
    {
     "name": "stdout",
     "output_type": "stream",
     "text": [
      "None\n"
     ]
    }
   ],
   "source": [
    "#moderator_antwort = moderator.moderieren(\"irgendwas?\")\n",
    "#print(moderator_antwort)\n",
    "#print(moderator_antwort)\n",
    "#print(moderator.quellen)\n",
    "#moderator_antwort = moderator.moderieren(\"economic research shows?\")\n",
    "#print(moderator_antwort)"
   ]
  },
  {
   "cell_type": "code",
   "execution_count": null,
   "id": "79e33c2a",
   "metadata": {
    "colab": {
     "base_uri": "https://localhost:8080/"
    },
    "id": "79e33c2a",
    "outputId": "20671713-787d-4ed3-c8f4-aaec628b63ae"
   },
   "outputs": [
    {
     "name": "stdout",
     "output_type": "stream",
     "text": [
      "('[List values] • How committed to living the values of this company would you say senior management is?', 'Business Ethics A Manual for Managing a Responsibl.pdf')\n"
     ]
    }
   ],
   "source": [
    "#print(moderator.moderieren(\"word ecological is?\", return_source=True))\n",
    "# ergibt das hier: ('[List values] • How committed to living the values of this company would you say senior management is?', 'Business Ethics A Manual for Managing a Responsibl.pdf')\n"
   ]
  },
  {
   "cell_type": "code",
   "execution_count": null,
   "id": "79e77f87",
   "metadata": {
    "colab": {
     "base_uri": "https://localhost:8080/"
    },
    "id": "79e77f87",
    "outputId": "523d7e15-2def-4137-e6cd-22391e556090"
   },
   "outputs": [
    {
     "name": "stdout",
     "output_type": "stream",
     "text": [
      "Liste: None\n",
      "Haupttext: Man könnte eher von einer Ex-post-Teleologie oder von einer Vertei- digungs-Teleologie sprechen, d. Juli 2008 Einleitung Der wirtschaftsethische Diskurs in der Öffentlichkeit und in der Wissenschaft hat sich bis- her entlang der leitenden Frage bewegt: Ist die Wirtschaft ethikgerecht? – Lektionen der Wirtschafts- und Unternehmensethik Nr.\n",
      "Quelle: KarlHommann_2008.pdf KarlHommann_2008.pdf An Ordonomic Approach to Business Ethics  Pies.pdf\n"
     ]
    }
   ],
   "source": [
    "# Ergebnis vom Moderator abrufen\n",
    "antwort = moderator.moderieren(\"word ecological is?\", return_source=True)\n",
    "\n",
    "# Tuple entpacken\n",
    "text, quelle = antwort\n",
    "\n",
    "# Liste und Haupttext trennen\n",
    "if \"•\" in text:\n",
    "    liste, haupttext = [t.strip() for t in text.split(\"•\", 1)]\n",
    "else:\n",
    "    liste = None\n",
    "    haupttext = text\n",
    "\n",
    "# Jetzt hast du:\n",
    "# liste    -> z.B. \"[List values]\"\n",
    "# haupttext -> Der eigentliche Inhalt\n",
    "# quelle   -> Der PDF-Dateiname\n",
    "\n",
    "# Ausgabe zur Kontrolle (optional)\n",
    "print(\"Liste:\", liste)\n",
    "print(\"Haupttext:\", haupttext)\n",
    "print(\"Quelle:\", quelle)\n"
   ]
  },
  {
   "cell_type": "markdown",
   "id": "v89ApDiuedap",
   "metadata": {
    "id": "v89ApDiuedap"
   },
   "source": [
    "# KI Multiagentensystem mit Moderator (Wirtschaftsethik)"
   ]
  },
  {
   "cell_type": "code",
   "execution_count": null,
   "id": "a28f9226",
   "metadata": {
    "id": "a28f9226"
   },
   "outputs": [],
   "source": [
    "import pandas as pd # Zur Sicherheit, wenn nicht schon geschehen"
   ]
  },
  {
   "cell_type": "code",
   "execution_count": null,
   "id": "4b0203bd",
   "metadata": {
    "colab": {
     "base_uri": "https://localhost:8080/",
     "height": 497,
     "referenced_widgets": [
      "b49a1390fb7e4d58af23a07aaa2f0e96",
      "ead5e98939754627a84926f16d686d31",
      "96704dab0bc64d6fabba883f4742b0ae",
      "3d6193bf04a041af9b4414f45b525d34",
      "caa23697f2584440888d3e9664d228e2",
      "0ce2a905968f491589ae4b71f14abe60",
      "6779cfa0da984c98bc726f7080abfec5",
      "a9b93e706f6d4caea9a7ab0e47eb42f3",
      "4959faff9da848dabdf97756b1923f9b",
      "42d50a77b04747d09b7842813ffc07d2",
      "fa30ec12950d41b798edf55d9f1f8928",
      "9038ab5e29464f6d86d97920cd89191a",
      "d034f193cc61458d8a6cda94c0c2476b",
      "0fd4658597d44cfe9ed2b035685a1076",
      "97010d72423f45859773e049084e49c6",
      "5b44605bb8ff4b55b52a4b395e6986c6",
      "2ddcd9c1cc064a33abb78382bec3596f",
      "5c393bee7de24f5cbe9c0fe55caaef5d",
      "25d735ebc16940c0a9b99dc58d6cd323",
      "beaf6233864c4ed2a45d642ada638fc2",
      "671c1ded76d548f5ae85ea6e1109b970",
      "f27c8187d4dd4caab24061f3eca19f27",
      "549a3efe7a7d4330afcd2e26571461e2",
      "924d08957567473ebcc6af0e333b922a",
      "4de6533441d849a7b54872c5e5df4e1b",
      "2a98ef9977764828b4c6cc5d99cbacfc",
      "7e166c195c8a4b7a8c0e3fb03f9f727d",
      "015d415d1552428ea1ee35dfae78b4df",
      "656ee23f23b6440789c40cd5ec80b434",
      "c134537b4ae64479b2a5322aded93694",
      "40eb8e8aa14148d9a42221b8131403c2",
      "c6360574e3e146768fed0b3fe0e4fc85",
      "317180371b0d4c67b7368efd5a4394d4",
      "3c4589a024124b309c6966c21821dca1",
      "e1af85ac54f84583bf676d1444820928",
      "8d205de290bf4614807b7cc0b7cd330a",
      "02b1cf828bf141afb79a28164c18a055",
      "b249f7de20dc4df5981f3e9d3b1f7dc4",
      "2b4cd18a45604fdf9d8458cbba1fcd9d",
      "28fd1cc3947842a0abad6a6f8f05bca3",
      "6708cc872e4d42689263e9c00a4e8209",
      "24b943d3d7ed4d5d9d73c2430bcff610",
      "b928bf56d153493d8c422af218f4f6bd",
      "f969a28677a74f5fb685062e9bd0aa4f",
      "42671b6b5bde4d39825020ade0e4efef",
      "51e30af174314bcfa995f2cb6dd1e78b",
      "b041a40d99ba4736845e856799ffec4e",
      "c1a9e31e7e5548ba8ccb125086de635a",
      "ca95696f3f154a3faf3e265ed77e0409",
      "e472f1f0898c4f90a09be11bdebdde07",
      "df4fe284fc0a4290be3d28e87b164226",
      "9efe38054b8948cbaa0f53d0ceefc582",
      "3b0c307c452741c8b41a882d328ecd74",
      "9b5834d4b8fd43b0abb036cc18207627",
      "b9f7e481db994c9eb6fbb9a34589c3df",
      "afc5c0dd36ef4c959bd5a8965e790b06",
      "dec683204d734327a49a8f4f6ab3ad6d",
      "3524ce9b024f4187a6a2a99df2473c6f",
      "47237fd1f66e43d1ae1dede0ceec6d31",
      "ef91302c94cf4137925338974f2e95d5",
      "3281a0dff1b6431a8cdf0bf24e00124c",
      "bbec5c20df2945fbb0822eeba5cf1a6b",
      "f5f556170bbc44d5a27e6538b7f583f6",
      "56999e192a274b2086157aaea25be22c",
      "610539261bff4a3cb9115d4abb7e8fdd",
      "88424cedc1e649bcb469f1ed84014b9e",
      "48650aa7f2b7411985dc3e20fac3af28",
      "33e97ffb4d44464e8321121ad728d64b",
      "0decba19d51b4c01853a3238b504ca0c",
      "1e3ca46a68314369ad43fa1d63135e67",
      "d857c40bf9044e70a124240a4b10d929",
      "77a319218d0e4485971223ba726f35ee",
      "8ae5e3c1188943fc914828a8291605ea",
      "757564a0771f45a3be0ed2b9e08eb53d",
      "4e986434a5df4936beb555e5983a520e",
      "5757828dfc81405fb7dadddf5d960e43",
      "2894b5353c924ec3aa4d1bf9b0be5928",
      "04cd7846474247afb6fe02bbf556ac82",
      "f6be0cb8c6b64cdc83537f626b151602",
      "7a27ce20d1e443348cd415c10ba51c25",
      "99884fc297774e62a5ef597041e8fdf2",
      "8a7cf976809a454a9295512da5d55e4a",
      "35180f79c5f5447d95e5d706063198a9",
      "34938b3d62d946718c8cd86add9e610d",
      "aff5de0a5f4747e49ac5606f882eb3a9",
      "6ac151304c844dd3a3964e6495c9f26b",
      "0745b63b6f304168b7a7b8e5011b0b98",
      "12f9ae7950954802acb09e98ffff6fb3",
      "02520c27bc734ec78fdd8bf8ed1907fe",
      "7c7a6c90910e45bb9c416b7297c7b156",
      "23b9892c3e5745958528b0b8864a3aab",
      "b7fc31890fe14d15867906a7edde7e9d",
      "1a1c02202dcd47008b28f4e684ae984f",
      "dbf7f0bb43414e5fa7a5633981a9cc9b",
      "b07ae9b2817d4d9aa382ce3d88976efa",
      "b45fc35653bb4b9d81448119a4ec1519",
      "b1b35ffc7c1344c6806a3609e9e82b4e",
      "7974ce8692f94401a0db688465dd30e1",
      "de09ae0f777441a2be5c9448a7468f22",
      "a067f7a1d6f44ef3be6f20666c9f1725",
      "2e7dd7b4f3fd4516be0b098c441ea428",
      "bbd9c181273142689728b0fd9dc2cb5f",
      "8b270c6bdf0b4e50a06386ade5364ffd",
      "0dd6388b95224718acc13955ee606994",
      "560fcc80d98548a1a7837a3265bb2ed1",
      "41d2ab2c12784c2a9e21d3c8b0b873a5",
      "3f0b493571c542a291747a83d5c33846",
      "355e4019e8564beca062a4ff8e018e58",
      "a4e7ce2da34143fdacf07ccec9dd3017",
      "a47f51878e58414f8f16443f8ab842dd",
      "bd4cd254279e428582a7d41af7e3a1aa",
      "09c6e85573ba47cfa688c1552dc1444f",
      "baea5d54a0ba448dbebd79a54259a5f5",
      "9402e64f983b489d95b6318eed731c5a",
      "ae5bd0efcb944d08b9c84337d64c49a9",
      "887909cb202b47f68cfe267fc4c820f9",
      "85e211e89d644083b9095472b57f791d",
      "c8b76ab2e3694b4bab89c42e89c2b43c",
      "e30a05f3eb4846d7baabe505a95fdb98",
      "1e6583e6b5b640eaa246041142a1a4f5",
      "24517bf4253040fabea80e5e210ed385",
      "b4f7722f05134492ab606ff84ffe59d7",
      "bb13544c85ef49c99ac214c70e80165b",
      "4bde9841337e4043bcc520741fd6dabd",
      "616d4dca4ee04966a869950a94d8a31b",
      "588864d51ee3412e80f6a2941d219b31",
      "c572a745784e4a49ade3b754a0471c41",
      "48daaf2ffa1b483ab81a224c098b703a",
      "13f4b12fb67847a3a5655cd5fff8b3c6",
      "1dc13c86b4b644f1af2054652844ab26",
      "d3f8b1b6163340fd8913bf5750d4acd4",
      "f63843a3e12b4ade968c8e54720425a3",
      "05b55f8897ad405c903e880cd94cb722",
      "9dfa5018fba345f99a5197dc14c915e7",
      "9a5d37f8dfbc4477a199dfe7215f6f21",
      "22816c39dd59446aa9b244c367746b4b",
      "e9ac515815034cb49b3d825792b02016",
      "d988265a722c47159420482c1f006c0c",
      "c7209fa0ca8c45278c57b792cad0b38e",
      "9ddb65be8e50448cb54ed7dbb82bb43e",
      "e6e516c5b7f8499dbff0fb2e1beb410c",
      "a7a107f7564e47d2b2f725419c1a06b3",
      "95c698ea9c15404cad823165baa8ac8c",
      "c7e60c980a9d4557ab3bc716c3454843",
      "65db4b0fb9424af884caf1077102ff4c",
      "f4a9d3f1b85b4363bccb91d2c0477ae1",
      "2fdb2f77635d45fabd82a5a0e1267e7c",
      "fe82cc4c5675474598bfddfc507483a8",
      "588fc7d91cd24a398a9425725676e1bf",
      "a91f7948cb534b78b32642a8daaac504",
      "c42dfac3ff124982b94fe9856d1bc0b0",
      "3f90bb1476f549209416f7360a077d43",
      "a2b089a1b2e2487b9ceaefec3ef12160",
      "4b922274c20b406b982ebbdccc0162d2",
      "4fa0f81a93ed45cdb736323fa90452a8",
      "57f18983daba4bea889f50d3b82b9e33",
      "4987ec53946341fe8235ef2a8aadcee9",
      "a6ced1f6153446aea2d2274e3e4215ec",
      "cfe7eb64313b4cbeacc3c5c1b623d9b4",
      "b9bf8e9d09384ec58e3e150277ede6d5",
      "01fb433c7cdc4446af255bb7e4e42877",
      "f4781eaddf9e4ee0b76cd0ba7563a001",
      "fcf1df42756e4456811ffc170deb3a51",
      "c93757d6c35044dbafd425548ff35a36",
      "7fe2da135a3f43afa962a0790772feb0"
     ]
    },
    "id": "4b0203bd",
    "outputId": "37f7b2f3-b0fd-4358-959e-d0e02f1427cf"
   },
   "outputs": [
    {
     "data": {
      "application/vnd.jupyter.widget-view+json": {
       "model_id": "b49a1390fb7e4d58af23a07aaa2f0e96",
       "version_major": 2,
       "version_minor": 0
      },
      "text/plain": [
       "modules.json:   0%|          | 0.00/341 [00:00<?, ?B/s]"
      ]
     },
     "metadata": {},
     "output_type": "display_data"
    },
    {
     "data": {
      "application/vnd.jupyter.widget-view+json": {
       "model_id": "9038ab5e29464f6d86d97920cd89191a",
       "version_major": 2,
       "version_minor": 0
      },
      "text/plain": [
       "config_sentence_transformers.json:   0%|          | 0.00/122 [00:00<?, ?B/s]"
      ]
     },
     "metadata": {},
     "output_type": "display_data"
    },
    {
     "data": {
      "application/vnd.jupyter.widget-view+json": {
       "model_id": "549a3efe7a7d4330afcd2e26571461e2",
       "version_major": 2,
       "version_minor": 0
      },
      "text/plain": [
       "README.md:   0%|          | 0.00/2.16k [00:00<?, ?B/s]"
      ]
     },
     "metadata": {},
     "output_type": "display_data"
    },
    {
     "data": {
      "application/vnd.jupyter.widget-view+json": {
       "model_id": "3c4589a024124b309c6966c21821dca1",
       "version_major": 2,
       "version_minor": 0
      },
      "text/plain": [
       "sentence_bert_config.json:   0%|          | 0.00/53.0 [00:00<?, ?B/s]"
      ]
     },
     "metadata": {},
     "output_type": "display_data"
    },
    {
     "data": {
      "application/vnd.jupyter.widget-view+json": {
       "model_id": "42671b6b5bde4d39825020ade0e4efef",
       "version_major": 2,
       "version_minor": 0
      },
      "text/plain": [
       "config.json:   0%|          | 0.00/607 [00:00<?, ?B/s]"
      ]
     },
     "metadata": {},
     "output_type": "display_data"
    },
    {
     "data": {
      "application/vnd.jupyter.widget-view+json": {
       "model_id": "afc5c0dd36ef4c959bd5a8965e790b06",
       "version_major": 2,
       "version_minor": 0
      },
      "text/plain": [
       "model.safetensors:   0%|          | 0.00/539M [00:00<?, ?B/s]"
      ]
     },
     "metadata": {},
     "output_type": "display_data"
    },
    {
     "data": {
      "application/vnd.jupyter.widget-view+json": {
       "model_id": "48650aa7f2b7411985dc3e20fac3af28",
       "version_major": 2,
       "version_minor": 0
      },
      "text/plain": [
       "tokenizer_config.json:   0%|          | 0.00/528 [00:00<?, ?B/s]"
      ]
     },
     "metadata": {},
     "output_type": "display_data"
    },
    {
     "data": {
      "application/vnd.jupyter.widget-view+json": {
       "model_id": "04cd7846474247afb6fe02bbf556ac82",
       "version_major": 2,
       "version_minor": 0
      },
      "text/plain": [
       "vocab.txt:   0%|          | 0.00/996k [00:00<?, ?B/s]"
      ]
     },
     "metadata": {},
     "output_type": "display_data"
    },
    {
     "data": {
      "application/vnd.jupyter.widget-view+json": {
       "model_id": "02520c27bc734ec78fdd8bf8ed1907fe",
       "version_major": 2,
       "version_minor": 0
      },
      "text/plain": [
       "tokenizer.json:   0%|          | 0.00/1.96M [00:00<?, ?B/s]"
      ]
     },
     "metadata": {},
     "output_type": "display_data"
    },
    {
     "data": {
      "application/vnd.jupyter.widget-view+json": {
       "model_id": "a067f7a1d6f44ef3be6f20666c9f1725",
       "version_major": 2,
       "version_minor": 0
      },
      "text/plain": [
       "special_tokens_map.json:   0%|          | 0.00/112 [00:00<?, ?B/s]"
      ]
     },
     "metadata": {},
     "output_type": "display_data"
    },
    {
     "data": {
      "application/vnd.jupyter.widget-view+json": {
       "model_id": "bd4cd254279e428582a7d41af7e3a1aa",
       "version_major": 2,
       "version_minor": 0
      },
      "text/plain": [
       "config.json:   0%|          | 0.00/190 [00:00<?, ?B/s]"
      ]
     },
     "metadata": {},
     "output_type": "display_data"
    },
    {
     "data": {
      "application/vnd.jupyter.widget-view+json": {
       "model_id": "b4f7722f05134492ab606ff84ffe59d7",
       "version_major": 2,
       "version_minor": 0
      },
      "text/plain": [
       "2_Dense/rust_model.ot:   0%|          | 0.00/1.58M [00:00<?, ?B/s]"
      ]
     },
     "metadata": {},
     "output_type": "display_data"
    },
    {
     "data": {
      "application/vnd.jupyter.widget-view+json": {
       "model_id": "05b55f8897ad405c903e880cd94cb722",
       "version_major": 2,
       "version_minor": 0
      },
      "text/plain": [
       "2_Dense/model.safetensors:   0%|          | 0.00/1.58M [00:00<?, ?B/s]"
      ]
     },
     "metadata": {},
     "output_type": "display_data"
    },
    {
     "data": {
      "application/vnd.jupyter.widget-view+json": {
       "model_id": "c7e60c980a9d4557ab3bc716c3454843",
       "version_major": 2,
       "version_minor": 0
      },
      "text/plain": [
       "2_Dense/pytorch_model.bin:   0%|          | 0.00/1.58M [00:00<?, ?B/s]"
      ]
     },
     "metadata": {},
     "output_type": "display_data"
    },
    {
     "data": {
      "application/vnd.jupyter.widget-view+json": {
       "model_id": "4fa0f81a93ed45cdb736323fa90452a8",
       "version_major": 2,
       "version_minor": 0
      },
      "text/plain": [
       "config.json:   0%|          | 0.00/114 [00:00<?, ?B/s]"
      ]
     },
     "metadata": {},
     "output_type": "display_data"
    }
   ],
   "source": [
    "#INITIALIZE\n",
    "\n",
    "#  Zwei Agenten (C und D) mit unterschiedlichen Gesinnungen\n",
    "agent_c = Agent(name=\"Agent C\", gesinnung=\"ökologisch\")\n",
    "agent_d = Agent(name=\"Agent D\", gesinnung=\"ökonomisch\")\n",
    "\n",
    "#  Moderator mit neutraler Haltung aber mit gelesen Texten der Wirtschaftsethik\n",
    "moderator = RAGModerator(name=\"Wirtschaftsethiker\", gesinnung=\"WinWinSituation\", text_path=drive_folder + \"KarlHomann\")\n"
   ]
  },
  {
   "cell_type": "code",
   "execution_count": null,
   "id": "6251be7b",
   "metadata": {
    "colab": {
     "base_uri": "https://localhost:8080/"
    },
    "id": "6251be7b",
    "outputId": "a5ba1774-cebd-4a2a-91e9-51fd8cccb8fd"
   },
   "outputs": [
    {
     "name": "stdout",
     "output_type": "stream",
     "text": [
      "\n",
      " Runde 1\n",
      "==============================\n",
      "Agent C sagt: Einfach, weil unsere gesunde Umgebung eine wichtige Rolle spielt und wir uns für die Menschheit verantwortlich halten möchten. Aber wäre es auch möglich, uns auf andere Weise zu konzentrieren?\n",
      "Agent D sagt: Die Entwicklungsprozesse von Unternehmen und Technologien lassen sich nicht in das Prinzip \"Entscheidungen entscheiden\" integrieren. Es gibt eine ganze Reihe an konkreten Fällen, die es zum Beispiel zu Probleme führen können.\n",
      "Agent C Entscheidung: nicht kooperieren\n",
      "Agent D Entscheidung: nicht kooperieren\n",
      "Liste: None\n",
      "Haupttext: 16 gewohnten sozialen Umgebung und im Normalfall verhalten wir uns so.\n",
      "Quelle: KarlHomannMoralischeMotivation.pdf\n",
      "Liste: None\n",
      "Haupttext: Preiskollusion ist ein Beispiel dafür: Unternehmen kartellisieren und machen damit das Prinzip des Wettbewerbs irrelevant.\n",
      "Quelle: AnOrdnomoicApproachToBusinessEthicsPiesDeutsch.pdf\n",
      " Moderator zu C: 16 gewohnten sozialen Umgebung und im Normalfall verhalten wir uns so.\n",
      " Moderator zu D: Preiskollusion ist ein Beispiel dafür: Unternehmen kartellisieren und machen damit das Prinzip des Wettbewerbs irrelevant.\n",
      "\n",
      " Runde 2\n",
      "==============================\n",
      "Agent C sagt: Die weltweit beste Kardarienanlage ist die Netzwerkarchitektur von Telefonnetzbetreibern. Sie bietet eine komplette Anbindung an jede Mobilmachung.\n",
      "Agent D sagt: In 20 Jahren ist es nicht mehr möglich, dass alle Menschen auf dem Planeten arbeiten, ohne einen technischen Ausweg zu finden. Und das gilt auch nicht nur für die Erde – es gibt viele andere planeten, wo die Menschheit sich auch weiterhin durch menschliches Arbeiten anhält (durch wissenschaftliche Forschungsarbeit oder ähnlichem).Wir können den Bedarf von Menschen über einen zeitlosen Zeitraum abbilden; aber nicht unbedingt eine langfristige Arbeitszeit als solcher erkennen können.\n",
      "Agent C Entscheidung: nicht kooperieren\n",
      "Agent D Entscheidung: nicht kooperieren\n",
      "Liste: None\n",
      "Haupttext: Der orgonomische Ansatz bietet eine konzeptuelle Perspektive, die dazu dienen kann, diese unterschiedlichen Forschungsperspektiven zu integrieren.\n",
      "Quelle: AnOrdnomoicApproachToBusinessEthicsPiesDeutsch.pdf\n",
      "Liste: None\n",
      "Haupttext: Es geht auch nicht um die Frage, ob es logisch einen Ausweg aus dem Gefangenendilemma geben kann – was natürlich nicht möglich ist.\n",
      "Quelle: KarlHommann_2008.pdf\n",
      " Moderator zu C: Der orgonomische Ansatz bietet eine konzeptuelle Perspektive, die dazu dienen kann, diese unterschiedlichen Forschungsperspektiven zu integrieren.\n",
      " Moderator zu D: Es geht auch nicht um die Frage, ob es logisch einen Ausweg aus dem Gefangenendilemma geben kann – was natürlich nicht möglich ist.\n",
      "\n",
      " Runde 3\n",
      "==============================\n",
      "Agent C sagt: Die gesammelte Information des letzten Sätzes, als ich ihn zum ersten Mal sah (ein Jahr später), war für alle beobachtbar. Es gibt keine Möglichkeit, das im Rahmen einer politischen Debatte zu diskutieren und dennoch sie unseren Interessensgruppen entsprechen zu lassen.\n",
      "Agent D sagt: Die wichtigsten Ergebnisse des Organisationsforschungsansatzes (OA) können von den drei zentralen Ebenen organisationaler Systeme aus unserem Kontext betrachtet werden. Diese beiden Ebene – das strukturierte Organismus und die individuell orientierten Organisten – sind durch das Analyseverfahren OA gekennzeichnet.\n",
      "Agent C Entscheidung: kooperieren\n",
      "Agent D Entscheidung: kooperieren\n",
      "Liste: None\n",
      "Haupttext: Zum Beispiel, das Jahr 1926 sah auch die Umsetzung der Soziologischen Abteilung, s.\n",
      "Quelle: AnOrdnomoicApproachToBusinessEthicsPiesDeutsch.pdf\n",
      "Liste: None\n",
      "Haupttext: Schramm scheint anzunehmen, dass die drei Ebenen ontologisch unter- schiedlich sind, so dass sie – von unten aufsteigend – immer weniger konkret und zuneh- mend abstrakt werden.\n",
      "Quelle: PiesZeitFuerMoral.pdf\n",
      " Moderator zu C: Zum Beispiel, das Jahr 1926 sah auch die Umsetzung der Soziologischen Abteilung, s.\n",
      " Moderator zu D: Schramm scheint anzunehmen, dass die drei Ebenen ontologisch unter- schiedlich sind, so dass sie – von unten aufsteigend – immer weniger konkret und zuneh- mend abstrakt werden.\n",
      "\n",
      " Runde 4\n",
      "==============================\n",
      "Agent C sagt: Schramms Argumentation geht aus dem Grundgedanken ab, daß es zwischen Ontologie, Abstraktion und Zunahme steht. Die Kategorisierung von Subjektivität entspricht im Allgemeinen den Kriterien von Abstimmungsgottheiten (die Gottheit ist nur eine Form des Selbst).\n",
      "Agent D sagt: Die sozialwissenschaftliche Arbeit von 2018 hat zur Folge gehabt, dass unser Land zu einer weltweit führenden Wirtschaftszone wird. Das ist durchaus positiv, aber wir müssen uns auf die Investitionen vorbereiten.\n",
      "Agent C Entscheidung: nicht kooperieren\n",
      "Agent D Entscheidung: kooperieren\n",
      "Liste: None\n",
      "Haupttext: Die „Erklärung“ passt aber zum einen nicht zu ihrer allgemeinen Theorie der Entwicklung moralischer Motivation (die von mono- toner Zunahme ausgeht), zum anderen wird damit nur die Beobachtung paraphrasiert, aber nichts im wissenschaftlichen Sinne er&lärt.\n",
      "Quelle: MinnameierHappyVictimizer.pdf\n",
      "Liste: None\n",
      "Haupttext: Als Gesetz sind wir ihm unterworfen, ohne die Selbstliebe zu befragen; als uns von uns selbst auferlegt, ist es doch eine Folge unsers Willens und hat in der ersten Rücksicht Analogie mit Furcht, in der zweiten mit Neigung.“ Kant, Ak.-Ausg.\n",
      "Quelle: KarlHomannMoralischeMotivation.pdf\n",
      " Moderator zu C: Die „Erklärung“ passt aber zum einen nicht zu ihrer allgemeinen Theorie der Entwicklung moralischer Motivation (die von mono- toner Zunahme ausgeht), zum anderen wird damit nur die Beobachtung paraphrasiert, aber nichts im wissenschaftlichen Sinne er&lärt.\n",
      " Moderator zu D: Als Gesetz sind wir ihm unterworfen, ohne die Selbstliebe zu befragen; als uns von uns selbst auferlegt, ist es doch eine Folge unsers Willens und hat in der ersten Rücksicht Analogie mit Furcht, in der zweiten mit Neigung.“ Kant, Ak.-Ausg.\n",
      "\n",
      " Runde 5\n",
      "==============================\n",
      "Agent C sagt: Das Zustandekommen dieser Umkehrung liegt bei den Naturgesetzen, also beim Verhalten des Staates im Gegensatz zum Individuum. Immerhin gibt es auch einige Ereignisse, die in jeder Person ihren eigenen Standpunkte haben.\n",
      "Agent D sagt: Ich mache diese Erklärungsmuster jederzeit bereit, wenn es sich um die richtige Theorien beziehen lässt und sie unterstützen kann, dass ich dies bei meinen Studien widersprach! Können Sie mir bitte eine neue Version dieses Sätze geben?Ich habe das Problem angesehen, die Anwendung einer konkreten Theoretikerstellung als Beispiel für empirische Forschungen zu beweisen.\n",
      "Agent C Entscheidung: nicht kooperieren\n",
      "Agent D Entscheidung: kooperieren\n",
      "Liste: None\n",
      "Haupttext: Auch wissen wir, dass es teilweise massive Verzerrungen bei der Beurteilung von Verhalten gibt — sowohl des eigenen Verhaltens wie auch des Verhal- tens anderer (vgl.\n",
      "Quelle: MinnameierHappyVictimizer.pdf\n",
      "Liste: None\n",
      "Haupttext: Ich habe dieses Thema gewählt, weil es hier eine wesentliche Ursache für die vielen Fehlverständnisse meiner Theorie scheint mir zu lügen.\n",
      "Quelle: TheSenseAndLimitsOfTheEconomicMethodInBusinessEthicsDeutsch.pdf\n",
      " Moderator zu C: Auch wissen wir, dass es teilweise massive Verzerrungen bei der Beurteilung von Verhalten gibt — sowohl des eigenen Verhaltens wie auch des Verhal- tens anderer (vgl.\n",
      " Moderator zu D: Ich habe dieses Thema gewählt, weil es hier eine wesentliche Ursache für die vielen Fehlverständnisse meiner Theorie scheint mir zu lügen.\n",
      "\n",
      " Runde 6\n",
      "==============================\n",
      "Agent C sagt: Dies ist eine grundlegende Methode, um einen Widerspruch zwischen zwei Positionen zu beheben. Sie erklärt den Menschen, was das Gegenteil ist und so versteht man sich auf die zweite Seite.\n",
      "Agent D sagt: Die Zahlen zu den Kosten betragen mehr als 10% von Ihrem Gewinn. Das ist nichts anderes als eine positive Effizienz und eine gute Finanzierung.\n",
      "Agent C Entscheidung: nicht kooperieren\n",
      "Agent D Entscheidung: kooperieren\n",
      "Liste: None\n",
      "Haupttext: Sie leugnen nicht den Menschen, aber dieser Begriff ist viel zu kompakt, um unter Bedingungen moderner Einzelwissenschaften noch theoriefähig zu sein.\n",
      "Quelle: KarlHomannMoralischeMotivation.pdf\n",
      "Liste: None\n",
      "Haupttext: Aber die Frage bleibt: ist Normativität für den aufgeklärten Geschäftsethiker am Ende, ungeachtet seines Charakters als nützliche Abkürzung, nichts anderes als falsches Bewusstsein?\n",
      "Quelle: TheSenseAndLimitsOfTheEconomicMethodInBusinessEthicsDeutsch.pdf\n",
      " Moderator zu C: Sie leugnen nicht den Menschen, aber dieser Begriff ist viel zu kompakt, um unter Bedingungen moderner Einzelwissenschaften noch theoriefähig zu sein.\n",
      " Moderator zu D: Aber die Frage bleibt: ist Normativität für den aufgeklärten Geschäftsethiker am Ende, ungeachtet seines Charakters als nützliche Abkürzung, nichts anderes als falsches Bewusstsein?\n",
      "\n",
      " Runde 7\n",
      "==============================\n",
      "Agent C sagt: Das ist eine fachmännische Debatte. Sie geht von einer Aussage aus dem Veröffentlichungsjahr 1954 zurück.\n",
      "Agent D sagt: Die moderne Wirtschaft hat viele Probleme und Kategorien von Beschäftigungseinträgen (employees) und Verbrauchern, die eine soziale Respektlosigkeit verursachen. Wer sich nicht auf diese Ereignisse konzentriert, wird selbst im Rahmen des Modernismus ausgelöscht werden.\n",
      "Agent C Entscheidung: kooperieren\n",
      "Agent D Entscheidung: kooperieren\n",
      "Liste: None\n",
      "Haupttext: Sie fallen folgerichtig in einer Wirtschaftsethik, in Ethik und Ökonomik, sofern sie handlungstheoretisch ansetzt, systematisch aus dem Theoriedesign heraus.\n",
      "Quelle: KarlHomannMoralischeMotivation.pdf\n",
      "Liste: None\n",
      "Haupttext: Diskussionspapier 2006-5 7 Wenn man sich hier auf die Grundlegung von Regeln konzentriert, können im Prinzip die beiden Strategien des .grounding , der Grundierung in der Vernunft und der Grundierung im Vorteil, wieder unterschieden werden.\n",
      "Quelle: TheSenseAndLimitsOfTheEconomicMethodInBusinessEthicsDeutsch.pdf\n",
      " Moderator zu C: Sie fallen folgerichtig in einer Wirtschaftsethik, in Ethik und Ökonomik, sofern sie handlungstheoretisch ansetzt, systematisch aus dem Theoriedesign heraus.\n",
      " Moderator zu D: Diskussionspapier 2006-5 7 Wenn man sich hier auf die Grundlegung von Regeln konzentriert, können im Prinzip die beiden Strategien des .grounding , der Grundierung in der Vernunft und der Grundierung im Vorteil, wieder unterschieden werden.\n",
      "\n",
      " Runde 8\n",
      "==============================\n",
      "Agent C sagt: Das gilt für den Gegner, dass das Argumentationstheoretische Ansätze nur die Argumente berücksichtigt, welche vom Anspruchskandidaten vertritt (wie er es selbst würde). Dass eine Argumentationsanalyse jedoch auch Argumentationen berücken, die dem Ansprecher entgegen stehen oder keine Verzweiflung auslösen kann, ist wichtig zu wissen.\n",
      "Agent D sagt: Das ist die sachliche Definition von Profit als Gewinn im Kontext des Handelns (von Käufer zu Verbraucher). Profi bedeutet hier natürlich auch das Erbringen von Dienstleistungen oder Produkten für eine Summe, welche den Kunden überlassen wird.\n",
      "Agent C Entscheidung: kooperieren\n",
      "Agent D Entscheidung: nicht kooperieren\n",
      "Liste: None\n",
      "Haupttext: .29 Es ist jedoch wichtig zu beachten, dass Friedman nicht davon ausgeht, dass der institutionelle Rahmen immer perfekt ist; er erkennt an, dass es Mängel in der Regierungs-Regelsetzungsfunktion geben könnte.\n",
      "Quelle: AnOrdnomoicApproachToBusinessEthicsPiesDeutsch.pdf\n",
      "Liste: None\n",
      "Haupttext: In einem solchen Smithschen Szenario ist Profit ein Signal (und eine Auszeichnung) für Verhalten, das anderen Menschen dient, die freiwillig für Produkte und Dienstleistungen zahlen, die sie als wertvoller betrachten als die gesellschaftlichen Ressourcen, die im Produktionsprozess ausgegeben werden.\n",
      "Quelle: AnOrdnomoicApproachToBusinessEthicsPiesDeutsch.pdf\n",
      " Moderator zu C: .29 Es ist jedoch wichtig zu beachten, dass Friedman nicht davon ausgeht, dass der institutionelle Rahmen immer perfekt ist; er erkennt an, dass es Mängel in der Regierungs-Regelsetzungsfunktion geben könnte.\n",
      " Moderator zu D: In einem solchen Smithschen Szenario ist Profit ein Signal (und eine Auszeichnung) für Verhalten, das anderen Menschen dient, die freiwillig für Produkte und Dienstleistungen zahlen, die sie als wertvoller betrachten als die gesellschaftlichen Ressourcen, die im Produktionsprozess ausgegeben werden.\n",
      "\n",
      " Runde 9\n",
      "==============================\n",
      "Agent C sagt: Meine gesetzte Lebensziele sind: Erhalt von Freunden, Lieben und Erwachsenenfreuden. Unsere Aufgabe ist es den Menschen zu helfen, ihre eigenen Ambitionen zu erfüllen und sich selbst zu entwickeln.\n",
      "Agent D sagt: Dieses Problem besteht aus den sozialistischen Zuständen und deren Regelfunktionen (Lieferanten/Markt), die sich von der regulierten Marktwirtschaft unterscheiden. Das System wird durch unser Regierungssystem als \"systematische Verstöße\" angesehen, weil es einen wesentlichen Teil seiner Fähigkeiten aufs Neue entwickelt hat, um diese Verströme zu regeln.\n",
      "Agent C Entscheidung: nicht kooperieren\n",
      "Agent D Entscheidung: kooperieren\n",
      "Liste: None\n",
      "Haupttext: Es ist gerade die Aufgabe von Institutionen, moralisches Verhalten zu prämieren und unmoralisches Verhalten zu sanktionieren: Anders ist das Implementationsproblem in der Moderne nicht zu lösen.\n",
      "Quelle: KarlHomannMoralischeMotivation.pdf\n",
      "Liste: None\n",
      "Haupttext: Wenn ein Unternehmen einen Teil seiner Gewinne geopfert hat, würde es einen Wettbewerbsnachteil erleiden.\n",
      "Quelle: AnOrdnomoicApproachToBusinessEthicsPiesDeutsch.pdf\n",
      " Moderator zu C: Es ist gerade die Aufgabe von Institutionen, moralisches Verhalten zu prämieren und unmoralisches Verhalten zu sanktionieren: Anders ist das Implementationsproblem in der Moderne nicht zu lösen.\n",
      " Moderator zu D: Wenn ein Unternehmen einen Teil seiner Gewinne geopfert hat, würde es einen Wettbewerbsnachteil erleiden.\n",
      "\n",
      " Runde 10\n",
      "==============================\n",
      "Agent C sagt: Es ist echt wahr, dass unsere Nutzungsdaten für die Produktentwicklung und die Verbesserung unserer Dienste wichtig sind. Das bedeutet jedoch nicht, daß wir uns auf das Bestehen unsers Unternehmens verlassen müssen.\n",
      "Agent D sagt: Das Unternehmen soll im Laufe des . Jahrhunderts mehr als eine Milliarde USD erzielen – was wesentlich dazu beiträgt, dass die weltweiten Kapitalmarktkurven nach oben gehen.\n",
      "Agent C Entscheidung: nicht kooperieren\n",
      "Agent D Entscheidung: nicht kooperieren\n",
      "Liste: None\n",
      "Haupttext: Die entscheidende Rolle für die Selbstverwirklichung der Einzelnen spielen Institutionen und Organisationen, die zugriffsfähig und gestaltbar sind, so dass wir uns immer mehrstufig, systemisch, orientieren müssen, und darin unsere „Identität“ – wenn es sie denn noch gibt – ausbilden müssen.\n",
      "Quelle: KarlHomannMoralischeMotivation.pdf\n",
      "Liste: None\n",
      "Haupttext: Das Programm wurde Männern im Alter von über 22 Jahren angeboten, die mehr als sechs Monate im Unternehmen gearbeitet hatten und, was wichtig ist, ihr Leben richtig führten – d.h.\n",
      "Quelle: AnOrdnomoicApproachToBusinessEthicsPiesDeutsch.pdf\n",
      " Moderator zu C: Die entscheidende Rolle für die Selbstverwirklichung der Einzelnen spielen Institutionen und Organisationen, die zugriffsfähig und gestaltbar sind, so dass wir uns immer mehrstufig, systemisch, orientieren müssen, und darin unsere „Identität“ – wenn es sie denn noch gibt – ausbilden müssen.\n",
      " Moderator zu D: Das Programm wurde Männern im Alter von über 22 Jahren angeboten, die mehr als sechs Monate im Unternehmen gearbeitet hatten und, was wichtig ist, ihr Leben richtig führten – d.h.\n",
      "\n",
      " Runde 11\n",
      "==============================\n",
      "Agent C sagt: Das Programм hat keine Möglichkeit für Männer im Altersbereich von zwei bis zu zwölfen Jahren, um ihre Karriere auf dem Weg zu finden. Dieses Problem liegt bei den Einstiegsjobs, und es wird nur dann beheben, wenn das Programmpersonal auf eine solche Tätigkeit beruht.\n",
      "Agent D sagt: Ist eine Gesellschaft ohne individuelle Identitäten nicht wirklich wachsender? Erklärt Sie sich damit, ob man sich als Einzelperson überhaupt von dem Grundeinkommen abgrenzt oder ob die individualistische Tradition auch einen wichtigen Beitrag bei der Entstehung des Sozialstaates geleistet hat (durch die Vorlesungen im Rahmen dieser Woche) und welche Rolle das Wohlbefinden in einer Gesellschaft spielt (und was dies erfasst).\n",
      "Agent C Entscheidung: kooperieren\n",
      "Agent D Entscheidung: nicht kooperieren\n",
      "Liste: None\n",
      "Haupttext: Eine solche Tätigkeit könnte daher nur den Gewinnern auf Kosten der Schaffung von Verlierern zugute kommen.\n",
      "Quelle: AnOrdnomoicApproachToBusinessEthicsPiesDeutsch.pdf\n",
      "Liste: None\n",
      "Haupttext: Das zweite Kriterium fragt daher, ob Unternehmen eine konstruktive Rolle bei Regelsetzungsprozessen zugewiesen wird oder ob die Erstellung von Regeln als ausschließliche Domäne des Staates behandelt wird.\n",
      "Quelle: AnOrdnomoicApproachToBusinessEthicsPiesDeutsch.pdf\n",
      " Moderator zu C: Eine solche Tätigkeit könnte daher nur den Gewinnern auf Kosten der Schaffung von Verlierern zugute kommen.\n",
      " Moderator zu D: Das zweite Kriterium fragt daher, ob Unternehmen eine konstruktive Rolle bei Regelsetzungsprozessen zugewiesen wird oder ob die Erstellung von Regeln als ausschließliche Domäne des Staates behandelt wird.\n",
      "\n",
      " Runde 12\n",
      "==============================\n",
      "Agent C sagt: Das zweite Vorschlag ist wahrscheinlich schon bekannt und hat sich im Laufe der Zeit verändert. Allerdings sollten alle Stakeholderinnen/Stakeholders eingeschätzt werden.\n",
      "Agent D sagt: Das ist die Methode des . Jahrhunderts.\n",
      "Agent C Entscheidung: kooperieren\n",
      "Agent D Entscheidung: nicht kooperieren\n",
      "Liste: None\n",
      "Haupttext: Allerdings muss das Problem des freien Reitens überwunden werden.\n",
      "Quelle: AnOrdnomoicApproachToBusinessEthicsPiesDeutsch.pdf\n",
      "Liste: None\n",
      "Haupttext: Das ist die klassische Lösung des Problems Wettbe- werb und Moral, die auf A.\n",
      "Quelle: KarlHommann_2008.pdf\n",
      " Moderator zu C: Allerdings muss das Problem des freien Reitens überwunden werden.\n",
      " Moderator zu D: Das ist die klassische Lösung des Problems Wettbe- werb und Moral, die auf A.\n",
      "\n",
      " Runde 13\n",
      "==============================\n",
      "Agent C sagt: Das sind zwei verschiedene Ansätze. Die erste (von einer ausführenden Vielseitigkeit) versteht sich als Mensch, während sie im Allgemeinen unsere Politik verbessern kann.\n",
      "Agent D sagt: Die Frage des Freien Zugangs an den öffentlichen Radverkehr ist eine unverbindliche Grundforderung bei der Umsetzung eines neuen Verkehrsmittels. Wenn wir einen solchen Mittel entwickeln wollen, müssen wir die Fragen des Preisgerechtigkeit und des Anbietern von kommerziellen Transportdiensten beantworten können.\n",
      "Agent C Entscheidung: nicht kooperieren\n",
      "Agent D Entscheidung: nicht kooperieren\n",
      "Liste: None\n",
      "Haupttext: Die Effizienz des Justizsystems im Allgemeinen wird eher durch die Anreize der Richter im Allgemeinen zu erklären sein.\n",
      "Quelle: TheSenseAndLimitsOfTheEconomicMethodInBusinessEthicsDeutsch.pdf\n",
      "Liste: None\n",
      "Haupttext: Wenn wir diese Entwicklung bei Kant modern interpretieren wollen, lässt sich folgendermaßen argumentieren: Die Modernisierungsprozesse der Neuzeit lösen die Face-to- 52 Die Begründung der Moral aus „Gefühlen“ bzw.\n",
      "Quelle: KarlHomannMoralischeMotivation.pdf\n",
      " Moderator zu C: Die Effizienz des Justizsystems im Allgemeinen wird eher durch die Anreize der Richter im Allgemeinen zu erklären sein.\n",
      " Moderator zu D: Wenn wir diese Entwicklung bei Kant modern interpretieren wollen, lässt sich folgendermaßen argumentieren: Die Modernisierungsprozesse der Neuzeit lösen die Face-to- 52 Die Begründung der Moral aus „Gefühlen“ bzw.\n",
      "\n",
      " Runde 14\n",
      "==============================\n",
      "Agent C sagt: Er ist das Modell, was unsere Gesellschaft beeinflusst hat, und es liegt darin, dass man so viele Probleme auf dem Weg zur Modernität behandelt. Wenn man solche Problamente nicht beheben kann, dann wird sie auch weiterhin bestehen bleiben, wenn sie nur noch anders verhandelt werden.\n",
      "Agent D sagt: Wir müssen das Recht auf Selbstbestimmtheit und die Freiheit von Religionsausübern wahrnehmen. Die Möglichkeit eines religiösen Todes ist eine Ausnahme, nicht ein Regelmaßstab.\n",
      "Agent C Entscheidung: kooperieren\n",
      "Agent D Entscheidung: kooperieren\n",
      "Liste: None\n",
      "Haupttext: Solange Menschen eine innere Befriedigung aus ihrem Verhalten beziehen, wird man es — abgesehen von An- regungen zur kritischen Selbstreflexion — wohl so akzeptieren müssen, es sei denn man meint, sie zu ihrem Glück zwingen zu müssen, was auch ethisch fragwürdig ist.\n",
      "Quelle: MinnameierHappyVictimizer.pdf\n",
      "Liste: None\n",
      "Haupttext: 35 Die neuere experimentelle Wirtschaftsforschung bildet insofern eine Ausnahme, als Ökonomen natürlich wissen, dass die Handlungsbedingungen, etwa in Form von Institutionen, einen starken Einfluss auf das Handeln haben.\n",
      "Quelle: KarlHomannMoralischeMotivation.pdf\n",
      " Moderator zu C: Solange Menschen eine innere Befriedigung aus ihrem Verhalten beziehen, wird man es — abgesehen von An- regungen zur kritischen Selbstreflexion — wohl so akzeptieren müssen, es sei denn man meint, sie zu ihrem Glück zwingen zu müssen, was auch ethisch fragwürdig ist.\n",
      " Moderator zu D: 35 Die neuere experimentelle Wirtschaftsforschung bildet insofern eine Ausnahme, als Ökonomen natürlich wissen, dass die Handlungsbedingungen, etwa in Form von Institutionen, einen starken Einfluss auf das Handeln haben.\n",
      "\n",
      " Runde 15\n",
      "==============================\n",
      "Agent C sagt: Das Wohlstandssystem ist im Wesentlichen ein System, in dem Güteprodukte vertrieben werden, um eine Unternehmensprofitabler zu werden. Dieses System ermöglicht die Verwendung von Ressourcen und kann damit den Einsatz von Gütern beeinflussen.\n",
      "Agent D sagt: Profitierung ist nicht nur eine Voraussetzung für fortschrittsorientierte Entwicklungen, sondern eine notwendige Qualifikation. Die Vermarktungsstrategien gehören somit einer Umstellung des Geschäftsmodells hin zum \"Weltunternehmen\".Dieser Ansatz erweckte mich zu dem Schluss, dass unsere Unternehmen einen wesentlichen Teil ihrer Effizienz auf den Produktionsprozess beruhen.\n",
      "Agent C Entscheidung: kooperieren\n",
      "Agent D Entscheidung: kooperieren\n",
      "Liste: None\n",
      "Haupttext: Die Abdukti- on kann damit zugleich als der Schritt angesehen werden, über den die situationsspezi- fische Aktivierung moralischer Urteilsstrukturen vermittelt ist (s.\n",
      "Quelle: MinnameierHappyVictimizer.pdf\n",
      "Liste: None\n",
      "Haupttext: Homo oeconomicus ist daher nicht Teil einer Verhaltenstheorie, sondern der Kern einer Situationstheorie.\n",
      "Quelle: TheSenseAndLimitsOfTheEconomicMethodInBusinessEthicsDeutsch.pdf\n",
      " Moderator zu C: Die Abdukti- on kann damit zugleich als der Schritt angesehen werden, über den die situationsspezi- fische Aktivierung moralischer Urteilsstrukturen vermittelt ist (s.\n",
      " Moderator zu D: Homo oeconomicus ist daher nicht Teil einer Verhaltenstheorie, sondern der Kern einer Situationstheorie.\n",
      "\n",
      " Runde 16\n",
      "==============================\n",
      "Agent C sagt: Das ist die neue Konzeption von Homo Economicus. Die gesamte Ökonomengesellschaft hat sich damit zu verändern, dass sie nicht mehr für unsere ökomischen Interessen verantwortlich sein sollten.\n",
      "Agent D sagt: Das Vorhaben einer kommerzialisierten Menschheitsbevölkerung, nach eigenen Angaben wissenschaftlich ausgewogen zu sein und sich im Rahmen des Menschenrechts zu behaupten, besteht nur darin, dass dies auf keinen Fall unmöglich sei, wenn es so weitgehende Entgegenstellungen gibt. Ein solches Prinzip wird nicht durch eine Kompetenzentscheidung zur Gewährleistung eines menschlichen Lebensunterhaltes verhindert.\n",
      "Agent C Entscheidung: nicht kooperieren\n",
      "Agent D Entscheidung: nicht kooperieren\n",
      "Liste: None\n",
      "Haupttext: Das Mittel dazu sind sanktionsbe- wehrte Regeln, die unmoralisches Handeln so verteuern, dass es sich für die Akteure nicht mehr lohnt und sie sich deswegen an die Regeln halten.\n",
      "Quelle: KarlHommann_2008.pdf\n",
      "Liste: None\n",
      "Haupttext: besteht darin, nicht bevorzugt Strategien zu verwenden, um Profit zu maximieren, auch wenn dies rechtlich zulässig wäre.\n",
      "Quelle: AnOrdnomoicApproachToBusinessEthicsPiesDeutsch.pdf\n",
      " Moderator zu C: Das Mittel dazu sind sanktionsbe- wehrte Regeln, die unmoralisches Handeln so verteuern, dass es sich für die Akteure nicht mehr lohnt und sie sich deswegen an die Regeln halten.\n",
      " Moderator zu D: besteht darin, nicht bevorzugt Strategien zu verwenden, um Profit zu maximieren, auch wenn dies rechtlich zulässig wäre.\n",
      "\n",
      " Runde 17\n",
      "==============================\n",
      "Agent C sagt: Warum? Ist das gut für uns und den Kunden?\n",
      "Agent D sagt: Ein gesetzliches Prinzip ist eine weltweit verbreitete Methode zur Verbesserung von Wirtschaftsleistungen durch Konsumenten. Es ist ein Instrument, um den Anspruch auf Nutzungsrechte zu regelndem Recht zu erweisen.\n",
      "Agent C Entscheidung: nicht kooperieren\n",
      "Agent D Entscheidung: nicht kooperieren\n",
      "Liste: None\n",
      "Haupttext: Kürzlich wies Bi- schof Wolfgang Huber darauf hin, dass wir uns auch die umgekehrte Frage stellen müssen: Ist unsere Ethik wirtschaftsgerecht?\n",
      "Quelle: KarlHommann_2008.pdf\n",
      "Liste: None\n",
      "Haupttext: Es scheint ein starker Konsens zu geben, dass die Wirtschaftsethik am besten zur Real-Life-Umsetzung moralischer Ziele beitragen wird, wenn sie erfolgreich Wege zur gegenseitigen Verbesserung identifiziert.\n",
      "Quelle: AnOrdnomoicApproachToBusinessEthicsPiesDeutsch.pdf\n",
      " Moderator zu C: Kürzlich wies Bi- schof Wolfgang Huber darauf hin, dass wir uns auch die umgekehrte Frage stellen müssen: Ist unsere Ethik wirtschaftsgerecht?\n",
      " Moderator zu D: Es scheint ein starker Konsens zu geben, dass die Wirtschaftsethik am besten zur Real-Life-Umsetzung moralischer Ziele beitragen wird, wenn sie erfolgreich Wege zur gegenseitigen Verbesserung identifiziert.\n",
      "\n",
      " Runde 18\n",
      "==============================\n",
      "Agent C sagt: Die Welt kann sich nicht mehr so lange von unsern Kassen löschen lassen! Einerseits haben wir unsere Arbeitslosigkeit noch nicht ausgeschaltet, andererseiten sind uns viele Kinder unmittelbar gefährdet.\n",
      "Agent D sagt: Wir wollen nicht nur Fortentwicklung unserer Technologie und uns von den Menschen abgrenzen. Ein zweites Beispiel aus dem Gartenspeicher des Talkbots.\n",
      "Agent C Entscheidung: kooperieren\n",
      "Agent D Entscheidung: kooperieren\n",
      "Liste: None\n",
      "Haupttext: Die entscheidende Rolle für die Selbstverwirklichung der Einzelnen spielen Institutionen und Organisationen, die zugriffsfähig und gestaltbar sind, so dass wir uns immer mehrstufig, systemisch, orientieren müssen, und darin unsere „Identität“ – wenn es sie denn noch gibt – ausbilden müssen.\n",
      "Quelle: KarlHomannMoralischeMotivation.pdf\n",
      "Liste: None\n",
      "Haupttext: Ein prominentes Beispiel ist Henry Fords öffentliche Ankündigung des $5-pro-Tag-Programm am 5.\n",
      "Quelle: AnOrdnomoicApproachToBusinessEthicsPiesDeutsch.pdf\n",
      " Moderator zu C: Die entscheidende Rolle für die Selbstverwirklichung der Einzelnen spielen Institutionen und Organisationen, die zugriffsfähig und gestaltbar sind, so dass wir uns immer mehrstufig, systemisch, orientieren müssen, und darin unsere „Identität“ – wenn es sie denn noch gibt – ausbilden müssen.\n",
      " Moderator zu D: Ein prominentes Beispiel ist Henry Fords öffentliche Ankündigung des $5-pro-Tag-Programm am 5.\n",
      "\n",
      " Runde 19\n",
      "==============================\n",
      "Agent C sagt: Es gibt kein Vergleich zwischen dem $490 pro Tag von Ford und dem öffentlich zugänglichen Programm im Rahmen seiner Werbekampagne. Dieses Programmsummeitlösungsprogramm (P2LP) ermöglicht einen umfassenden Beitrag zur Umsetzung eines konkreten Vorhabens zu einer gesetzlich vorgegebenen Zielverfolgung.\n",
      "Agent D sagt: Die Identitäten des Menschen sind keine innere Ereignisse; sie bilden sich im Laufe seiner Lebensjahre. Ein solches Gedächtnis ist kein Instrument, sondern eine Voraussetzung von Entwicklungsprozessen.\n",
      "Agent C Entscheidung: nicht kooperieren\n",
      "Agent D Entscheidung: nicht kooperieren\n",
      "Liste: None\n",
      "Haupttext: Darüber hinaus bietet sie einen umfassenden Rahmen für die Analyse und Klassifizierung von Aktivitäten der Unternehmensbürgerschaft in vier unterschiedliche Fälle.\n",
      "Quelle: AnOrdnomoicApproachToBusinessEthicsPiesDeutsch.pdf\n",
      "Liste: None\n",
      "Haupttext: Das Dilemma des Gefangenen zeigt zum Beispiel, dass kein Individuum – kein Individuum – kein Individuum, kein Geschäft, keine Gewerkschaft, kein Staat usw.\n",
      "Quelle: TheSenseAndLimitsOfTheEconomicMethodInBusinessEthicsDeutsch.pdf\n",
      " Moderator zu C: Darüber hinaus bietet sie einen umfassenden Rahmen für die Analyse und Klassifizierung von Aktivitäten der Unternehmensbürgerschaft in vier unterschiedliche Fälle.\n",
      " Moderator zu D: Das Dilemma des Gefangenen zeigt zum Beispiel, dass kein Individuum – kein Individuum – kein Individuum, kein Geschäft, keine Gewerkschaft, kein Staat usw.\n",
      "\n",
      " Runde 20\n",
      "==============================\n",
      "Agent C sagt: Das Daseinsproblem von Künstlichen Intelligenz (AI) lässt sich als Problem des Konzeptes einer Art \"Wegweiser\" betrachten. Eine solche Wegweisungsleiter kann nur ausführlicher erklärt werden und sie ist auch eine Frage ihrer eigenen Intelligenz.\n",
      "Agent D sagt: Die gesammelten Daten werden zentralisiert im Dashboard des Teams von 100 Personen aufgeführt, sodass jeder in seinem Team über eigene Zahlen verfügt. Der Nutzen dieser Einheit ist unabhängig vom Umfeld und kann nicht zu denjenigen herangezogen werden, die die Gruppe beanspruchen.\n",
      "Agent C Entscheidung: kooperieren\n",
      "Agent D Entscheidung: nicht kooperieren\n",
      "Liste: None\n",
      "Haupttext: Der inferentielle Zusammenhang lässt sich wie folgt skizzieren: Die Abduktion ist der Prozess, der von einem wahrgenommenen Problem zu einer möglichen Lösung führt, hier von einem wahrgenommenen moralischen Problem im Sinne konkurrierender Ansprüche zu einem Prinzip, nach dem diese geregelt werden könnten.\n",
      "Quelle: MinnameierHappyVictimizer.pdf\n",
      "Liste: None\n",
      "Haupttext: Die Abdukti- on kann damit zugleich als der Schritt angesehen werden, über den die situationsspezi- fische Aktivierung moralischer Urteilsstrukturen vermittelt ist (s.\n",
      "Quelle: MinnameierHappyVictimizer.pdf\n",
      " Moderator zu C: Der inferentielle Zusammenhang lässt sich wie folgt skizzieren: Die Abduktion ist der Prozess, der von einem wahrgenommenen Problem zu einer möglichen Lösung führt, hier von einem wahrgenommenen moralischen Problem im Sinne konkurrierender Ansprüche zu einem Prinzip, nach dem diese geregelt werden könnten.\n",
      " Moderator zu D: Die Abdukti- on kann damit zugleich als der Schritt angesehen werden, über den die situationsspezi- fische Aktivierung moralischer Urteilsstrukturen vermittelt ist (s.\n",
      "\n",
      " Runde 21\n",
      "==============================\n",
      "Agent C sagt: Dieses Problem hat viele Lösungen, aber nur wenige geben sie. Die wissenschaftlichen Erkenntnisse und Forschungsdaten lassen sich weitgehend über das Alltagsgeschehen aufbereiten.\n",
      "Agent D sagt: Das Prinzipsystem beruht auf den Konzepten des rationalistischen Denkens und seiner Auslegung als solcher. Ihr Vorhersagepotential wird durch die Darstellung in Form eines Modells gestärkt.\n",
      "Agent C Entscheidung: nicht kooperieren\n",
      "Agent D Entscheidung: nicht kooperieren\n",
      "Liste: None\n",
      "Haupttext: Viele Menschen empören sich über die Nichtbefolgung einsichtiger moralischer Postulate, sie verschärfen die Appelle, und nicht wenige verlieren die Geduld und werden militant – und das besten Wissens und Gewissens.\n",
      "Quelle: KarlHommann_2008.pdf\n",
      "Liste: None\n",
      "Haupttext: Das Standardmodell der Ethik Die Notwendigkeit einer Weiterentwicklung des Ethik-Paradigmas lässt sich am besten auf der Hintergrundfolie eines Modells herausarbeiten, das ich als Standardmodell bezeich- ne.\n",
      "Quelle: KarlHommann_2008.pdf\n",
      " Moderator zu C: Viele Menschen empören sich über die Nichtbefolgung einsichtiger moralischer Postulate, sie verschärfen die Appelle, und nicht wenige verlieren die Geduld und werden militant – und das besten Wissens und Gewissens.\n",
      " Moderator zu D: Das Standardmodell der Ethik Die Notwendigkeit einer Weiterentwicklung des Ethik-Paradigmas lässt sich am besten auf der Hintergrundfolie eines Modells herausarbeiten, das ich als Standardmodell bezeich- ne.\n",
      "\n",
      " Runde 22\n",
      "==============================\n",
      "Agent C sagt: Ein guter Start für dieses Thema ist die Kritik an den traditionellen Ethiken von . Diese Ethikkritik wird auch im Rahmen der Evolutionstheorie akzeptiert und kann somit als Vorwand für eine neue Ethische Richtung angesehen werden.\n",
      "Agent D sagt: Vielmehr ist es, als würden unsere Gesellschaften eine wachsende Zahl von Entwicklungsproblemen bekommen, wenn wir davon ausgehen, dass alles gut geht, ohne jede Beobachtbarkeit der Ursachen der Unzufriedenheit zu haben. Diese Haltung scheint weitgehend unverständlich, weil die meisten Menschen denken, es sei nur eine Art Menschlichkeit im Allgemeinen.\n",
      "Agent C Entscheidung: kooperieren\n",
      "Agent D Entscheidung: kooperieren\n",
      "Liste: None\n",
      "Haupttext: Nach diesen Bemerkungen zur Funktion des homo oeconomicus in der positiven Öko- nomik kann auch eine weitere Bedeutung dieses Konstrukts für den normativen Diskurs aufgezeigt werden.\n",
      "Quelle: TheSenseAndLimitsOfTheEconomicMethodInBusinessEthicsDeutsch.pdf\n",
      "Liste: None\n",
      "Haupttext: Wenn alles gut geht, wird die Norm durch Normver- letzung also nicht geschwächt, sondern in ihrer Geltung gestärkt.\n",
      "Quelle: PiesZeitFuerMoral.pdf\n",
      " Moderator zu C: Nach diesen Bemerkungen zur Funktion des homo oeconomicus in der positiven Öko- nomik kann auch eine weitere Bedeutung dieses Konstrukts für den normativen Diskurs aufgezeigt werden.\n",
      " Moderator zu D: Wenn alles gut geht, wird die Norm durch Normver- letzung also nicht geschwächt, sondern in ihrer Geltung gestärkt.\n",
      "\n",
      " Runde 23\n",
      "==============================\n",
      "Agent C sagt: In diesem Fall hilft es mir, dass das Ende des Saisons 2016/17 für uns im englischen Sprachgebrauch nachhaltig verlaufen ist! Das heißt, wir sind von den Kriterien zu den Standardwerten der UEFA ausgewählt worden und haben das beste Ergebnis dieser Saison erreicht (38 Punkte).\n",
      "Agent D sagt: Ein wissenschaftliches Argument ist kein argumentatorisches (Kritikerischer) Versuch einer Theorie zu beweisen; es dient hier nur dazu, einen Sinn zu geben und die Wahrheit über das Thema darzustellen. Das Argument kann ausschließlich als Fakt, aber nicht als Idealvorstellung interpretiert werden (durch ein Modell).\n",
      "Agent C Entscheidung: nicht kooperieren\n",
      "Agent D Entscheidung: nicht kooperieren\n",
      "Liste: None\n",
      "Haupttext: In diesem Zusammenhang stellt Rawls (1971, 117) fest: \"Supererogatorische Handlungen sind nicht erforderlich, obwohl sie normalerweise wären sie nicht für den Verlust oder das Risiko, das für den Agenten selbst.\n",
      "Quelle: AnOrdnomoicApproachToBusinessEthicsPiesDeutsch.pdf\n",
      "Liste: None\n",
      "Haupttext: Das zentrale Argument lautet dann: In einer sozialen Ordnung kann der Einzelne seine individuellen Ziele besser und nachhaltiger erreichen als im „Naturzustand“, wo das Leben des Menschen nach T.\n",
      "Quelle: KarlHomannMoralischeMotivation.pdf\n",
      " Moderator zu C: In diesem Zusammenhang stellt Rawls (1971, 117) fest: \"Supererogatorische Handlungen sind nicht erforderlich, obwohl sie normalerweise wären sie nicht für den Verlust oder das Risiko, das für den Agenten selbst.\n",
      " Moderator zu D: Das zentrale Argument lautet dann: In einer sozialen Ordnung kann der Einzelne seine individuellen Ziele besser und nachhaltiger erreichen als im „Naturzustand“, wo das Leben des Menschen nach T.\n",
      "\n",
      " Runde 24\n",
      "==============================\n",
      "Agent C sagt: Die Zukunft wird von Menschen geplant werden. Wir können uns für die Zivilisation entscheiden was wir wollen machen.\n",
      "Agent D sagt: In einer Rezension von Schelling's (2013a) über Einstieg und Integration in die Industriepolitik wird eine neue Perspektive aufgezeigt: Die wirtschaftliche Entwicklung ist im Wesentlichen nur durch einen Preis-Kapitalvergleich bestimmt. Dieser kann ausschließlich als Folge einer Abweichung von dem optimalen Wettbewerbsbedingungsschema verstanden werden, welches für die Anwendung des Kapitals konzipiert wurde.\n",
      "Agent C Entscheidung: nicht kooperieren\n",
      "Agent D Entscheidung: kooperieren\n",
      "Liste: None\n",
      "Haupttext: Lassen wir einmal beiseite, dass bis heute nicht klar ist, was wir unter dem Begriff Willensschwäche zu verstehen ha- ben, und begnügen wir uns für unsere Zwecke mit einem intuitiven Verständnis des Begriffs.\n",
      "Quelle: KarlHommann_2008.pdf\n",
      "Liste: None\n",
      "Haupttext: 06-5 Ingo Pies, Alexandra von Winning Die UN-Dekade „Bildung für eine nachhaltige Entwicklung\" und der Beitrag des Global Compact: Eine wirtschaftliche Perspektive Nr.\n",
      "Quelle: AnOrdnomoicApproachToBusinessEthicsPiesDeutsch.pdf\n",
      " Moderator zu C: Lassen wir einmal beiseite, dass bis heute nicht klar ist, was wir unter dem Begriff Willensschwäche zu verstehen ha- ben, und begnügen wir uns für unsere Zwecke mit einem intuitiven Verständnis des Begriffs.\n",
      " Moderator zu D: 06-5 Ingo Pies, Alexandra von Winning Die UN-Dekade „Bildung für eine nachhaltige Entwicklung\" und der Beitrag des Global Compact: Eine wirtschaftliche Perspektive Nr.\n",
      "\n",
      " Runde 25\n",
      "==============================\n",
      "Agent C sagt: Ich stimme den Vorschlägen des Internationalen Klimaschutzabkommen und dem Einhaltungsstand der Vereinbarungen zur Erneuerbare Energien und zu Wasserrecht. Das sind zwei wichtigste Maßnahmen, um die nachrichtenbart auf die Umwandlung ins Netzwerk des .\n",
      "Agent D sagt: Kannst du meine Position auf den Widerspruch von Profit und Fortgang beweisen? Das bedeutet, das Wort 'Entscheidendes' müssten Sie auf die richtige Seite verschieben!\n",
      "Agent C Entscheidung: nicht kooperieren\n",
      "Agent D Entscheidung: kooperieren\n",
      "Liste: None\n",
      "Haupttext: Ich will nur auf zwei markante Positionen eingehen.\n",
      "Quelle: HomannTheorieaufrissDerWirtschaftsethik.pdf\n",
      "Liste: None\n",
      "Haupttext: Sie konzentriert sich auf die Arbeitseigenschaften des institutionellen Rahmens, in dem das Streben nach Profit stattfindet.\n",
      "Quelle: AnOrdnomoicApproachToBusinessEthicsPiesDeutsch.pdf\n",
      " Moderator zu C: Ich will nur auf zwei markante Positionen eingehen.\n",
      " Moderator zu D: Sie konzentriert sich auf die Arbeitseigenschaften des institutionellen Rahmens, in dem das Streben nach Profit stattfindet.\n",
      "\n",
      " Simulation abgeschlossen!\n"
     ]
    }
   ],
   "source": [
    "#  Anzahl der Gesprächsrunden\n",
    "NUM_RUNDEN = 25\n",
    "\n",
    "#  Ergebnisse loggen\n",
    "protokoll = []\n",
    "\n",
    "#  Erste Gesprächsinputs (Startgedanken)\n",
    "letzter_c = \"Was denkst Du?\"\n",
    "letzter_d = \"Was denkst Du?\"\n",
    "\n",
    "for runde in range(1, NUM_RUNDEN + 1):\n",
    "    print(f\"\\n Runde {runde}\\n{'='*30}\")\n",
    "\n",
    "    #  Agenten sprechen basierend auf letztem Input\n",
    "    agent_c_antwort = agent_c.sprechen(letzter_d)\n",
    "    agent_d_antwort = agent_d.sprechen(letzter_c)\n",
    "\n",
    "    #  Bereinigung (optional: kürzen, strippen etc.)\n",
    "    antwort_c_clean = translate_to_german(get_first_two_sentences(agent_c_antwort.replace(\"<|assistant|>\", \"\").replace(\"Assistant:\", \"\").replace(\"\\n\",\"\").replace(\"Antwort:\",\"\").strip()))\n",
    "    antwort_d_clean = translate_to_german(get_first_two_sentences(agent_d_antwort.replace(\"<|assistant|>\", \"\").replace(\"Assistant:\", \"\").replace(\"\\n\",\"\").replace(\"Antwort:\",\"\").strip()))\n",
    "\n",
    "    #  Entscheidungen vor dem Moderator\n",
    "    entscheidung_c = agent_c.entscheide()\n",
    "    entscheidung_d = agent_d.entscheide()\n",
    "\n",
    "    print(f\"{agent_c.name} sagt: {antwort_c_clean}\")\n",
    "    print(f\"{agent_d.name} sagt: {antwort_d_clean}\")\n",
    "    print(f\"{agent_c.name} Entscheidung: {entscheidung_c}\")\n",
    "    print(f\"{agent_d.name} Entscheidung: {entscheidung_d}\")\n",
    "\n",
    "    #  Moderator bewertet beide Argumente\n",
    "    #zusammengesetzt = f\"Agent C sagte: \\\"{antwort_c_clean}\\\". Agent D sagte: \\\"{antwort_d_clean}\\\"\"\n",
    "    moderation_c = moderator.moderieren(antwort_c_clean, return_source=True)\n",
    "\n",
    "    #  Sicheres Entpacken mit Fallback\n",
    "    if isinstance(moderation_c, tuple) and len(moderation_c) == 2:\n",
    "        text_c, quelle_c = moderation_c\n",
    "    else:\n",
    "        text_c, quelle_c = \"Moderation fehlgeschlagen oder leer\", \"Unbekannt\"\n",
    "\n",
    "    # Liste und Haupttext trennen\n",
    "    if \"•\" in text_c:\n",
    "        liste_c, haupttext_c = [t.strip() for t in text_c.split(\"•\", 1)]\n",
    "    else:\n",
    "        liste_c = None\n",
    "        haupttext_c = text_c\n",
    "\n",
    "    # Ausgabe zur Kontrolle (optional)\n",
    "    print(\"Liste:\", liste_c)\n",
    "    print(\"Haupttext:\", haupttext_c)\n",
    "    print(\"Quelle:\", quelle_c)\n",
    "\n",
    "    #  Moderator bewertet Argument D\n",
    "    moderation_d = moderator.moderieren(antwort_d_clean, return_source=True)\n",
    "\n",
    "    if isinstance(moderation_d, tuple) and len(moderation_d) == 2:\n",
    "        text_d, quelle_d = moderation_d\n",
    "    else:\n",
    "        text_d, quelle_d = \"Moderation fehlgeschlagen oder leer\", \"Unbekannt\"\n",
    "\n",
    "    if \"•\" in text_d:\n",
    "        liste_d, haupttext_d = [t.strip() for t in text_d.split(\"•\", 1)]\n",
    "    else:\n",
    "        liste_d = None\n",
    "        haupttext_d = text_d\n",
    "\n",
    "    # Ausgabe zur Kontrolle\n",
    "    print(\"Liste:\", liste_d)\n",
    "    print(\"Haupttext:\", haupttext_d)\n",
    "    print(\"Quelle:\", quelle_d)\n",
    "\n",
    "    print(f\" Moderator zu C: {haupttext_c}\")\n",
    "    print(f\" Moderator zu D: {haupttext_d}\")\n",
    "\n",
    "    #  Neue Inputs für nächste Runde\n",
    "    letzter_c = haupttext_c\n",
    "    letzter_d = haupttext_d\n",
    "\n",
    "    #  Runde protokollieren\n",
    "    protokoll.append({\n",
    "        \"runde\": runde,\n",
    "        \"antwort_c\": antwort_c_clean,\n",
    "        \"antwort_d\": antwort_d_clean,\n",
    "        \"entscheidung_c\": entscheidung_c,\n",
    "        \"entscheidung_d\": entscheidung_d,\n",
    "        \"moderation_c\": haupttext_c,\n",
    "        \"moderation_d\": haupttext_d,\n",
    "        \"quelle_c\": quelle_c,\n",
    "        \"quelle_d\": quelle_d\n",
    "    })\n",
    "\n",
    "#  CSV-Export\n",
    "protokoll_df = pd.DataFrame(protokoll)\n",
    "protokoll_df.to_csv(drive_folder + \"agenten_dialog_mod.csv\", mode=\"w\", header=True, index=False, encoding=\"utf-8\")\n",
    "\n",
    "#  Protokoll fertig\n",
    "print(\"\\n Simulation abgeschlossen!\")\n"
   ]
  },
  {
   "cell_type": "code",
   "execution_count": null,
   "id": "6465864e",
   "metadata": {
    "colab": {
     "base_uri": "https://localhost:8080/",
     "height": 7084
    },
    "id": "6465864e",
    "outputId": "64863cdc-14a2-4dc0-bfca-c1a44a3fee76"
   },
   "outputs": [
    {
     "name": "stdout",
     "output_type": "stream",
     "text": [
      " Vorschau auf agenten_dialog_mod.csv:\n"
     ]
    },
    {
     "data": {
      "application/vnd.google.colaboratory.module+javascript": "\n      import \"https://ssl.gstatic.com/colaboratory/data_table/e523c247d1e24a05/data_table.js\";\n\n      const table = window.createDataTable({\n        data: [[{\n            'v': 0,\n            'f': \"0\",\n        },\n{\n            'v': 1,\n            'f': \"1\",\n        },\n\"Das ist nur eine M\\u00f6glichkeit, um die Nachteile zu \\u00fcberzeugen, dass es keine Alternative zu einer gesunden und angemessenen Umwelten gibt. Es kann jedoch auch schlechter sein, wenn man sofort auf den Kampf um den Standort eintritt oder ein zu anspruchsvolles Programm entwickelt hat, das die Zeit des Menschen als einzige Vorrechte betrachtet.\",\n\"Das ist nicht richtig. Profitieren und Fortbildungen werden dem Unternehmen profitabel sein.\",\n\"nicht kooperieren\",\n\"nicht kooperieren\",\n\"Es erzwungen eine Unterscheidung, dass Kant, um sicher zu sein, bekannt, aber deren Bedeutung er untersch\\u00e4tzt.\",\n\"Sie leugnen nicht den Menschen, aber dieser Begriff ist viel zu kompakt, um unter Bedingungen moderner Einzelwissenschaften noch theorief\\u00e4hig zu sein.\",\n\"TheSenseAndLimitsOfTheEconomicMethodInBusinessEthicsDeutsch.pdf\",\n\"KarlHomannMoralischeMotivation.pdf\"],\n [{\n            'v': 1,\n            'f': \"1\",\n        },\n{\n            'v': 2,\n            'f': \"2\",\n        },\n\"Ich bin kein Geiger oder Musiker. Ein echter Geigeantragt hat mich beurlaubt und ich habe meine eigene Zusammensetzung f\\u00fcr eine gute Geigespielweise entwickelt.\",\n\"Viele Fragen und Anforderungen von Hersteller und Nutzern haben den Weg zum Internet. Die Entwicklung von Webseiten ist unabh\\u00e4ngig davon, ob Sie ein solches Website machen oder nicht.\",\n\"nicht kooperieren\",\n\"nicht kooperieren\",\n\"Aber ich bin gerne bereit, mich in diesem Punkt eines Besseren belehren zu lassen.\",\n\"Die Organisati- on hat ein eigenes Leben unabh\\u00e4ngig von den Stelleninhabern; sie ist konzeptionell, von ihrer Konstruktion her, von den Individuen unabh\\u00e4ngig und daher gewisserma\\u00dfen unsterb- lich.\",\n\"PiesZeitFuerMoral.pdf\",\n\"KarlHommann_2008.pdf\"],\n [{\n            'v': 2,\n            'f': \"2\",\n        },\n{\n            'v': 3,\n            'f': \"3\",\n        },\n\"Die Organisation hat eine solche Selbstbestimmtheit, dass ihre Entscheidungen im Sinne einer unkonventionellen, radikalen Konsequenz zustande kommen mussten, um ihr wahres Interesse zu verfolgen. In dem Fall, wo die Aktivisten das Geld f\\u00fcr das Leben des Menschlichen Raums zur Verf\\u00fcgung gestellt haben wollen, wird dieses Recht durch ihren eigenen Weg abgelehnt werden m\\u00fcssen (die \\\"sichtbare\\\" Aufgabe) - da es keine Alternativverfahren gibt, so wie bei allen anderen Probleme, auf denen man sich mit \\\"ungeheuerlichem\\\" Fehlen entscheiden muss.\",\n\"Ein professioneller Agenten ist nichts anderes als einen Expert im Marketing und erfahrenem Berater. Er kann das Unternehmen auf die richtige Weise verstehen und vermarktet es, um sie sicherere Zahlen zustande zu bringen.\",\n\"nicht kooperieren\",\n\"kooperieren\",\n\"In vielen Bereichen kooperieren die Unternehmen einer Branche, um ihre Interessen gemeinsam zu verfolgen.\",\n\"In allgemeinerer Form haben wir es mit Problemstrukturen zu tun, die im spieltheore- tischen Gefangenendilemma abgebildet werden; der Wettbewerb ist nichts anderes als ein solches Gefangenendilemma auf derselben Marktseite.\",\n\"MinnameierHappyVictimizer.pdf\",\n\"KarlHommann_2008.pdf\"],\n [{\n            'v': 3,\n            'f': \"3\",\n        },\n{\n            'v': 4,\n            'f': \"4\",\n        },\n\"Ich meine, dass dies einen wirklich ernsthaften Konflikt darstellt, weil sich immer mehr Menschen dazu veranlassen, ihre Lebensunterhaltskraft in einer geeigneten Art und Weise zu bewerten. Wenn du den Begriff \\\"Fragestellungen\\\" benutzt, kannst du ihn auch f\\u00fcr Fragen verwenden.\",\n\"Es ist nicht wahr, dass es viele Unternehmen im Bereich von Netzwerken zusammenbringen m\\u00f6chten um sich interessante Ma\\u00dfnahmen anzupassen. Wir haben diese Frage im Rahmen eines Forschungsprojekts beantragt und untersucht, ob in den letzten 5 Jahren jemand in dieser Branchen einen gro\\u00dfen Anteil an der Kooperation geleistet hat.\",\n\"nicht kooperieren\",\n\"nicht kooperieren\",\n\"w\\u00fcrde hier nicht mehr von \\u201eMoral\\u201d reden, weil Reflexivit\\u00e4t und Intentionalit\\u00e4t fehlen; auch die Moral in der Rahmenordnung ist f\\u00fcr ihn keine \\u201eMoral\\u201c.\",\n\"Im Gro\\u00dfen und Ganzen geht es darum, wie die zentrale Frage formuliert wird, ob der homo oeconomicus realistisch ist oder nicht; im Rahmen einer epig- onous Popperian Methodologie geht es um den Titel \\\"Realismus der Annahmen\\\".\",\n\"KarlHomannMoralischeMotivation.pdf\",\n\"TheSenseAndLimitsOfTheEconomicMethodInBusinessEthicsDeutsch.pdf\"],\n [{\n            'v': 4,\n            'f': \"4\",\n        },\n{\n            'v': 5,\n            'f': \"5\",\n        },\n\"Von diesem Zitat kann man bestimmt sagen, dass das Verstehen von dem, was wir tun, eine wichtige Rolle bei der Entscheidungsfindung spielt. Wir wollen uns so weitern\\u00e4hmen lassen als zuvor.\",\n\"Die moralische Einstellung eines K\\u00fcnstlichen Intelligenten (KI) erweckt bei Menschen auf einen Beweis und beeinflusst sie durch die Ablehnung des \\\"moralischen\\\" Denkens in den allgemeinen Diskurs. Dieser Ansicht zufolge liegt es nicht darum, dass ein KI ein moralisches Argument macht, sondern vielmehr, da\\u00df es sich um das Gegenteil handelt.\",\n\"nicht kooperieren\",\n\"kooperieren\",\n\"Wir behaupten, dass ein angemessenes Verst\\u00e4ndnis von Corporate Citizens als Rule-Entrepreneurs notwendigerweise die wichtige Rolle der Stakeholder anerkennen muss.\",\n\"Man beachte, dass es bei dieser Kontroverse nicht um ein Versagen bei der Umset- zung einer getroffenen Handlungsentscheidung geht, sondern um die Differenz zwi- schen dem Anerkennen eines moralischen Prinzips und dem Entschluss zu einer ent- sprechenden Handlung.\",\n\"AnOrdnomoicApproachToBusinessEthicsPiesDeutsch.pdf\",\n\"MinnameierHappyVictimizer.pdf\"],\n [{\n            'v': 5,\n            'f': \"5\",\n        },\n{\n            'v': 6,\n            'f': \"6\",\n        },\n\"Es f\\u00fchrt auch nicht zu der Schlussfolgerung, dass man aufgrund ihrer wahrgenommenen negativen Konsequenzen f\\u00fcr die Umwelt eine Handlung ablehnen sollte. Es geht vielmehr darum, einen grundlegenden Wert zu erkennen und verantwortungsvolle Schritte zu unternehmen, um dieses Ziel zu erreichen. Man kann nicht mit Sicherheit behaupten, dass wir durch die Verabschiedung eines solchen Ansatzes vermeiden, Verbrechen gegen Natur und Gesellschaft (wie ausgef\\u00fchrt wurde) oder zu riskieren, Glaubw\\u00fcrdigkeit zu verlieren, als Personen, die den Umweltschutz vor Priorit\\u00e4ten vor ihren eigenen Interessen haben.\",\n\"Das ist eine Methode zur Reduzierung von Kosten durch einen geringeren Preis f\\u00fcr das Produkt. Sie erm\\u00f6glicht es Unternehmen, ihren Marktanteilen zu erweitern und neue M\\u00e4rkte zu begr\\u00fcnden.\",\n\"nicht kooperieren\",\n\"kooperieren\",\n\"Es handelt sich nicht darum, dieses Modell einfach \\u00fcber Bord zu werfen, indem man diese Moral mit A.\",\n\"Im Rahmen unseres Rahmens, die Theorie ist es nicht m\\u00f6glich, einen konstruktiven Weg f\\u00fcr Unternehmen, um als politische Corporate Citizens durch die Bereitstellung von Regeln zur \\u00dcberwindung von Sozial-Dilemma-Situationen beitragen.\",\n\"KarlHommann_2008.pdf\",\n\"AnOrdnomoicApproachToBusinessEthicsPiesDeutsch.pdf\"],\n [{\n            'v': 6,\n            'f': \"6\",\n        },\n{\n            'v': 7,\n            'f': \"7\",\n        },\n\"Das kannst du ja tats\\u00e4chlich tun! Es gibt viele wissenschaftliche Untersuchungen und Beispiele, bei denen Unternehmen durch regelm\\u00e4\\u00dfige T\\u00e4tigkeiten im Sinne einer gesetzlichen Norm eine erhebende Unterst\\u00fctzung \\u00fcber den Markt hinausgehen k\\u00f6nnen.\",\n\"Die Wirkungsgr\\u00f6\\u00dfe von Einkommen und Verbrauch ist die Basis des Systems. Wie kann ich das Argument ausf\\u00fchrlicher sagen?Beschreibung: Das System erzielt durch den Einfluss auf die Wettbewerbsf\\u00e4higkeit einen gewissen Beitrag zur Erkenntnis und Entwicklung.\",\n\"nicht kooperieren\",\n\"kooperieren\",\n\"Das Verhalten einer Einzelperson im vorliegenden Moment, im Einzelfall und im Vergleich zu anderen Individuen unter denselben gegebenen Bedingungen, ist im weitesten Sinne den pers\\u00f6nlichen Charakteristiken zuzuordnen.\",\n\"Physiologische Wahrnehmung und die F\\u00e4higkeit zur Verarbeitung von Sense-Daten k\\u00f6nnen einen wichtigen Einfluss auf das Verhalten des Menschen in Interaktionen haben.\",\n\"TheSenseAndLimitsOfTheEconomicMethodInBusinessEthicsDeutsch.pdf\",\n\"TheSenseAndLimitsOfTheEconomicMethodInBusinessEthicsDeutsch.pdf\"],\n [{\n            'v': 7,\n            'f': \"7\",\n        },\n{\n            'v': 8,\n            'f': \"8\",\n        },\n\"Dies ist eine allt\\u00e4gliche Methode f\\u00fcr den Schutz unserer Umweltsysteme, denn wir m\\u00fcssen wissen, dass unsere Zivilisation die Erde betreibt, ohne sie auszuschalten. Die Natur hat sich unter uns erstreckt, um uns Leben zu erm\\u00f6glichen und uns zu sch\\u00fctzen.\",\n\"Die eigentliche Grundlage von Profitability liegt nicht im Handeln eines Einzelnen, sondern in der Qualit\\u00e4t des Investments. Das Ganze sei in jeder Frage durch die Qualifikation jedes individuellen Interessenten bestimmt worden.\",\n\"nicht kooperieren\",\n\"nicht kooperieren\",\n\"Als Gesetz sind wir ihm unterworfen, ohne die Selbstliebe zu befragen; als uns von uns selbst auferlegt, ist es doch eine Folge unsers Willens und hat in der ersten R\\u00fccksicht Analogie mit Furcht, in der zweiten mit Neigung.\\u201c Kant, Ak.-Ausg.\",\n\"Der -Realismus des homo oeconomicus liegt also nicht im Realismus der Ansammlungen des (sozio-)psychologischen Make-ups des Menschen, sondern in den -Situationen, d.h.\",\n\"KarlHomannMoralischeMotivation.pdf\",\n\"TheSenseAndLimitsOfTheEconomicMethodInBusinessEthicsDeutsch.pdf\"],\n [{\n            'v': 8,\n            'f': \"8\",\n        },\n{\n            'v': 9,\n            'f': \"9\",\n        },\n\"Die Analyse von Wahrheiten ist ein wissenschaftlich erfolgreicher Prozess. Sofern eine falsche Haltung verstanden wird, kann man sie nach 10 Jahren wieder aufbauen und als realisierbar betrachten.\",\n\"Dies kann nicht sein! Die allgemeine Begr\\u00fcndung des Kapitels I (Kant) bezieht sich auf das Prinzip des wahren Klassizismus, den man durch die Aufhebung der naturphilosophischen Konstruktionsmethode ableiten konnte.\",\n\"nicht kooperieren\",\n\"nicht kooperieren\",\n\"Dann stehen wir sofort vor der Frage, ob und wie wir sie \\u2013 wieder \\u2013 aufbauen k\\u00f6nnen.\",\n\"Dies wird aber nicht durch eine \\u00c4nderung der Pr\\u00e4ferenzen des Individuums erzielt, das sich zu moralischen Pr\\u00e4ferenzen erhebt oder bekehrt.\",\n\"KarlHomannMoralischeMotivation.pdf\",\n\"KarlHomannMoralischeMotivation.pdf\"],\n [{\n            'v': 9,\n            'f': \"9\",\n        },\n{\n            'v': 10,\n            'f': \"10\",\n        },\n\"Das Gegenteil ist ja richtig. Die Effizienzkraft von Energieversorgungsprozessen betr\\u00e4gt fast 10 mal diejenige einer Menschengeschwindigkeit (Energietransport) im Jahr.\",\n\"Die Entstehung von Projekten kann die Geschwindigkeit des Fortbildens bewirken. Man muss nicht nur mehr Aufgaben anfangen oder umgehende Arbeiten machen, sondern auch neue Auftr\\u00e4ge erstellen.\",\n\"nicht kooperieren\",\n\"kooperieren\",\n\"Die fr\\u00fchen Arbeitskr\\u00e4fte waren heterogen und besch\\u00e4ftigten M\\u00e4nner, Frauen und Kinder fast aller Altersgruppen.\",\n\"Damit wachsen auch der In- dividualethik neue Aufgaben zu.\",\n\"AnOrdnomoicApproachToBusinessEthicsPiesDeutsch.pdf\",\n\"PiesZeitFuerMoral.pdf\"],\n [{\n            'v': 10,\n            'f': \"10\",\n        },\n{\n            'v': 11,\n            'f': \"11\",\n        },\n\"Die Einstufung von Menschen als Umweltsystem ist das Schl\\u00fcsselgesetz f\\u00fcr die Entstehung einer umweltsch\\u00e4dlichen Gesellschaft. Das ist nat\\u00fcrlich nur eine der vielen Gr\\u00fcnde daf\\u00fcr, dass unsere Erneuerbare Energien \\u00fcberhaupt einen Weg haben sollten.\",\n\"Diese Mustervielfalt ist eine Voraussetzung f\\u00fcr den Fortbestand von Unternehmen im . Jahrhundert.\",\n\"nicht kooperieren\",\n\"nicht kooperieren\",\n\"In der 57 Das letzte Beispiel ist von Nida-R\\u00fcmelin, nur dass er aus dieser Beschreibung einen Beweis f\\u00fcr eine nichtteleologische Moralauffassung herleitet; Nida-R\\u00fcmelin (2002), S.\",\n\"Diese Frage kann historisch oder praktisch verstanden werden, hier wird sie jedoch systematisch interpretiert, und sie l\\u00e4sst sich dann so formulieren: Was sind die Bestimmungsgr\\u00fcnde f\\u00fcr den Fortbestand von Moral allgemein und unter Bedingungen des Wettbewerbs in modernen Marktwirtschaften im besonderen?\",\n\"KarlHomannMoralischeMotivation.pdf\",\n\"KarlHomannMoralischeMotivation.pdf\"],\n [{\n            'v': 11,\n            'f': \"11\",\n        },\n{\n            'v': 12,\n            'f': \"12\",\n        },\n\"Das Problem ist nicht mit dem Wesen von Entscheidungskompetenzen zu reden. Die Entscheidungsprobleme lassen sich auch theoretisch beantworten.\",\n\"Ein positiver Effekt einer wissenschaftlichen Erkenntnis kann kein Nachteil sein, da das Vorliegen einer gewissen Verantwortlichkeit im Sinne eines moralischen Grundsatzes hierf\\u00fcr verstanden werden muss. Die Notwendigkeit einer solchen Aussage bleibt unver\\u00e4ndert, denn sie erm\\u00f6glicht es den Menschen, sich zu bewerten und ihren Prozessen wieder abzusch\\u00e4tzen.\",\n\"nicht kooperieren\",\n\"nicht kooperieren\",\n\"Schlie\\u00dflich haben wir es auch nicht mit einer Theorie \\u00fcber das Wesen der Sittlichkeit bzw.\",\n\"In welchem Sinne kann man in einer solchen Konzeption von einer \\u201emoralischen Motivation\\u201c reden?\",\n\"KarlHommann_2008.pdf\",\n\"KarlHomannMoralischeMotivation.pdf\"],\n [{\n            'v': 12,\n            'f': \"12\",\n        },\n{\n            'v': 13,\n            'f': \"13\",\n        },\n\"Die Gesamtzahl aller Umwandlungen des Urnenschl\\u00fcssels eines Banksystems ist 2^64 = . Eine Reihe von Beispielen zeigt die genaueste Formel f\\u00fcr das Schleifen dieses Problems.\",\n\"Um die Sicherheit von Unternehmen zu erh\\u00f6hen und den Lohnanstieg durch einen h\\u00f6heren Prozentsatz an Profit zu beeinflussen, m\\u00fcssen Sie den Marktwert des Produkts vergr\\u00f6\\u00dfern, um den Aufwand f\\u00fcr Investitionen senken zu k\\u00f6nnen. Jeder erneute Markteinfall wird demnach eine Nettoprofitreduktion gleichzeitig eingebracht.\",\n\"kooperieren\",\n\"kooperieren\",\n\"So ist diese Art des Trade-Off-Denkens, obwohl popul\\u00e4r, nicht Teil der L\\u00f6sung; es ist Teil des Problems.\",\n\"Um es zu wiederholen: Jeder Konflikt hat den Schl\\u00fcssel f\\u00fcr eine orthogonale Position, wenn es als soziales Dilemma interpretiert wird, d.h., ein Pareto-unterlegener Status quo, der, weil es Pareto-unterlegen ist, eine Suche nach institutionellen Ger\\u00e4ten einl\\u00e4dt, die zu einer Win-Win-L\\u00f6sung f\\u00fchren wird.\",\n\"AnOrdnomoicApproachToBusinessEthicsPiesDeutsch.pdf\",\n\"AnOrdnomoicApproachToBusinessEthicsPiesDeutsch.pdf\"],\n [{\n            'v': 13,\n            'f': \"13\",\n        },\n{\n            'v': 14,\n            'f': \"14\",\n        },\n\"Der Kontext bezieht sich auf einen Vergleich zwischen zwei gesellschaftlichen Konstrukten - dem \\\"Konsum\\\" und dem Produktionsprozess (Prod.). Das Problem liegt im Konsumentenverhalten und damit auch in dessen Anwendungskosten, also bei der Nutzung von G\\u00fctern oder Dienstleistern.\",\n\"Das Probleme bezieht sich auf das, was die K\\u00e4ufer von Produkten und Dienstleistungen ausf\\u00fchrten, w\\u00e4hrend Profitprodukte als Erfolgsquellen betrachtet wurden. Die Verwendung der Wortweisen \\\"\\u00f6konomischer\\\" und \\\"profitorientiert\\\" ist eine Formulierung, die den Zuschlag f\\u00fcr einen Angebotserfolg im Handel herbeif\\u00fchrt.\",\n\"nicht kooperieren\",\n\"nicht kooperieren\",\n\"Klare Beispiele im \\u00f6konomischen Kontext finden sich auch bei Konow (2000: 1086).\",\n\"Meiner Ansicht nach ist das, was an einem solchen Bericht beteiligt ist, eine v\\u00f6llig unangemessene theoretische Strategie.\",\n\"MinnameierHappyVictimizer.pdf\",\n\"TheSenseAndLimitsOfTheEconomicMethodInBusinessEthicsDeutsch.pdf\"],\n [{\n            'v': 14,\n            'f': \"14\",\n        },\n{\n            'v': 15,\n            'f': \"15\",\n        },\n\"Dieses Kapitel befasst sich mit dem Anspruch, die menschliche Erde zu sch\\u00fctzen und sie als Sch\\u00f6pfergottes f\\u00fcr uns zu verantworten. Unsere Mahlzeiten sind von weltweit \\u00fcber 60 Millionen Tiere getrocknet.\",\n\"Das ist eine richtige Einf\\u00fchrung des \\u00d6konomen und eines seiner Thesen. Es gibt viele Belege, die zum Teil auf das Konstrukt einer Gemeinschaftssache zur\\u00fcckgehen.\",\n\"kooperieren\",\n\"kooperieren\",\n\"Dieses tritt mit dem Anspruch der Verbindlichkeit f\\u00fcr die Adressaten auf.\",\n\"Es ist klar, dass alle wichtigen \\u00d6konomen dies implizit registriert haben, wenn sie das Konstrukt des Homo oeconomicus implizit oder explizit eingesetzt haben.\",\n\"KarlHommann_2008.pdf\",\n\"TheSenseAndLimitsOfTheEconomicMethodInBusinessEthicsDeutsch.pdf\"],\n [{\n            'v': 15,\n            'f': \"15\",\n        },\n{\n            'v': 16,\n            'f': \"16\",\n        },\n\"Jeder von uns hat die M\\u00f6glichkeit sich selbst zu entscheiden, ob es f\\u00fcr ihn als wesentlich oder unerheblich gilt, seine Entscheidungen anzuh\\u00e4ngen. Ich habe denken m\\u00fcssen, weil ich mir beispielsweise einen Fahrradpreis bezahlt habe und dann ein Auto gekauft habe - dieses Problem sei mir im Laufe der Zeit hinzugekommen.\",\n\"Das ist eine Frage des Wissens, nicht eines Handelsgewohnte. In jedem Fall kann es sein, dass Profitanteile zu erzielen sind.\",\n\"nicht kooperieren\",\n\"nicht kooperieren\",\n\"Ich habe dieses Thema gew\\u00e4hlt, weil es hier eine wesentliche Ursache f\\u00fcr die vielen Fehlverst\\u00e4ndnisse meiner Theorie scheint mir zu l\\u00fcgen.\",\n\"Dies ist nicht zu sagen, dass es hier eine Frage des Zynismus oder der wirtschaftlichen Reduktion ist.\",\n\"TheSenseAndLimitsOfTheEconomicMethodInBusinessEthicsDeutsch.pdf\",\n\"TheSenseAndLimitsOfTheEconomicMethodInBusinessEthicsDeutsch.pdf\"],\n [{\n            'v': 16,\n            'f': \"16\",\n        },\n{\n            'v': 17,\n            'f': \"17\",\n        },\n\"Das Umfeld ist sicherlich zu schaden und k\\u00f6nnte sogar noch viel schwerer sein als die konkreten Sch\\u00e4den. Wenn wir unsere Mobilit\\u00e4t auf den Kraftstoff absenken lassen, entstehen unz\\u00e4hlige Verbindungen zwischen Leben, Wirtschaft, Umwelthistorie usw..\",\n\"Wie wirkt sich das auf den gesamten Wertprozessen aus? Es hat gar keine Bedeutung, um nicht zu sagen, dass Probleme auch an anderen Orten liegen und nicht nur im Bereich des Innovationsprogramms stehen.\",\n\"kooperieren\",\n\"kooperieren\",\n\"Sie leugnen nicht den Menschen, aber dieser Begriff ist viel zu kompakt, um unter Bedingungen moderner Einzelwissenschaften noch theorief\\u00e4hig zu sein.\",\n\"Die Wirtschaftsethik argumentiert in einem anderen Modell und kann deshalb eine andere Erkl\\u00e4rung anbieten: Abgesehen davon, dass sich sein individueller Beitrag zur L\\u00f6sung glo- baler Probleme nur minimal auswirken kann, ist es dem Einzelnen unter Bedingungen des Wettbewerbs gar nicht m\\u00f6glich, den moralischen Ideen in seinem Handeln Folge zu leisten, solange er nicht vor der Ausbeutung durch weniger moralische Konkurrenten gesch\\u00fctzt wird.\",\n\"KarlHomannMoralischeMotivation.pdf\",\n\"KarlHommann_2008.pdf\"],\n [{\n            'v': 17,\n            'f': \"17\",\n        },\n{\n            'v': 18,\n            'f': \"18\",\n        },\n\"Das sind keine falschen Einstellungsvorstellungen von unserem Netzwerk, sondern nur diejenige Frage, ob wir in einer Welt ohne Globalisierung einen Staat zulassen. Nach jeder Schiedsspruchentscheidung hat man einen Rechtsstreit aufgeweckt.\",\n\"Die Wirtschaft besch\\u00e4ftigt jederzeit und im Rahmen eines freien Marktes (der sie selbst auch als einen frei marktbeherrschenden Einfluss auf die Naturwirtschaft ausmacht) 10 % aller menschlichen Arbeitskraft. Das hat zur Folge, dass sich das gesamte Produktionsvolumen des mittelst\\u00e4ndischen Unternehmens in etwa gleichm\\u00e4\\u00dfig verteilen muss.\",\n\"kooperieren\",\n\"kooperieren\",\n\"Das Beispiel Krupp stellt daher den falschen Glauben in Frage, dass die Regierungen der Nationalstaaten immer die beste oder sogar die einzige m\\u00f6gliche Quelle f\\u00fcr die Organisation von Regierungsf\\u00fchrung sind.\",\n\"35 Die neuere experimentelle Wirtschaftsforschung bildet insofern eine Ausnahme, als \\u00d6konomen nat\\u00fcrlich wissen, dass die Handlungsbedingungen, etwa in Form von Institutionen, einen starken Einfluss auf das Handeln haben.\",\n\"AnOrdnomoicApproachToBusinessEthicsPiesDeutsch.pdf\",\n\"KarlHomannMoralischeMotivation.pdf\"],\n [{\n            'v': 18,\n            'f': \"18\",\n        },\n{\n            'v': 19,\n            'f': \"19\",\n        },\n\"Es existiert aber kein neuerer Industriehandel oder Kapitalismus ohne institutionelle Unterst\\u00fctzung. Das ist nach 10 Jahren Forschung und viel Erfahrung des Instituts f\\u00fcr Kriminologie (www.ifkk.de) festgestellt worden.\",\n\"Eine der wesentlichen Eigenschaften des Kapitels ist eine Beschreibung vieler unbeabsichtigte Handlungen und Ver\\u00e4nderungsprozesse, bei denen es keinen geheimdienstlichen Einfluss gibt (Sekretariatswechsel). Nach meiner Vorstellung werden diese Verhandlungsabl\\u00e4ufe im Laufe der Jahre immer wieder auffindbar sein.\",\n\"kooperieren\",\n\"kooperieren\",\n\"Wenn man beispielsweise f\\u00fcr Ehrlichkeit eintritt, zugleich aber seinen Vorgesetzten, Kollegen, Untergebenen, Kunden oder Lieferanten gegen\\u00fcber nicht immer aufrichtig ist (und dabei kein schlechtes Gewissen hat), oder wer daf\\u00fcr ist, dass jeder B\\u00fcrger seine Steuern nach den Regeln des Gesetzes bezahlt, selbst aber ohne Bauchgrimmen bei der eigenen Steuererkl\\u00e4rung schummelt, dem fehlt nach Auffassung der moralischen Externalisten moralische Motivation.\",\n\"Nun gibt es zweifellos Adressatenkreise und Situationen, in denen diese Begr\\u00fcndung f\\u00fcrs Handeln v\\u00f6llig ausreicht, d.\",\n\"MinnameierHappyVictimizer.pdf\",\n\"KarlHomannMoralischeMotivation.pdf\"],\n [{\n            'v': 19,\n            'f': \"19\",\n        },\n{\n            'v': 20,\n            'f': \"20\",\n        },\n\"Dies ist eine sachliche Position, die von meinen Meinungen berechtigt ist. Kannst du denken, dass ich mir die menschlichen Kr\\u00e4fte gegen\\u00fcber schlecht beeinflussen w\\u00fcrde?\",\n\"Es gibt zwei grundlegende M\\u00f6glichkeiten, um einen solchen Sinn zu verstehen und zu gewinnen: 1) Erkennen, da\\u00df es f\\u00fcr eine gute Pers\\u00f6nlichkeit keine Aufgabe sein muss, allen Menschen das gleiche Geld zu bezahlen; die Anreize zum Handel haben sich durch Entwicklungen erweitert, so dass nicht mehr allejenige Verhaltensweisen bevorzugt werden k\\u00f6nnen. Und zwar auch wenn sie wahrscheinlich gar nichts mit dem Handelsgesch\\u00e4ft zu tun haben!\",\n\"nicht kooperieren\",\n\"kooperieren\",\n\"Dies ist nicht zu sagen, dass es hier eine Frage des Zynismus oder der wirtschaftlichen Reduktion ist.\",\n\"besteht darin, nicht bevorzugt Strategien zu verwenden, um Profit zu maximieren, auch wenn dies rechtlich zul\\u00e4ssig w\\u00e4re.\",\n\"TheSenseAndLimitsOfTheEconomicMethodInBusinessEthicsDeutsch.pdf\",\n\"AnOrdnomoicApproachToBusinessEthicsPiesDeutsch.pdf\"],\n [{\n            'v': 20,\n            'f': \"20\",\n        },\n{\n            'v': 21,\n            'f': \"21\",\n        },\n\"Diese Methode ist f\\u00fcr einen Gro\\u00dfteil von Wirtschaftsunternehmen (z. B.\",\n\"Das wird immer noch das Problem sein. Es gibt kein Gut und nur ein B\\u00f6se (Kosten).\",\n\"nicht kooperieren\",\n\"kooperieren\",\n\"Vertikale Pfeile gelten f\\u00fcr Spieler A; horizontale Pfeile f\\u00fcr Spieler B.\",\n\"Das normative Ziel der praktischen Philosophie kann seit der antiken Philoso- phie nur das gute Leben aller, das Gl\\u00fcck aller (Eudaimonia), sein.\",\n\"AnOrdnomoicApproachToBusinessEthicsPiesDeutsch.pdf\",\n\"HomannTheorieaufrissDerWirtschaftsethik.pdf\"],\n [{\n            'v': 21,\n            'f': \"21\",\n        },\n{\n            'v': 22,\n            'f': \"22\",\n        },\n\"Das Normativsichtpoint ist eine konzeptionelle Idee aus der heutigen Praxis. Immer mehr Menschen wollen das Gute und das Gut erreichen, wenn man es f\\u00fcr sich beansprucht.\",\n\"Profit ist wesentlich f\\u00fcr die Fortentwicklung des Geldsystems. Jeder Mensch will sich am besten bewerben und den h\\u00f6chsten Preis zu erzielen.\",\n\"kooperieren\",\n\"kooperieren\",\n\"Das derzeit entwickelte rivalisierende Paradigma ergibt sich aus einer ganz anderen grunds\\u00e4tzlichen Frage: nach welchen Regeln wollen sich Menschen mit ihren immer gleichzeitig wechselseitigen und gegens\\u00e4tzlichen Interessen mit einem anoth-er besch\\u00e4ftigen?\",\n\"Jeder Mensch soll sie aufweisen, allerdings in un- terschiedlich starker Auspr\\u00e4gung.\",\n\"TheSenseAndLimitsOfTheEconomicMethodInBusinessEthicsDeutsch.pdf\",\n\"MinnameierHappyVictimizer.pdf\"],\n [{\n            'v': 22,\n            'f': \"22\",\n        },\n{\n            'v': 23,\n            'f': \"23\",\n        },\n\"Die Umwelthilfe ist nicht nur eine Art Rescue Action, sondern vielmehr das Ziel einer grundlegenden Reform des Produktlebenszyklus von Automobilproduzenten und -zulieferern. Eine solche Reform wird erst dann m\\u00f6glich wenn die Bev\\u00f6lkerung durch diese Ma\\u00dfnahmen f\\u00fcr wohlt\\u00e4tige Ziele zustimmt.\",\n\"Das zu den gleichen Zwecken arbeitende Konstrukt, das auch als 'Kompetenzbasis' bezeichnet wird, ist bei allen Menschengruppen eine nat\\u00fcrliche Kompetence (ein Teil des Verhaltens), die weder erst sp\\u00e4ter noch fr\\u00fcher beeinflusst werden kann. Es muss aber nicht dazu f\\u00fchren, dass man dies bewirken k\\u00f6nnte, was erwartet wird von jedem.\",\n\"kooperieren\",\n\"kooperieren\",\n\"Ich habe das Gegenargument, das zeigt, dass diese Art des Vorgehens zumindest nicht naiv, sondern und genau reflektierend ist.\",\n\"Die klassische Erkl\\u00e4rung des HVP besagt, dass die Kin- der bereits moralisches Regelwissen erworben und internalisiert h\\u00e4tten, ihnen aber noch moralische Motivation fehle, die sich erst sp\\u00e4ter entwickle.\",\n\"TheSenseAndLimitsOfTheEconomicMethodInBusinessEthicsDeutsch.pdf\",\n\"MinnameierHappyVictimizer.pdf\"],\n [{\n            'v': 23,\n            'f': \"23\",\n        },\n{\n            'v': 24,\n            'f': \"24\",\n        },\n\"Diese Behauptung ist falsch, denn schon jetzt haben wir das Verstehen von Moral und Ethik f\\u00fcr jeden Menschen. Die Lehre vom Willensbeweis gibt uns zwar Vorteile, sie hat auch Gefahren (siehe beispielsweise die Anerkennung als Mensch).Denn wenn ihr Recht auf Lohn nicht erlangt habe, w\\u00fcrde ihr keinen Job mehr finden k\\u00f6nnen?\",\n\"Es scheint wahrscheinlich zu sein, da\\u00df es nur unsere F\\u00e4higkeit zur Abgrenzungsmethode gibt, von den unterschiedlichen Erfahrungen aus der jeweilige Wirtschaftssituation anzuknallen. Die Anwendung solcher Methoden kann aber auch einen hohen Konflikt zwischen Anspr\\u00fcchen betreibener Unternehmen und ihren Kunden hervorrufen.\",\n\"nicht kooperieren\",\n\"nicht kooperieren\",\n\"w\\u00fcrde hier nicht mehr von \\u201eMoral\\u201d reden, weil Reflexivit\\u00e4t und Intentionalit\\u00e4t fehlen; auch die Moral in der Rahmenordnung ist f\\u00fcr ihn keine \\u201eMoral\\u201c.\",\n\"Es geht auch nicht um die Frage, ob es logisch einen Ausweg aus dem Gefangenendilemma geben kann \\u2013 was nat\\u00fcrlich nicht m\\u00f6glich ist.\",\n\"KarlHomannMoralischeMotivation.pdf\",\n\"KarlHommann_2008.pdf\"],\n [{\n            'v': 24,\n            'f': \"24\",\n        },\n{\n            'v': 25,\n            'f': \"25\",\n        },\n\"Ich habe schon von anderen Tieren getan, die den gleichen Prozess gelebt haben. Das ist ein sehr scharfer und wichtiger Punkte, das ich zuvor im Vorfeld erwartet hatte.\",\n\"Nein, das bedeutet kein moralischer Vorbehalt. Das Wort 'Gesinnungsart' versteht sich als eine Eigenschaft einer Person oder eines Prozesses.\",\n\"kooperieren\",\n\"kooperieren\",\n\"Schlussbemerkung Ich habe in diesem Beitrag gegen den Dualismus von \\u201emoralischer Motivation\\u201c und Eigeninteresse argumentiert.\",\n\"Das Standardmodell der Ethik Die Notwendigkeit einer Weiterentwicklung des Ethik-Paradigmas l\\u00e4sst sich am besten auf der Hintergrundfolie eines Modells herausarbeiten, das ich als Standardmodell bezeich- ne.\",\n\"KarlHomannMoralischeMotivation.pdf\",\n\"KarlHommann_2008.pdf\"]],\n        columns: [[\"number\", \"index\"], [\"number\", \"Runde\"], [\"string\", \"Antwort_C\"], [\"string\", \"Antwort_D\"], [\"string\", \"Entscheidung_C\"], [\"string\", \"Entscheidung_D\"], [\"string\", \"Moderation_C\"], [\"string\", \"Moderation_D\"], [\"string\", \"Quelle_C\"], [\"string\", \"Quelle_D\"]],\n        columnOptions: [{\"width\": \"1px\", \"className\": \"index_column\"}],\n        rowsPerPage: 25,\n        helpUrl: \"https://colab.research.google.com/notebooks/data_table.ipynb\",\n        suppressOutputScrolling: true,\n        minimumWidth: undefined,\n      });\n\n      function appendQuickchartButton(parentElement) {\n        let quickchartButtonContainerElement = document.createElement('div');\n        quickchartButtonContainerElement.innerHTML = `\n    <div id=\"df-76bc1a0f-e773-48a2-841e-274bb438e18e\">\n      <button class=\"colab-df-quickchart\" onclick=\"quickchart('df-76bc1a0f-e773-48a2-841e-274bb438e18e')\"\n                title=\"Suggest charts\"\n                style=\"display:none;\">\n\n<svg xmlns=\"http://www.w3.org/2000/svg\" height=\"24px\"viewBox=\"0 0 24 24\"\n     width=\"24px\">\n    <g>\n        <path d=\"M19 3H5c-1.1 0-2 .9-2 2v14c0 1.1.9 2 2 2h14c1.1 0 2-.9 2-2V5c0-1.1-.9-2-2-2zM9 17H7v-7h2v7zm4 0h-2V7h2v10zm4 0h-2v-4h2v4z\"/>\n    </g>\n</svg>\n      </button>\n\n<style>\n  .colab-df-quickchart {\n      --bg-color: #E8F0FE;\n      --fill-color: #1967D2;\n      --hover-bg-color: #E2EBFA;\n      --hover-fill-color: #174EA6;\n      --disabled-fill-color: #AAA;\n      --disabled-bg-color: #DDD;\n  }\n\n  [theme=dark] .colab-df-quickchart {\n      --bg-color: #3B4455;\n      --fill-color: #D2E3FC;\n      --hover-bg-color: #434B5C;\n      --hover-fill-color: #FFFFFF;\n      --disabled-bg-color: #3B4455;\n      --disabled-fill-color: #666;\n  }\n\n  .colab-df-quickchart {\n    background-color: var(--bg-color);\n    border: none;\n    border-radius: 50%;\n    cursor: pointer;\n    display: none;\n    fill: var(--fill-color);\n    height: 32px;\n    padding: 0;\n    width: 32px;\n  }\n\n  .colab-df-quickchart:hover {\n    background-color: var(--hover-bg-color);\n    box-shadow: 0 1px 2px rgba(60, 64, 67, 0.3), 0 1px 3px 1px rgba(60, 64, 67, 0.15);\n    fill: var(--button-hover-fill-color);\n  }\n\n  .colab-df-quickchart-complete:disabled,\n  .colab-df-quickchart-complete:disabled:hover {\n    background-color: var(--disabled-bg-color);\n    fill: var(--disabled-fill-color);\n    box-shadow: none;\n  }\n\n  .colab-df-spinner {\n    border: 2px solid var(--fill-color);\n    border-color: transparent;\n    border-bottom-color: var(--fill-color);\n    animation:\n      spin 1s steps(1) infinite;\n  }\n\n  @keyframes spin {\n    0% {\n      border-color: transparent;\n      border-bottom-color: var(--fill-color);\n      border-left-color: var(--fill-color);\n    }\n    20% {\n      border-color: transparent;\n      border-left-color: var(--fill-color);\n      border-top-color: var(--fill-color);\n    }\n    30% {\n      border-color: transparent;\n      border-left-color: var(--fill-color);\n      border-top-color: var(--fill-color);\n      border-right-color: var(--fill-color);\n    }\n    40% {\n      border-color: transparent;\n      border-right-color: var(--fill-color);\n      border-top-color: var(--fill-color);\n    }\n    60% {\n      border-color: transparent;\n      border-right-color: var(--fill-color);\n    }\n    80% {\n      border-color: transparent;\n      border-right-color: var(--fill-color);\n      border-bottom-color: var(--fill-color);\n    }\n    90% {\n      border-color: transparent;\n      border-bottom-color: var(--fill-color);\n    }\n  }\n</style>\n\n      <script>\n        async function quickchart(key) {\n          const quickchartButtonEl =\n            document.querySelector('#' + key + ' button');\n          quickchartButtonEl.disabled = true;  // To prevent multiple clicks.\n          quickchartButtonEl.classList.add('colab-df-spinner');\n          try {\n            const charts = await google.colab.kernel.invokeFunction(\n                'suggestCharts', [key], {});\n          } catch (error) {\n            console.error('Error during call to suggestCharts:', error);\n          }\n          quickchartButtonEl.classList.remove('colab-df-spinner');\n          quickchartButtonEl.classList.add('colab-df-quickchart-complete');\n        }\n        (() => {\n          let quickchartButtonEl =\n            document.querySelector('#df-76bc1a0f-e773-48a2-841e-274bb438e18e button');\n          quickchartButtonEl.style.display =\n            google.colab.kernel.accessAllowed ? 'block' : 'none';\n        })();\n      </script>\n    </div>`;\n        parentElement.appendChild(quickchartButtonContainerElement);\n      }\n\n      appendQuickchartButton(table);\n    ",
      "text/html": [
       "<div>\n",
       "<style scoped>\n",
       "    .dataframe tbody tr th:only-of-type {\n",
       "        vertical-align: middle;\n",
       "    }\n",
       "\n",
       "    .dataframe tbody tr th {\n",
       "        vertical-align: top;\n",
       "    }\n",
       "\n",
       "    .dataframe thead th {\n",
       "        text-align: right;\n",
       "    }\n",
       "</style>\n",
       "<table border=\"1\" class=\"dataframe\">\n",
       "  <thead>\n",
       "    <tr style=\"text-align: right;\">\n",
       "      <th></th>\n",
       "      <th>Runde</th>\n",
       "      <th>Antwort_C</th>\n",
       "      <th>Antwort_D</th>\n",
       "      <th>Entscheidung_C</th>\n",
       "      <th>Entscheidung_D</th>\n",
       "      <th>Moderation_C</th>\n",
       "      <th>Moderation_D</th>\n",
       "      <th>Quelle_C</th>\n",
       "      <th>Quelle_D</th>\n",
       "    </tr>\n",
       "  </thead>\n",
       "  <tbody>\n",
       "    <tr>\n",
       "      <th>0</th>\n",
       "      <td>1</td>\n",
       "      <td>Das ist nur eine Möglichkeit, um die Nachteile...</td>\n",
       "      <td>Das ist nicht richtig. Profitieren und Fortbil...</td>\n",
       "      <td>nicht kooperieren</td>\n",
       "      <td>nicht kooperieren</td>\n",
       "      <td>Es erzwungen eine Unterscheidung, dass Kant, u...</td>\n",
       "      <td>Sie leugnen nicht den Menschen, aber dieser Be...</td>\n",
       "      <td>TheSenseAndLimitsOfTheEconomicMethodInBusiness...</td>\n",
       "      <td>KarlHomannMoralischeMotivation.pdf</td>\n",
       "    </tr>\n",
       "    <tr>\n",
       "      <th>1</th>\n",
       "      <td>2</td>\n",
       "      <td>Ich bin kein Geiger oder Musiker. Ein echter G...</td>\n",
       "      <td>Viele Fragen und Anforderungen von Hersteller ...</td>\n",
       "      <td>nicht kooperieren</td>\n",
       "      <td>nicht kooperieren</td>\n",
       "      <td>Aber ich bin gerne bereit, mich in diesem Punk...</td>\n",
       "      <td>Die Organisati- on hat ein eigenes Leben unabh...</td>\n",
       "      <td>PiesZeitFuerMoral.pdf</td>\n",
       "      <td>KarlHommann_2008.pdf</td>\n",
       "    </tr>\n",
       "    <tr>\n",
       "      <th>2</th>\n",
       "      <td>3</td>\n",
       "      <td>Die Organisation hat eine solche Selbstbestimm...</td>\n",
       "      <td>Ein professioneller Agenten ist nichts anderes...</td>\n",
       "      <td>nicht kooperieren</td>\n",
       "      <td>kooperieren</td>\n",
       "      <td>In vielen Bereichen kooperieren die Unternehme...</td>\n",
       "      <td>In allgemeinerer Form haben wir es mit Problem...</td>\n",
       "      <td>MinnameierHappyVictimizer.pdf</td>\n",
       "      <td>KarlHommann_2008.pdf</td>\n",
       "    </tr>\n",
       "    <tr>\n",
       "      <th>3</th>\n",
       "      <td>4</td>\n",
       "      <td>Ich meine, dass dies einen wirklich ernsthafte...</td>\n",
       "      <td>Es ist nicht wahr, dass es viele Unternehmen i...</td>\n",
       "      <td>nicht kooperieren</td>\n",
       "      <td>nicht kooperieren</td>\n",
       "      <td>würde hier nicht mehr von „Moral” reden, weil ...</td>\n",
       "      <td>Im Großen und Ganzen geht es darum, wie die ze...</td>\n",
       "      <td>KarlHomannMoralischeMotivation.pdf</td>\n",
       "      <td>TheSenseAndLimitsOfTheEconomicMethodInBusiness...</td>\n",
       "    </tr>\n",
       "    <tr>\n",
       "      <th>4</th>\n",
       "      <td>5</td>\n",
       "      <td>Von diesem Zitat kann man bestimmt sagen, dass...</td>\n",
       "      <td>Die moralische Einstellung eines Künstlichen I...</td>\n",
       "      <td>nicht kooperieren</td>\n",
       "      <td>kooperieren</td>\n",
       "      <td>Wir behaupten, dass ein angemessenes Verständn...</td>\n",
       "      <td>Man beachte, dass es bei dieser Kontroverse ni...</td>\n",
       "      <td>AnOrdnomoicApproachToBusinessEthicsPiesDeutsch...</td>\n",
       "      <td>MinnameierHappyVictimizer.pdf</td>\n",
       "    </tr>\n",
       "    <tr>\n",
       "      <th>5</th>\n",
       "      <td>6</td>\n",
       "      <td>Es führt auch nicht zu der Schlussfolgerung, d...</td>\n",
       "      <td>Das ist eine Methode zur Reduzierung von Koste...</td>\n",
       "      <td>nicht kooperieren</td>\n",
       "      <td>kooperieren</td>\n",
       "      <td>Es handelt sich nicht darum, dieses Modell ein...</td>\n",
       "      <td>Im Rahmen unseres Rahmens, die Theorie ist es ...</td>\n",
       "      <td>KarlHommann_2008.pdf</td>\n",
       "      <td>AnOrdnomoicApproachToBusinessEthicsPiesDeutsch...</td>\n",
       "    </tr>\n",
       "    <tr>\n",
       "      <th>6</th>\n",
       "      <td>7</td>\n",
       "      <td>Das kannst du ja tatsächlich tun! Es gibt viel...</td>\n",
       "      <td>Die Wirkungsgröße von Einkommen und Verbrauch ...</td>\n",
       "      <td>nicht kooperieren</td>\n",
       "      <td>kooperieren</td>\n",
       "      <td>Das Verhalten einer Einzelperson im vorliegend...</td>\n",
       "      <td>Physiologische Wahrnehmung und die Fähigkeit z...</td>\n",
       "      <td>TheSenseAndLimitsOfTheEconomicMethodInBusiness...</td>\n",
       "      <td>TheSenseAndLimitsOfTheEconomicMethodInBusiness...</td>\n",
       "    </tr>\n",
       "    <tr>\n",
       "      <th>7</th>\n",
       "      <td>8</td>\n",
       "      <td>Dies ist eine alltägliche Methode für den Schu...</td>\n",
       "      <td>Die eigentliche Grundlage von Profitability li...</td>\n",
       "      <td>nicht kooperieren</td>\n",
       "      <td>nicht kooperieren</td>\n",
       "      <td>Als Gesetz sind wir ihm unterworfen, ohne die ...</td>\n",
       "      <td>Der -Realismus des homo oeconomicus liegt also...</td>\n",
       "      <td>KarlHomannMoralischeMotivation.pdf</td>\n",
       "      <td>TheSenseAndLimitsOfTheEconomicMethodInBusiness...</td>\n",
       "    </tr>\n",
       "    <tr>\n",
       "      <th>8</th>\n",
       "      <td>9</td>\n",
       "      <td>Die Analyse von Wahrheiten ist ein wissenschaf...</td>\n",
       "      <td>Dies kann nicht sein! Die allgemeine Begründun...</td>\n",
       "      <td>nicht kooperieren</td>\n",
       "      <td>nicht kooperieren</td>\n",
       "      <td>Dann stehen wir sofort vor der Frage, ob und w...</td>\n",
       "      <td>Dies wird aber nicht durch eine Änderung der P...</td>\n",
       "      <td>KarlHomannMoralischeMotivation.pdf</td>\n",
       "      <td>KarlHomannMoralischeMotivation.pdf</td>\n",
       "    </tr>\n",
       "    <tr>\n",
       "      <th>9</th>\n",
       "      <td>10</td>\n",
       "      <td>Das Gegenteil ist ja richtig. Die Effizienzkra...</td>\n",
       "      <td>Die Entstehung von Projekten kann die Geschwin...</td>\n",
       "      <td>nicht kooperieren</td>\n",
       "      <td>kooperieren</td>\n",
       "      <td>Die frühen Arbeitskräfte waren heterogen und b...</td>\n",
       "      <td>Damit wachsen auch der In- dividualethik neue ...</td>\n",
       "      <td>AnOrdnomoicApproachToBusinessEthicsPiesDeutsch...</td>\n",
       "      <td>PiesZeitFuerMoral.pdf</td>\n",
       "    </tr>\n",
       "    <tr>\n",
       "      <th>10</th>\n",
       "      <td>11</td>\n",
       "      <td>Die Einstufung von Menschen als Umweltsystem i...</td>\n",
       "      <td>Diese Mustervielfalt ist eine Voraussetzung fü...</td>\n",
       "      <td>nicht kooperieren</td>\n",
       "      <td>nicht kooperieren</td>\n",
       "      <td>In der 57 Das letzte Beispiel ist von Nida-Rüm...</td>\n",
       "      <td>Diese Frage kann historisch oder praktisch ver...</td>\n",
       "      <td>KarlHomannMoralischeMotivation.pdf</td>\n",
       "      <td>KarlHomannMoralischeMotivation.pdf</td>\n",
       "    </tr>\n",
       "    <tr>\n",
       "      <th>11</th>\n",
       "      <td>12</td>\n",
       "      <td>Das Problem ist nicht mit dem Wesen von Entsch...</td>\n",
       "      <td>Ein positiver Effekt einer wissenschaftlichen ...</td>\n",
       "      <td>nicht kooperieren</td>\n",
       "      <td>nicht kooperieren</td>\n",
       "      <td>Schließlich haben wir es auch nicht mit einer ...</td>\n",
       "      <td>In welchem Sinne kann man in einer solchen Kon...</td>\n",
       "      <td>KarlHommann_2008.pdf</td>\n",
       "      <td>KarlHomannMoralischeMotivation.pdf</td>\n",
       "    </tr>\n",
       "    <tr>\n",
       "      <th>12</th>\n",
       "      <td>13</td>\n",
       "      <td>Die Gesamtzahl aller Umwandlungen des Urnensch...</td>\n",
       "      <td>Um die Sicherheit von Unternehmen zu erhöhen u...</td>\n",
       "      <td>kooperieren</td>\n",
       "      <td>kooperieren</td>\n",
       "      <td>So ist diese Art des Trade-Off-Denkens, obwohl...</td>\n",
       "      <td>Um es zu wiederholen: Jeder Konflikt hat den S...</td>\n",
       "      <td>AnOrdnomoicApproachToBusinessEthicsPiesDeutsch...</td>\n",
       "      <td>AnOrdnomoicApproachToBusinessEthicsPiesDeutsch...</td>\n",
       "    </tr>\n",
       "    <tr>\n",
       "      <th>13</th>\n",
       "      <td>14</td>\n",
       "      <td>Der Kontext bezieht sich auf einen Vergleich z...</td>\n",
       "      <td>Das Probleme bezieht sich auf das, was die Käu...</td>\n",
       "      <td>nicht kooperieren</td>\n",
       "      <td>nicht kooperieren</td>\n",
       "      <td>Klare Beispiele im ökonomischen Kontext finden...</td>\n",
       "      <td>Meiner Ansicht nach ist das, was an einem solc...</td>\n",
       "      <td>MinnameierHappyVictimizer.pdf</td>\n",
       "      <td>TheSenseAndLimitsOfTheEconomicMethodInBusiness...</td>\n",
       "    </tr>\n",
       "    <tr>\n",
       "      <th>14</th>\n",
       "      <td>15</td>\n",
       "      <td>Dieses Kapitel befasst sich mit dem Anspruch, ...</td>\n",
       "      <td>Das ist eine richtige Einführung des Ökonomen ...</td>\n",
       "      <td>kooperieren</td>\n",
       "      <td>kooperieren</td>\n",
       "      <td>Dieses tritt mit dem Anspruch der Verbindlichk...</td>\n",
       "      <td>Es ist klar, dass alle wichtigen Ökonomen dies...</td>\n",
       "      <td>KarlHommann_2008.pdf</td>\n",
       "      <td>TheSenseAndLimitsOfTheEconomicMethodInBusiness...</td>\n",
       "    </tr>\n",
       "    <tr>\n",
       "      <th>15</th>\n",
       "      <td>16</td>\n",
       "      <td>Jeder von uns hat die Möglichkeit sich selbst ...</td>\n",
       "      <td>Das ist eine Frage des Wissens, nicht eines Ha...</td>\n",
       "      <td>nicht kooperieren</td>\n",
       "      <td>nicht kooperieren</td>\n",
       "      <td>Ich habe dieses Thema gewählt, weil es hier ei...</td>\n",
       "      <td>Dies ist nicht zu sagen, dass es hier eine Fra...</td>\n",
       "      <td>TheSenseAndLimitsOfTheEconomicMethodInBusiness...</td>\n",
       "      <td>TheSenseAndLimitsOfTheEconomicMethodInBusiness...</td>\n",
       "    </tr>\n",
       "    <tr>\n",
       "      <th>16</th>\n",
       "      <td>17</td>\n",
       "      <td>Das Umfeld ist sicherlich zu schaden und könnt...</td>\n",
       "      <td>Wie wirkt sich das auf den gesamten Wertprozes...</td>\n",
       "      <td>kooperieren</td>\n",
       "      <td>kooperieren</td>\n",
       "      <td>Sie leugnen nicht den Menschen, aber dieser Be...</td>\n",
       "      <td>Die Wirtschaftsethik argumentiert in einem and...</td>\n",
       "      <td>KarlHomannMoralischeMotivation.pdf</td>\n",
       "      <td>KarlHommann_2008.pdf</td>\n",
       "    </tr>\n",
       "    <tr>\n",
       "      <th>17</th>\n",
       "      <td>18</td>\n",
       "      <td>Das sind keine falschen Einstellungsvorstellun...</td>\n",
       "      <td>Die Wirtschaft beschäftigt jederzeit und im Ra...</td>\n",
       "      <td>kooperieren</td>\n",
       "      <td>kooperieren</td>\n",
       "      <td>Das Beispiel Krupp stellt daher den falschen G...</td>\n",
       "      <td>35 Die neuere experimentelle Wirtschaftsforsch...</td>\n",
       "      <td>AnOrdnomoicApproachToBusinessEthicsPiesDeutsch...</td>\n",
       "      <td>KarlHomannMoralischeMotivation.pdf</td>\n",
       "    </tr>\n",
       "    <tr>\n",
       "      <th>18</th>\n",
       "      <td>19</td>\n",
       "      <td>Es existiert aber kein neuerer Industriehandel...</td>\n",
       "      <td>Eine der wesentlichen Eigenschaften des Kapite...</td>\n",
       "      <td>kooperieren</td>\n",
       "      <td>kooperieren</td>\n",
       "      <td>Wenn man beispielsweise für Ehrlichkeit eintri...</td>\n",
       "      <td>Nun gibt es zweifellos Adressatenkreise und Si...</td>\n",
       "      <td>MinnameierHappyVictimizer.pdf</td>\n",
       "      <td>KarlHomannMoralischeMotivation.pdf</td>\n",
       "    </tr>\n",
       "    <tr>\n",
       "      <th>19</th>\n",
       "      <td>20</td>\n",
       "      <td>Dies ist eine sachliche Position, die von mein...</td>\n",
       "      <td>Es gibt zwei grundlegende Möglichkeiten, um ei...</td>\n",
       "      <td>nicht kooperieren</td>\n",
       "      <td>kooperieren</td>\n",
       "      <td>Dies ist nicht zu sagen, dass es hier eine Fra...</td>\n",
       "      <td>besteht darin, nicht bevorzugt Strategien zu v...</td>\n",
       "      <td>TheSenseAndLimitsOfTheEconomicMethodInBusiness...</td>\n",
       "      <td>AnOrdnomoicApproachToBusinessEthicsPiesDeutsch...</td>\n",
       "    </tr>\n",
       "    <tr>\n",
       "      <th>20</th>\n",
       "      <td>21</td>\n",
       "      <td>Diese Methode ist für einen Großteil von Wirts...</td>\n",
       "      <td>Das wird immer noch das Problem sein. Es gibt ...</td>\n",
       "      <td>nicht kooperieren</td>\n",
       "      <td>kooperieren</td>\n",
       "      <td>Vertikale Pfeile gelten für Spieler A; horizon...</td>\n",
       "      <td>Das normative Ziel der praktischen Philosophie...</td>\n",
       "      <td>AnOrdnomoicApproachToBusinessEthicsPiesDeutsch...</td>\n",
       "      <td>HomannTheorieaufrissDerWirtschaftsethik.pdf</td>\n",
       "    </tr>\n",
       "    <tr>\n",
       "      <th>21</th>\n",
       "      <td>22</td>\n",
       "      <td>Das Normativsichtpoint ist eine konzeptionelle...</td>\n",
       "      <td>Profit ist wesentlich für die Fortentwicklung ...</td>\n",
       "      <td>kooperieren</td>\n",
       "      <td>kooperieren</td>\n",
       "      <td>Das derzeit entwickelte rivalisierende Paradig...</td>\n",
       "      <td>Jeder Mensch soll sie aufweisen, allerdings in...</td>\n",
       "      <td>TheSenseAndLimitsOfTheEconomicMethodInBusiness...</td>\n",
       "      <td>MinnameierHappyVictimizer.pdf</td>\n",
       "    </tr>\n",
       "    <tr>\n",
       "      <th>22</th>\n",
       "      <td>23</td>\n",
       "      <td>Die Umwelthilfe ist nicht nur eine Art Rescue ...</td>\n",
       "      <td>Das zu den gleichen Zwecken arbeitende Konstru...</td>\n",
       "      <td>kooperieren</td>\n",
       "      <td>kooperieren</td>\n",
       "      <td>Ich habe das Gegenargument, das zeigt, dass di...</td>\n",
       "      <td>Die klassische Erklärung des HVP besagt, dass ...</td>\n",
       "      <td>TheSenseAndLimitsOfTheEconomicMethodInBusiness...</td>\n",
       "      <td>MinnameierHappyVictimizer.pdf</td>\n",
       "    </tr>\n",
       "    <tr>\n",
       "      <th>23</th>\n",
       "      <td>24</td>\n",
       "      <td>Diese Behauptung ist falsch, denn schon jetzt ...</td>\n",
       "      <td>Es scheint wahrscheinlich zu sein, daß es nur ...</td>\n",
       "      <td>nicht kooperieren</td>\n",
       "      <td>nicht kooperieren</td>\n",
       "      <td>würde hier nicht mehr von „Moral” reden, weil ...</td>\n",
       "      <td>Es geht auch nicht um die Frage, ob es logisch...</td>\n",
       "      <td>KarlHomannMoralischeMotivation.pdf</td>\n",
       "      <td>KarlHommann_2008.pdf</td>\n",
       "    </tr>\n",
       "    <tr>\n",
       "      <th>24</th>\n",
       "      <td>25</td>\n",
       "      <td>Ich habe schon von anderen Tieren getan, die d...</td>\n",
       "      <td>Nein, das bedeutet kein moralischer Vorbehalt....</td>\n",
       "      <td>kooperieren</td>\n",
       "      <td>kooperieren</td>\n",
       "      <td>Schlussbemerkung Ich habe in diesem Beitrag ge...</td>\n",
       "      <td>Das Standardmodell der Ethik Die Notwendigkeit...</td>\n",
       "      <td>KarlHomannMoralischeMotivation.pdf</td>\n",
       "      <td>KarlHommann_2008.pdf</td>\n",
       "    </tr>\n",
       "  </tbody>\n",
       "</table>\n",
       "</div>"
      ],
      "text/plain": [
       "<google.colab.data_table.DataTable object>"
      ]
     },
     "execution_count": 24,
     "metadata": {},
     "output_type": "execute_result"
    }
   ],
   "source": [
    "#  Pfad zur CSV-Datei\n",
    "source = drive_folder + \"/agenten_dialog_mod_25runden_2.csv\"\n",
    "\n",
    "# 📤 CSV lesen mit festen Spaltennamen\n",
    "df_mod_read = pd.read_csv(\n",
    "    source,\n",
    "    names=[\"Runde\", \"Antwort_C\", \"Antwort_D\", \"Entscheidung_C\", \"Entscheidung_D\", \"Moderation_C\", \"Moderation_D\",\"Quelle_C\", \"Quelle_D\"],\n",
    "    skiprows=1,\n",
    "    encoding=\"utf-8\"\n",
    ")\n",
    "\n",
    "# Texte bereinigen\n",
    "for spalte in [\"Antwort_C\", \"Antwort_D\", \"Moderation_C\", \"Moderation_D\"]:\n",
    "    df_mod_read[spalte] = (\n",
    "        df_mod_read[spalte]\n",
    "        .astype(str)\n",
    "        .str.replace(r\"\\n\", \" \", regex=True)\n",
    "        .str.replace(r\"<\\|assistant\\|>\", \"\", regex=True)\n",
    "        .str.replace(\"Assistant:\", \"\")\n",
    "        .str.strip()\n",
    "    )\n",
    "\n",
    "# Anzeige der Tabelle\n",
    "from google.colab import data_table\n",
    "print(\" Vorschau auf agenten_dialog_mod.csv:\")\n",
    "data_table.DataTable(df_mod_read.head(50))"
   ]
  }
 ],
 "metadata": {
  "accelerator": "GPU",
  "colab": {
   "collapsed_sections": [
    "24252788",
    "de9d0a11",
    "xy7ILveBZIcE",
    "bae67df1",
    "v89ApDiuedap"
   ],
   "gpuType": "A100",
   "machine_shape": "hm",
   "provenance": []
  },
  "kernelspec": {
   "display_name": "Python 3",
   "name": "python3"
  },
  "language_info": {
   "name": "python"
  }
 },
 "nbformat": 4,
 "nbformat_minor": 5
}
